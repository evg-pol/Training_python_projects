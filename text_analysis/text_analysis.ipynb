{
 "cells": [
  {
   "cell_type": "markdown",
   "metadata": {},
   "source": [
    "<div class=\"toc\"><ul class=\"toc-item\"><li><span><a href=\"#Data-preparation\" data-toc-modified-id=\"Data-preparation-1\"><span class=\"toc-item-num\">1&nbsp;&nbsp;</span>Data preparation</a></span><ul class=\"toc-item\"><li><span><a href=\"#Cleaning-and-lemmatization\" data-toc-modified-id=\"Cleaning-and-lemmatization-1.1\"><span class=\"toc-item-num\">1.1&nbsp;&nbsp;</span>Cleaning and lemmatization</a></span></li><li><span><a href=\"#Length-of-toxic-and-non-toxic-comments\" data-toc-modified-id=\"Length-of-toxic-and-non-toxic-comments-1.2\"><span class=\"toc-item-num\">1.2&nbsp;&nbsp;</span>Length of toxic and non toxic comments</a></span></li><li><span><a href=\"#Bag-of-wors\" data-toc-modified-id=\"Bag-of-wors-1.3\"><span class=\"toc-item-num\">1.3&nbsp;&nbsp;</span>Bag of wors</a></span><ul class=\"toc-item\"><li><span><a href=\"#Corpus\" data-toc-modified-id=\"Corpus-1.3.1\"><span class=\"toc-item-num\">1.3.1&nbsp;&nbsp;</span>Corpus</a></span></li><li><span><a href=\"#Toxic-comments\" data-toc-modified-id=\"Toxic-comments-1.3.2\"><span class=\"toc-item-num\">1.3.2&nbsp;&nbsp;</span>Toxic comments</a></span></li><li><span><a href=\"#Non-toxic-comments\" data-toc-modified-id=\"Non-toxic-comments-1.3.3\"><span class=\"toc-item-num\">1.3.3&nbsp;&nbsp;</span>Non-toxic comments</a></span></li></ul></li><li><span><a href=\"#Samples\" data-toc-modified-id=\"Samples-1.4\"><span class=\"toc-item-num\">1.4&nbsp;&nbsp;</span>Samples</a></span></li><li><span><a href=\"#Summary\" data-toc-modified-id=\"Summary-1.5\"><span class=\"toc-item-num\">1.5&nbsp;&nbsp;</span>Summary</a></span></li></ul></li><li><span><a href=\"#Machine-learning\" data-toc-modified-id=\"Machine-learning-2\"><span class=\"toc-item-num\">2&nbsp;&nbsp;</span>Machine learning</a></span><ul class=\"toc-item\"><li><span><a href=\"#TFIDF\" data-toc-modified-id=\"TFIDF-2.1\"><span class=\"toc-item-num\">2.1&nbsp;&nbsp;</span>TFIDF</a></span></li><li><span><a href=\"#Log-regression\" data-toc-modified-id=\"Log-regression-2.2\"><span class=\"toc-item-num\">2.2&nbsp;&nbsp;</span>Log regression</a></span></li><li><span><a href=\"#Random-forest\" data-toc-modified-id=\"Random-forest-2.3\"><span class=\"toc-item-num\">2.3&nbsp;&nbsp;</span>Random forest</a></span></li><li><span><a href=\"#LGBM\" data-toc-modified-id=\"LGBM-2.4\"><span class=\"toc-item-num\">2.4&nbsp;&nbsp;</span>LGBM</a></span></li><li><span><a href=\"#Comparison\" data-toc-modified-id=\"Comparison-2.5\"><span class=\"toc-item-num\">2.5&nbsp;&nbsp;</span>Comparison</a></span></li><li><span><a href=\"#The-best-model-of-test-sample\" data-toc-modified-id=\"The-best-model-of-test-sample-2.6\"><span class=\"toc-item-num\">2.6&nbsp;&nbsp;</span>The best model of test sample</a></span></li></ul></li><li><span><a href=\"#Conclusion\" data-toc-modified-id=\"Conclusion-3\"><span class=\"toc-item-num\">3&nbsp;&nbsp;</span>Conclusion</a>"
   ]
  },
  {
   "cell_type": "markdown",
   "metadata": {},
   "source": [
    "\n",
    " # Project for text analysis\n",
    " \n",
    " The hypothetical e-commerce platform is launching a new feature where users can edit and enhance product descriptions, similar to wiki communities. This means that customers can propose edits and comment on changes made by others. The store requires a tool that can identify toxic comments and flag them for moderation.\n",
    "\n",
    "The project's objective is to train a model to classify comments as positive or negative, utilizing a dataset with labels for comment toxicity. The dataset includes two columns: \"text\" for the comment text and \"toxic\" for the target variable.\n",
    "\n",
    "The project aims to achieve a minimum F1 quality metric of 0.75.\n",
    "\n"
   ]
  },
  {
   "cell_type": "markdown",
   "metadata": {},
   "source": [
    "## Data preparation"
   ]
  },
  {
   "cell_type": "code",
   "execution_count": 1,
   "metadata": {},
   "outputs": [],
   "source": [
    "import numpy as np\n",
    "import pandas as pd\n",
    "\n",
    "from nltk.corpus import stopwords\n",
    "import re \n",
    "import string\n",
    "import spacy\n",
    "from spacy.lang.en.stop_words import STOP_WORDS\n",
    "from tqdm import tqdm, tqdm_notebook, notebook\n",
    "from nltk.corpus import stopwords\n",
    "from sklearn.feature_extraction.text import CountVectorizer\n",
    "from sklearn.metrics import f1_score\n",
    "from sklearn.model_selection import train_test_split\n",
    "from sklearn.feature_extraction.text import TfidfVectorizer\n",
    "from nltk.corpus import stopwords as nltk_stopwords\n",
    "from sklearn.ensemble import RandomForestClassifier\n",
    "from sklearn.linear_model import LogisticRegression \n",
    "import matplotlib.pyplot as plt\n",
    "import lightgbm as lgb\n",
    "from sklearn.dummy import DummyClassifier\n",
    "\n"
   ]
  },
  {
   "cell_type": "code",
   "execution_count": 2,
   "metadata": {},
   "outputs": [],
   "source": [
    "data=pd.read_csv('/datasets/toxic_comments.csv', index_col=0)"
   ]
  },
  {
   "cell_type": "code",
   "execution_count": 3,
   "metadata": {},
   "outputs": [
    {
     "name": "stdout",
     "output_type": "stream",
     "text": [
      "<class 'pandas.core.frame.DataFrame'>\n",
      "Int64Index: 159292 entries, 0 to 159450\n",
      "Data columns (total 2 columns):\n",
      " #   Column  Non-Null Count   Dtype \n",
      "---  ------  --------------   ----- \n",
      " 0   text    159292 non-null  object\n",
      " 1   toxic   159292 non-null  int64 \n",
      "dtypes: int64(1), object(1)\n",
      "memory usage: 3.6+ MB\n"
     ]
    }
   ],
   "source": [
    "data.info()"
   ]
  },
  {
   "cell_type": "code",
   "execution_count": 4,
   "metadata": {},
   "outputs": [
    {
     "data": {
      "text/html": [
       "<div>\n",
       "<style scoped>\n",
       "    .dataframe tbody tr th:only-of-type {\n",
       "        vertical-align: middle;\n",
       "    }\n",
       "\n",
       "    .dataframe tbody tr th {\n",
       "        vertical-align: top;\n",
       "    }\n",
       "\n",
       "    .dataframe thead th {\n",
       "        text-align: right;\n",
       "    }\n",
       "</style>\n",
       "<table border=\"1\" class=\"dataframe\">\n",
       "  <thead>\n",
       "    <tr style=\"text-align: right;\">\n",
       "      <th></th>\n",
       "      <th>text</th>\n",
       "      <th>toxic</th>\n",
       "    </tr>\n",
       "  </thead>\n",
       "  <tbody>\n",
       "    <tr>\n",
       "      <th>0</th>\n",
       "      <td>Explanation\\nWhy the edits made under my usern...</td>\n",
       "      <td>0</td>\n",
       "    </tr>\n",
       "    <tr>\n",
       "      <th>1</th>\n",
       "      <td>D'aww! He matches this background colour I'm s...</td>\n",
       "      <td>0</td>\n",
       "    </tr>\n",
       "    <tr>\n",
       "      <th>2</th>\n",
       "      <td>Hey man, I'm really not trying to edit war. It...</td>\n",
       "      <td>0</td>\n",
       "    </tr>\n",
       "    <tr>\n",
       "      <th>3</th>\n",
       "      <td>\"\\nMore\\nI can't make any real suggestions on ...</td>\n",
       "      <td>0</td>\n",
       "    </tr>\n",
       "    <tr>\n",
       "      <th>4</th>\n",
       "      <td>You, sir, are my hero. Any chance you remember...</td>\n",
       "      <td>0</td>\n",
       "    </tr>\n",
       "  </tbody>\n",
       "</table>\n",
       "</div>"
      ],
      "text/plain": [
       "                                                text  toxic\n",
       "0  Explanation\\nWhy the edits made under my usern...      0\n",
       "1  D'aww! He matches this background colour I'm s...      0\n",
       "2  Hey man, I'm really not trying to edit war. It...      0\n",
       "3  \"\\nMore\\nI can't make any real suggestions on ...      0\n",
       "4  You, sir, are my hero. Any chance you remember...      0"
      ]
     },
     "execution_count": 4,
     "metadata": {},
     "output_type": "execute_result"
    }
   ],
   "source": [
    "data.head()"
   ]
  },
  {
   "cell_type": "code",
   "execution_count": 5,
   "metadata": {},
   "outputs": [],
   "source": [
    "pd.set_option('display.max_columns', None)"
   ]
  },
  {
   "cell_type": "code",
   "execution_count": 6,
   "metadata": {},
   "outputs": [
    {
     "data": {
      "text/plain": [
       "0"
      ]
     },
     "execution_count": 6,
     "metadata": {},
     "output_type": "execute_result"
    }
   ],
   "source": [
    "#Duplicates\n",
    "data.duplicated().sum()"
   ]
  },
  {
   "cell_type": "code",
   "execution_count": 7,
   "metadata": {},
   "outputs": [
    {
     "data": {
      "text/plain": [
       "0    143106\n",
       "1     16186\n",
       "Name: toxic, dtype: int64"
      ]
     },
     "execution_count": 7,
     "metadata": {},
     "output_type": "execute_result"
    }
   ],
   "source": [
    "#Class balance\n",
    "data['toxic'].value_counts()"
   ]
  },
  {
   "cell_type": "markdown",
   "metadata": {},
   "source": [
    "### Cleaning and lemmatization"
   ]
  },
  {
   "cell_type": "code",
   "execution_count": 8,
   "metadata": {},
   "outputs": [],
   "source": [
    "def clean_text(text):\n",
    "    text = re.sub(r\"(?:\\n|\\r)\", \" \", text)\n",
    "    text = re.sub(r\"[^a-zA-Z ]\", \"\", text).strip()\n",
    "    text=text.lower()\n",
    "    return text "
   ]
  },
  {
   "cell_type": "code",
   "execution_count": 9,
   "metadata": {},
   "outputs": [],
   "source": [
    "data['clean_text'] = data['text'].apply(clean_text)"
   ]
  },
  {
   "cell_type": "code",
   "execution_count": 10,
   "metadata": {},
   "outputs": [
    {
     "data": {
      "text/html": [
       "<div>\n",
       "<style scoped>\n",
       "    .dataframe tbody tr th:only-of-type {\n",
       "        vertical-align: middle;\n",
       "    }\n",
       "\n",
       "    .dataframe tbody tr th {\n",
       "        vertical-align: top;\n",
       "    }\n",
       "\n",
       "    .dataframe thead th {\n",
       "        text-align: right;\n",
       "    }\n",
       "</style>\n",
       "<table border=\"1\" class=\"dataframe\">\n",
       "  <thead>\n",
       "    <tr style=\"text-align: right;\">\n",
       "      <th></th>\n",
       "      <th>text</th>\n",
       "      <th>toxic</th>\n",
       "      <th>clean_text</th>\n",
       "    </tr>\n",
       "  </thead>\n",
       "  <tbody>\n",
       "    <tr>\n",
       "      <th>0</th>\n",
       "      <td>Explanation\\nWhy the edits made under my usern...</td>\n",
       "      <td>0</td>\n",
       "      <td>explanation why the edits made under my userna...</td>\n",
       "    </tr>\n",
       "    <tr>\n",
       "      <th>1</th>\n",
       "      <td>D'aww! He matches this background colour I'm s...</td>\n",
       "      <td>0</td>\n",
       "      <td>daww he matches this background colour im seem...</td>\n",
       "    </tr>\n",
       "    <tr>\n",
       "      <th>2</th>\n",
       "      <td>Hey man, I'm really not trying to edit war. It...</td>\n",
       "      <td>0</td>\n",
       "      <td>hey man im really not trying to edit war its j...</td>\n",
       "    </tr>\n",
       "    <tr>\n",
       "      <th>3</th>\n",
       "      <td>\"\\nMore\\nI can't make any real suggestions on ...</td>\n",
       "      <td>0</td>\n",
       "      <td>more i cant make any real suggestions on impro...</td>\n",
       "    </tr>\n",
       "    <tr>\n",
       "      <th>4</th>\n",
       "      <td>You, sir, are my hero. Any chance you remember...</td>\n",
       "      <td>0</td>\n",
       "      <td>you sir are my hero any chance you remember wh...</td>\n",
       "    </tr>\n",
       "    <tr>\n",
       "      <th>...</th>\n",
       "      <td>...</td>\n",
       "      <td>...</td>\n",
       "      <td>...</td>\n",
       "    </tr>\n",
       "    <tr>\n",
       "      <th>159446</th>\n",
       "      <td>\":::::And for the second time of asking, when ...</td>\n",
       "      <td>0</td>\n",
       "      <td>and for the second time of asking when your vi...</td>\n",
       "    </tr>\n",
       "    <tr>\n",
       "      <th>159447</th>\n",
       "      <td>You should be ashamed of yourself \\n\\nThat is ...</td>\n",
       "      <td>0</td>\n",
       "      <td>you should be ashamed of yourself   that is a ...</td>\n",
       "    </tr>\n",
       "    <tr>\n",
       "      <th>159448</th>\n",
       "      <td>Spitzer \\n\\nUmm, theres no actual article for ...</td>\n",
       "      <td>0</td>\n",
       "      <td>spitzer   umm theres no actual article for pro...</td>\n",
       "    </tr>\n",
       "    <tr>\n",
       "      <th>159449</th>\n",
       "      <td>And it looks like it was actually you who put ...</td>\n",
       "      <td>0</td>\n",
       "      <td>and it looks like it was actually you who put ...</td>\n",
       "    </tr>\n",
       "    <tr>\n",
       "      <th>159450</th>\n",
       "      <td>\"\\nAnd ... I really don't think you understand...</td>\n",
       "      <td>0</td>\n",
       "      <td>and  i really dont think you understand  i cam...</td>\n",
       "    </tr>\n",
       "  </tbody>\n",
       "</table>\n",
       "<p>159292 rows × 3 columns</p>\n",
       "</div>"
      ],
      "text/plain": [
       "                                                     text  toxic  \\\n",
       "0       Explanation\\nWhy the edits made under my usern...      0   \n",
       "1       D'aww! He matches this background colour I'm s...      0   \n",
       "2       Hey man, I'm really not trying to edit war. It...      0   \n",
       "3       \"\\nMore\\nI can't make any real suggestions on ...      0   \n",
       "4       You, sir, are my hero. Any chance you remember...      0   \n",
       "...                                                   ...    ...   \n",
       "159446  \":::::And for the second time of asking, when ...      0   \n",
       "159447  You should be ashamed of yourself \\n\\nThat is ...      0   \n",
       "159448  Spitzer \\n\\nUmm, theres no actual article for ...      0   \n",
       "159449  And it looks like it was actually you who put ...      0   \n",
       "159450  \"\\nAnd ... I really don't think you understand...      0   \n",
       "\n",
       "                                               clean_text  \n",
       "0       explanation why the edits made under my userna...  \n",
       "1       daww he matches this background colour im seem...  \n",
       "2       hey man im really not trying to edit war its j...  \n",
       "3       more i cant make any real suggestions on impro...  \n",
       "4       you sir are my hero any chance you remember wh...  \n",
       "...                                                   ...  \n",
       "159446  and for the second time of asking when your vi...  \n",
       "159447  you should be ashamed of yourself   that is a ...  \n",
       "159448  spitzer   umm theres no actual article for pro...  \n",
       "159449  and it looks like it was actually you who put ...  \n",
       "159450  and  i really dont think you understand  i cam...  \n",
       "\n",
       "[159292 rows x 3 columns]"
      ]
     },
     "execution_count": 10,
     "metadata": {},
     "output_type": "execute_result"
    }
   ],
   "source": [
    "data"
   ]
  },
  {
   "cell_type": "code",
   "execution_count": 11,
   "metadata": {},
   "outputs": [],
   "source": [
    "#Lemmatization\n",
    "disabled_pipes = [ \"parser\",  \"ner\"]\n",
    "nlp = spacy.load('en_core_web_sm', disable=disabled_pipes)\n",
    "def lemmatize(text):\n",
    "    part = []\n",
    "    for token in nlp(text):\n",
    "        if token.is_stop == False: \n",
    "            part.append(token.lemma_)\n",
    "    return \" \".join(part)"
   ]
  },
  {
   "cell_type": "code",
   "execution_count": 12,
   "metadata": {},
   "outputs": [
    {
     "name": "stderr",
     "output_type": "stream",
     "text": [
      "100%|██████████| 159292/159292 [18:45<00:00, 141.56it/s]\n"
     ]
    }
   ],
   "source": [
    "tqdm.pandas() #progress\n",
    "data['lemma'] = data['clean_text'].progress_apply(lemmatize) "
   ]
  },
  {
   "cell_type": "code",
   "execution_count": 13,
   "metadata": {
    "scrolled": true
   },
   "outputs": [
    {
     "data": {
      "text/html": [
       "<div>\n",
       "<style scoped>\n",
       "    .dataframe tbody tr th:only-of-type {\n",
       "        vertical-align: middle;\n",
       "    }\n",
       "\n",
       "    .dataframe tbody tr th {\n",
       "        vertical-align: top;\n",
       "    }\n",
       "\n",
       "    .dataframe thead th {\n",
       "        text-align: right;\n",
       "    }\n",
       "</style>\n",
       "<table border=\"1\" class=\"dataframe\">\n",
       "  <thead>\n",
       "    <tr style=\"text-align: right;\">\n",
       "      <th></th>\n",
       "      <th>text</th>\n",
       "      <th>toxic</th>\n",
       "      <th>clean_text</th>\n",
       "      <th>lemma</th>\n",
       "    </tr>\n",
       "  </thead>\n",
       "  <tbody>\n",
       "    <tr>\n",
       "      <th>0</th>\n",
       "      <td>Explanation\\nWhy the edits made under my usern...</td>\n",
       "      <td>0</td>\n",
       "      <td>explanation why the edits made under my userna...</td>\n",
       "      <td>explanation edit username hardcore metallica f...</td>\n",
       "    </tr>\n",
       "    <tr>\n",
       "      <th>1</th>\n",
       "      <td>D'aww! He matches this background colour I'm s...</td>\n",
       "      <td>0</td>\n",
       "      <td>daww he matches this background colour im seem...</td>\n",
       "      <td>daww match background colour m seemingly stuck...</td>\n",
       "    </tr>\n",
       "    <tr>\n",
       "      <th>2</th>\n",
       "      <td>Hey man, I'm really not trying to edit war. It...</td>\n",
       "      <td>0</td>\n",
       "      <td>hey man im really not trying to edit war its j...</td>\n",
       "      <td>hey man m try edit war guy constantly remove r...</td>\n",
       "    </tr>\n",
       "    <tr>\n",
       "      <th>3</th>\n",
       "      <td>\"\\nMore\\nI can't make any real suggestions on ...</td>\n",
       "      <td>0</td>\n",
       "      <td>more i cant make any real suggestions on impro...</td>\n",
       "      <td>not real suggestion improvement   wonder secti...</td>\n",
       "    </tr>\n",
       "    <tr>\n",
       "      <th>4</th>\n",
       "      <td>You, sir, are my hero. Any chance you remember...</td>\n",
       "      <td>0</td>\n",
       "      <td>you sir are my hero any chance you remember wh...</td>\n",
       "      <td>sir hero chance remember page s</td>\n",
       "    </tr>\n",
       "  </tbody>\n",
       "</table>\n",
       "</div>"
      ],
      "text/plain": [
       "                                                text  toxic  \\\n",
       "0  Explanation\\nWhy the edits made under my usern...      0   \n",
       "1  D'aww! He matches this background colour I'm s...      0   \n",
       "2  Hey man, I'm really not trying to edit war. It...      0   \n",
       "3  \"\\nMore\\nI can't make any real suggestions on ...      0   \n",
       "4  You, sir, are my hero. Any chance you remember...      0   \n",
       "\n",
       "                                          clean_text  \\\n",
       "0  explanation why the edits made under my userna...   \n",
       "1  daww he matches this background colour im seem...   \n",
       "2  hey man im really not trying to edit war its j...   \n",
       "3  more i cant make any real suggestions on impro...   \n",
       "4  you sir are my hero any chance you remember wh...   \n",
       "\n",
       "                                               lemma  \n",
       "0  explanation edit username hardcore metallica f...  \n",
       "1  daww match background colour m seemingly stuck...  \n",
       "2  hey man m try edit war guy constantly remove r...  \n",
       "3  not real suggestion improvement   wonder secti...  \n",
       "4                    sir hero chance remember page s  "
      ]
     },
     "execution_count": 13,
     "metadata": {},
     "output_type": "execute_result"
    }
   ],
   "source": [
    "data.head()"
   ]
  },
  {
   "cell_type": "markdown",
   "metadata": {},
   "source": [
    "### Length of toxic and non toxic comments"
   ]
  },
  {
   "cell_type": "code",
   "execution_count": 14,
   "metadata": {},
   "outputs": [],
   "source": [
    "data['len_com'] = data['text'].apply(len)"
   ]
  },
  {
   "cell_type": "code",
   "execution_count": 15,
   "metadata": {},
   "outputs": [
    {
     "data": {
      "text/html": [
       "<div>\n",
       "<style scoped>\n",
       "    .dataframe tbody tr th:only-of-type {\n",
       "        vertical-align: middle;\n",
       "    }\n",
       "\n",
       "    .dataframe tbody tr th {\n",
       "        vertical-align: top;\n",
       "    }\n",
       "\n",
       "    .dataframe thead th {\n",
       "        text-align: right;\n",
       "    }\n",
       "</style>\n",
       "<table border=\"1\" class=\"dataframe\">\n",
       "  <thead>\n",
       "    <tr style=\"text-align: right;\">\n",
       "      <th></th>\n",
       "      <th>text</th>\n",
       "      <th>toxic</th>\n",
       "      <th>clean_text</th>\n",
       "      <th>lemma</th>\n",
       "      <th>len_com</th>\n",
       "    </tr>\n",
       "  </thead>\n",
       "  <tbody>\n",
       "    <tr>\n",
       "      <th>0</th>\n",
       "      <td>Explanation\\nWhy the edits made under my usern...</td>\n",
       "      <td>0</td>\n",
       "      <td>explanation why the edits made under my userna...</td>\n",
       "      <td>explanation edit username hardcore metallica f...</td>\n",
       "      <td>264</td>\n",
       "    </tr>\n",
       "    <tr>\n",
       "      <th>1</th>\n",
       "      <td>D'aww! He matches this background colour I'm s...</td>\n",
       "      <td>0</td>\n",
       "      <td>daww he matches this background colour im seem...</td>\n",
       "      <td>daww match background colour m seemingly stuck...</td>\n",
       "      <td>112</td>\n",
       "    </tr>\n",
       "    <tr>\n",
       "      <th>2</th>\n",
       "      <td>Hey man, I'm really not trying to edit war. It...</td>\n",
       "      <td>0</td>\n",
       "      <td>hey man im really not trying to edit war its j...</td>\n",
       "      <td>hey man m try edit war guy constantly remove r...</td>\n",
       "      <td>233</td>\n",
       "    </tr>\n",
       "    <tr>\n",
       "      <th>3</th>\n",
       "      <td>\"\\nMore\\nI can't make any real suggestions on ...</td>\n",
       "      <td>0</td>\n",
       "      <td>more i cant make any real suggestions on impro...</td>\n",
       "      <td>not real suggestion improvement   wonder secti...</td>\n",
       "      <td>622</td>\n",
       "    </tr>\n",
       "    <tr>\n",
       "      <th>4</th>\n",
       "      <td>You, sir, are my hero. Any chance you remember...</td>\n",
       "      <td>0</td>\n",
       "      <td>you sir are my hero any chance you remember wh...</td>\n",
       "      <td>sir hero chance remember page s</td>\n",
       "      <td>67</td>\n",
       "    </tr>\n",
       "  </tbody>\n",
       "</table>\n",
       "</div>"
      ],
      "text/plain": [
       "                                                text  toxic  \\\n",
       "0  Explanation\\nWhy the edits made under my usern...      0   \n",
       "1  D'aww! He matches this background colour I'm s...      0   \n",
       "2  Hey man, I'm really not trying to edit war. It...      0   \n",
       "3  \"\\nMore\\nI can't make any real suggestions on ...      0   \n",
       "4  You, sir, are my hero. Any chance you remember...      0   \n",
       "\n",
       "                                          clean_text  \\\n",
       "0  explanation why the edits made under my userna...   \n",
       "1  daww he matches this background colour im seem...   \n",
       "2  hey man im really not trying to edit war its j...   \n",
       "3  more i cant make any real suggestions on impro...   \n",
       "4  you sir are my hero any chance you remember wh...   \n",
       "\n",
       "                                               lemma  len_com  \n",
       "0  explanation edit username hardcore metallica f...      264  \n",
       "1  daww match background colour m seemingly stuck...      112  \n",
       "2  hey man m try edit war guy constantly remove r...      233  \n",
       "3  not real suggestion improvement   wonder secti...      622  \n",
       "4                    sir hero chance remember page s       67  "
      ]
     },
     "execution_count": 15,
     "metadata": {},
     "output_type": "execute_result"
    }
   ],
   "source": [
    "data.head()"
   ]
  },
  {
   "cell_type": "code",
   "execution_count": 16,
   "metadata": {},
   "outputs": [
    {
     "data": {
      "text/plain": [
       "count    159292.000000\n",
       "mean        393.691303\n",
       "std         590.111825\n",
       "min           5.000000\n",
       "25%          95.000000\n",
       "50%         205.000000\n",
       "75%         435.000000\n",
       "max        5000.000000\n",
       "Name: len_com, dtype: float64"
      ]
     },
     "execution_count": 16,
     "metadata": {},
     "output_type": "execute_result"
    }
   ],
   "source": [
    "data['len_com'].describe()"
   ]
  },
  {
   "cell_type": "code",
   "execution_count": 17,
   "metadata": {},
   "outputs": [],
   "source": [
    "toxic= data[data['toxic']==1]\n",
    "non_toxic = data[data['toxic']==0]\n"
   ]
  },
  {
   "cell_type": "code",
   "execution_count": 18,
   "metadata": {},
   "outputs": [
    {
     "data": {
      "text/plain": [
       "count    16186.000000\n",
       "mean       302.932411\n",
       "std        618.647890\n",
       "min          5.000000\n",
       "25%         61.000000\n",
       "50%        128.000000\n",
       "75%        282.750000\n",
       "max       5000.000000\n",
       "Name: len_com, dtype: float64"
      ]
     },
     "execution_count": 18,
     "metadata": {},
     "output_type": "execute_result"
    }
   ],
   "source": [
    "toxic['len_com'].describe()"
   ]
  },
  {
   "cell_type": "code",
   "execution_count": 19,
   "metadata": {},
   "outputs": [
    {
     "data": {
      "text/plain": [
       "count    143106.000000\n",
       "mean        403.956585\n",
       "std         585.914845\n",
       "min           6.000000\n",
       "25%         102.000000\n",
       "50%         216.000000\n",
       "75%         452.000000\n",
       "max        5000.000000\n",
       "Name: len_com, dtype: float64"
      ]
     },
     "execution_count": 19,
     "metadata": {},
     "output_type": "execute_result"
    }
   ],
   "source": [
    "non_toxic['len_com'].describe()"
   ]
  },
  {
   "cell_type": "code",
   "execution_count": 20,
   "metadata": {},
   "outputs": [
    {
     "data": {
      "image/png": "[encoded data removed]",
      "text/plain": [
       "<Figure size 432x288 with 1 Axes>"
      ]
     },
     "metadata": {
      "needs_background": "light"
     },
     "output_type": "display_data"
    }
   ],
   "source": [
    "toxic['len_com'].hist()\n",
    "plt.xlabel('Number of symbols')\n",
    "plt.ylabel('Number of comments')\n",
    "plt.title('Toxic comments')\n",
    "plt.show()"
   ]
  },
  {
   "cell_type": "code",
   "execution_count": 21,
   "metadata": {},
   "outputs": [
    {
     "data": {
      "image/png": "[encoded data removed]",
      "text/plain": [
       "<Figure size 432x288 with 1 Axes>"
      ]
     },
     "metadata": {
      "needs_background": "light"
     },
     "output_type": "display_data"
    }
   ],
   "source": [
    "non_toxic['len_com'].hist()\n",
    "plt.xlabel('Number of symbols')\n",
    "plt.ylabel('Number of comments')\n",
    "plt.title('Non Toxic comments')\n",
    "plt.show()"
   ]
  },
  {
   "cell_type": "markdown",
   "metadata": {},
   "source": [
    "Non-toxic comments are, on average, slightly longer than toxic ones, but they exhibit a similar distribution."
   ]
  },
  {
   "cell_type": "markdown",
   "metadata": {},
   "source": [
    "### Bag of wors"
   ]
  },
  {
   "cell_type": "markdown",
   "metadata": {},
   "source": [
    "#### Corpus"
   ]
  },
  {
   "cell_type": "code",
   "execution_count": 22,
   "metadata": {},
   "outputs": [],
   "source": [
    "corpus = data['lemma']"
   ]
  },
  {
   "cell_type": "code",
   "execution_count": 23,
   "metadata": {},
   "outputs": [],
   "source": [
    "count_vect = CountVectorizer(max_features=30) "
   ]
  },
  {
   "cell_type": "code",
   "execution_count": 24,
   "metadata": {},
   "outputs": [
    {
     "name": "stdout",
     "output_type": "stream",
     "text": [
      "Bow shape: (159292, 30)\n"
     ]
    }
   ],
   "source": [
    "bow = count_vect.fit_transform(corpus)\n",
    "print(\"Bow shape:\", bow.shape)"
   ]
  },
  {
   "cell_type": "code",
   "execution_count": 25,
   "metadata": {},
   "outputs": [
    {
     "data": {
      "text/plain": [
       "['add',\n",
       " 'article',\n",
       " 'block',\n",
       " 'change',\n",
       " 'comment',\n",
       " 'delete',\n",
       " 'edit',\n",
       " 'find',\n",
       " 'good',\n",
       " 'know',\n",
       " 'like',\n",
       " 'link',\n",
       " 'look',\n",
       " 'need',\n",
       " 'not',\n",
       " 'page',\n",
       " 'people',\n",
       " 'remove',\n",
       " 'say',\n",
       " 'source',\n",
       " 'talk',\n",
       " 'thank',\n",
       " 'think',\n",
       " 'time',\n",
       " 'use',\n",
       " 'user',\n",
       " 've',\n",
       " 'want',\n",
       " 'wikipedia',\n",
       " 'work']"
      ]
     },
     "execution_count": 25,
     "metadata": {},
     "output_type": "execute_result"
    }
   ],
   "source": [
    "count_vect.get_feature_names()"
   ]
  },
  {
   "cell_type": "markdown",
   "metadata": {},
   "source": [
    "#### Toxic comments"
   ]
  },
  {
   "cell_type": "code",
   "execution_count": 26,
   "metadata": {},
   "outputs": [
    {
     "data": {
      "text/html": [
       "<div>\n",
       "<style scoped>\n",
       "    .dataframe tbody tr th:only-of-type {\n",
       "        vertical-align: middle;\n",
       "    }\n",
       "\n",
       "    .dataframe tbody tr th {\n",
       "        vertical-align: top;\n",
       "    }\n",
       "\n",
       "    .dataframe thead th {\n",
       "        text-align: right;\n",
       "    }\n",
       "</style>\n",
       "<table border=\"1\" class=\"dataframe\">\n",
       "  <thead>\n",
       "    <tr style=\"text-align: right;\">\n",
       "      <th></th>\n",
       "      <th>text</th>\n",
       "      <th>toxic</th>\n",
       "      <th>clean_text</th>\n",
       "      <th>lemma</th>\n",
       "      <th>len_com</th>\n",
       "    </tr>\n",
       "  </thead>\n",
       "  <tbody>\n",
       "    <tr>\n",
       "      <th>6</th>\n",
       "      <td>COCKSUCKER BEFORE YOU PISS AROUND ON MY WORK</td>\n",
       "      <td>1</td>\n",
       "      <td>cocksucker before you piss around on my work</td>\n",
       "      <td>cocksucker piss work</td>\n",
       "      <td>44</td>\n",
       "    </tr>\n",
       "    <tr>\n",
       "      <th>12</th>\n",
       "      <td>Hey... what is it..\\n@ | talk .\\nWhat is it......</td>\n",
       "      <td>1</td>\n",
       "      <td>hey what is it   talk  what is it an exclusive...</td>\n",
       "      <td>hey    talk   exclusive group wp talibanswho g...</td>\n",
       "      <td>319</td>\n",
       "    </tr>\n",
       "    <tr>\n",
       "      <th>16</th>\n",
       "      <td>Bye! \\n\\nDon't look, come or think of comming ...</td>\n",
       "      <td>1</td>\n",
       "      <td>bye   dont look come or think of comming back ...</td>\n",
       "      <td>bye    not look come think comme tosser</td>\n",
       "      <td>57</td>\n",
       "    </tr>\n",
       "    <tr>\n",
       "      <th>42</th>\n",
       "      <td>You are gay or antisemmitian? \\n\\nArchangel WH...</td>\n",
       "      <td>1</td>\n",
       "      <td>you are gay or antisemmitian   archangel white...</td>\n",
       "      <td>gay antisemmitian    archangel white tiger   m...</td>\n",
       "      <td>648</td>\n",
       "    </tr>\n",
       "    <tr>\n",
       "      <th>43</th>\n",
       "      <td>FUCK YOUR FILTHY MOTHER IN THE ASS, DRY!</td>\n",
       "      <td>1</td>\n",
       "      <td>fuck your filthy mother in the ass dry</td>\n",
       "      <td>fuck filthy mother ass dry</td>\n",
       "      <td>40</td>\n",
       "    </tr>\n",
       "  </tbody>\n",
       "</table>\n",
       "</div>"
      ],
      "text/plain": [
       "                                                 text  toxic  \\\n",
       "6        COCKSUCKER BEFORE YOU PISS AROUND ON MY WORK      1   \n",
       "12  Hey... what is it..\\n@ | talk .\\nWhat is it......      1   \n",
       "16  Bye! \\n\\nDon't look, come or think of comming ...      1   \n",
       "42  You are gay or antisemmitian? \\n\\nArchangel WH...      1   \n",
       "43           FUCK YOUR FILTHY MOTHER IN THE ASS, DRY!      1   \n",
       "\n",
       "                                           clean_text  \\\n",
       "6        cocksucker before you piss around on my work   \n",
       "12  hey what is it   talk  what is it an exclusive...   \n",
       "16  bye   dont look come or think of comming back ...   \n",
       "42  you are gay or antisemmitian   archangel white...   \n",
       "43             fuck your filthy mother in the ass dry   \n",
       "\n",
       "                                                lemma  len_com  \n",
       "6                                cocksucker piss work       44  \n",
       "12  hey    talk   exclusive group wp talibanswho g...      319  \n",
       "16            bye    not look come think comme tosser       57  \n",
       "42  gay antisemmitian    archangel white tiger   m...      648  \n",
       "43                         fuck filthy mother ass dry       40  "
      ]
     },
     "execution_count": 26,
     "metadata": {},
     "output_type": "execute_result"
    }
   ],
   "source": [
    "toxic.head()"
   ]
  },
  {
   "cell_type": "code",
   "execution_count": 27,
   "metadata": {},
   "outputs": [],
   "source": [
    "corpus_toxic = list(toxic['lemma'])"
   ]
  },
  {
   "cell_type": "code",
   "execution_count": 28,
   "metadata": {},
   "outputs": [],
   "source": [
    "count_vect_toxic = CountVectorizer(max_features=30) #смотрю 30 слов"
   ]
  },
  {
   "cell_type": "code",
   "execution_count": 29,
   "metadata": {},
   "outputs": [
    {
     "name": "stdout",
     "output_type": "stream",
     "text": [
      "Bow shape for toxis comments: (16186, 30)\n"
     ]
    }
   ],
   "source": [
    "bow_toxic = count_vect_toxic.fit_transform(corpus_toxic)\n",
    "print(\"Bow shape for toxis comments:\", bow_toxic.shape)"
   ]
  },
  {
   "cell_type": "code",
   "execution_count": 30,
   "metadata": {},
   "outputs": [
    {
     "data": {
      "text/plain": [
       "['article',\n",
       " 'ass',\n",
       " 'bitch',\n",
       " 'block',\n",
       " 'cunt',\n",
       " 'dick',\n",
       " 'die',\n",
       " 'edit',\n",
       " 'faggot',\n",
       " 'fat',\n",
       " 'fuck',\n",
       " 'fucking',\n",
       " 'gay',\n",
       " 'hate',\n",
       " 'hi',\n",
       " 'know',\n",
       " 'like',\n",
       " 'moron',\n",
       " 'nigger',\n",
       " 'not',\n",
       " 'page',\n",
       " 'people',\n",
       " 'shit',\n",
       " 'stop',\n",
       " 'stupid',\n",
       " 'suck',\n",
       " 'talk',\n",
       " 'think',\n",
       " 'want',\n",
       " 'wikipedia']"
      ]
     },
     "execution_count": 30,
     "metadata": {},
     "output_type": "execute_result"
    }
   ],
   "source": [
    "count_vect_toxic.get_feature_names()"
   ]
  },
  {
   "cell_type": "markdown",
   "metadata": {},
   "source": [
    "#### Non-toxic comments"
   ]
  },
  {
   "cell_type": "code",
   "execution_count": 31,
   "metadata": {},
   "outputs": [
    {
     "data": {
      "text/html": [
       "<div>\n",
       "<style scoped>\n",
       "    .dataframe tbody tr th:only-of-type {\n",
       "        vertical-align: middle;\n",
       "    }\n",
       "\n",
       "    .dataframe tbody tr th {\n",
       "        vertical-align: top;\n",
       "    }\n",
       "\n",
       "    .dataframe thead th {\n",
       "        text-align: right;\n",
       "    }\n",
       "</style>\n",
       "<table border=\"1\" class=\"dataframe\">\n",
       "  <thead>\n",
       "    <tr style=\"text-align: right;\">\n",
       "      <th></th>\n",
       "      <th>text</th>\n",
       "      <th>toxic</th>\n",
       "      <th>clean_text</th>\n",
       "      <th>lemma</th>\n",
       "      <th>len_com</th>\n",
       "    </tr>\n",
       "  </thead>\n",
       "  <tbody>\n",
       "    <tr>\n",
       "      <th>0</th>\n",
       "      <td>Explanation\\nWhy the edits made under my usern...</td>\n",
       "      <td>0</td>\n",
       "      <td>explanation why the edits made under my userna...</td>\n",
       "      <td>explanation edit username hardcore metallica f...</td>\n",
       "      <td>264</td>\n",
       "    </tr>\n",
       "    <tr>\n",
       "      <th>1</th>\n",
       "      <td>D'aww! He matches this background colour I'm s...</td>\n",
       "      <td>0</td>\n",
       "      <td>daww he matches this background colour im seem...</td>\n",
       "      <td>daww match background colour m seemingly stuck...</td>\n",
       "      <td>112</td>\n",
       "    </tr>\n",
       "    <tr>\n",
       "      <th>2</th>\n",
       "      <td>Hey man, I'm really not trying to edit war. It...</td>\n",
       "      <td>0</td>\n",
       "      <td>hey man im really not trying to edit war its j...</td>\n",
       "      <td>hey man m try edit war guy constantly remove r...</td>\n",
       "      <td>233</td>\n",
       "    </tr>\n",
       "    <tr>\n",
       "      <th>3</th>\n",
       "      <td>\"\\nMore\\nI can't make any real suggestions on ...</td>\n",
       "      <td>0</td>\n",
       "      <td>more i cant make any real suggestions on impro...</td>\n",
       "      <td>not real suggestion improvement   wonder secti...</td>\n",
       "      <td>622</td>\n",
       "    </tr>\n",
       "    <tr>\n",
       "      <th>4</th>\n",
       "      <td>You, sir, are my hero. Any chance you remember...</td>\n",
       "      <td>0</td>\n",
       "      <td>you sir are my hero any chance you remember wh...</td>\n",
       "      <td>sir hero chance remember page s</td>\n",
       "      <td>67</td>\n",
       "    </tr>\n",
       "  </tbody>\n",
       "</table>\n",
       "</div>"
      ],
      "text/plain": [
       "                                                text  toxic  \\\n",
       "0  Explanation\\nWhy the edits made under my usern...      0   \n",
       "1  D'aww! He matches this background colour I'm s...      0   \n",
       "2  Hey man, I'm really not trying to edit war. It...      0   \n",
       "3  \"\\nMore\\nI can't make any real suggestions on ...      0   \n",
       "4  You, sir, are my hero. Any chance you remember...      0   \n",
       "\n",
       "                                          clean_text  \\\n",
       "0  explanation why the edits made under my userna...   \n",
       "1  daww he matches this background colour im seem...   \n",
       "2  hey man im really not trying to edit war its j...   \n",
       "3  more i cant make any real suggestions on impro...   \n",
       "4  you sir are my hero any chance you remember wh...   \n",
       "\n",
       "                                               lemma  len_com  \n",
       "0  explanation edit username hardcore metallica f...      264  \n",
       "1  daww match background colour m seemingly stuck...      112  \n",
       "2  hey man m try edit war guy constantly remove r...      233  \n",
       "3  not real suggestion improvement   wonder secti...      622  \n",
       "4                    sir hero chance remember page s       67  "
      ]
     },
     "execution_count": 31,
     "metadata": {},
     "output_type": "execute_result"
    }
   ],
   "source": [
    "non_toxic.head()"
   ]
  },
  {
   "cell_type": "code",
   "execution_count": 32,
   "metadata": {},
   "outputs": [],
   "source": [
    "corpus_nontoxic = list(non_toxic['lemma'])"
   ]
  },
  {
   "cell_type": "code",
   "execution_count": 33,
   "metadata": {},
   "outputs": [],
   "source": [
    "count_vect_nontoxic = CountVectorizer(max_features=30) #смотрю 30 слов"
   ]
  },
  {
   "cell_type": "code",
   "execution_count": 34,
   "metadata": {},
   "outputs": [
    {
     "name": "stdout",
     "output_type": "stream",
     "text": [
      "Bow shape for non toxic comments : (143106, 30)\n"
     ]
    }
   ],
   "source": [
    "bow_nontoxic = count_vect_nontoxic.fit_transform(corpus_nontoxic)\n",
    "print(\"Bow shape for non toxic comments :\", bow_nontoxic.shape)"
   ]
  },
  {
   "cell_type": "code",
   "execution_count": 35,
   "metadata": {},
   "outputs": [
    {
     "data": {
      "text/plain": [
       "['add',\n",
       " 'article',\n",
       " 'block',\n",
       " 'comment',\n",
       " 'delete',\n",
       " 'edit',\n",
       " 'find',\n",
       " 'good',\n",
       " 'help',\n",
       " 'know',\n",
       " 'like',\n",
       " 'link',\n",
       " 'look',\n",
       " 'need',\n",
       " 'not',\n",
       " 'page',\n",
       " 'people',\n",
       " 'remove',\n",
       " 'say',\n",
       " 'source',\n",
       " 'talk',\n",
       " 'thank',\n",
       " 'think',\n",
       " 'time',\n",
       " 'use',\n",
       " 'user',\n",
       " 've',\n",
       " 'want',\n",
       " 'wikipedia',\n",
       " 'work']"
      ]
     },
     "execution_count": 35,
     "metadata": {},
     "output_type": "execute_result"
    }
   ],
   "source": [
    "count_vect_nontoxic.get_feature_names()"
   ]
  },
  {
   "cell_type": "markdown",
   "metadata": {},
   "source": [
    "### Samples"
   ]
  },
  {
   "cell_type": "code",
   "execution_count": 36,
   "metadata": {},
   "outputs": [],
   "source": [
    "target=data['toxic']\n",
    "features = data['lemma']"
   ]
  },
  {
   "cell_type": "code",
   "execution_count": 37,
   "metadata": {},
   "outputs": [
    {
     "name": "stdout",
     "output_type": "stream",
     "text": [
      "Target train: (31858,)\n",
      "Target test: (63717,)\n",
      "Target validation: (63717,)\n",
      "Features train: (31858,)\n",
      "Features test: (63717,)\n",
      "Features validation: (63717,)\n"
     ]
    }
   ],
   "source": [
    "#Samples formation\n",
    "\n",
    "features_train, features_valid, target_train, target_valid = train_test_split(\n",
    "    features, target, test_size=0.8, random_state=42, stratify=target\n",
    ")\n",
    "\n",
    "features_valid, features_test, target_valid, target_test = train_test_split(features_valid,\n",
    "    target_valid,test_size=0.5,random_state=42, stratify=target_valid,\n",
    ")\n",
    "\n",
    "print(\"Target train:\", target_train.shape)\n",
    "print(\"Target test:\", target_test.shape)\n",
    "print(\"Target validation:\", target_valid.shape)\n",
    "\n",
    "print(\"Features train:\", features_train.shape)\n",
    "print(\"Features test:\", features_test.shape)\n",
    "print(\"Features validation:\", features_valid.shape)\n",
    "\n"
   ]
  },
  {
   "cell_type": "code",
   "execution_count": 38,
   "metadata": {
    "scrolled": false
   },
   "outputs": [
    {
     "data": {
      "text/plain": [
       "0    0.898393\n",
       "1    0.101607\n",
       "Name: toxic, dtype: float64"
      ]
     },
     "execution_count": 38,
     "metadata": {},
     "output_type": "execute_result"
    }
   ],
   "source": [
    "#Class balance\n",
    "target_train.value_counts(normalize = 1)"
   ]
  },
  {
   "cell_type": "code",
   "execution_count": 39,
   "metadata": {},
   "outputs": [
    {
     "name": "stdout",
     "output_type": "stream",
     "text": [
      "Train sample\n"
     ]
    },
    {
     "data": {
      "image/png": "[encoded data removed]",
      "text/plain": [
       "<Figure size 432x288 with 1 Axes>"
      ]
     },
     "metadata": {
      "needs_background": "light"
     },
     "output_type": "display_data"
    }
   ],
   "source": [
    "print('Train sample')\n",
    "target_train.hist(density=True, histtype='bar', rwidth=0.8);"
   ]
  },
  {
   "cell_type": "code",
   "execution_count": 40,
   "metadata": {},
   "outputs": [
    {
     "data": {
      "text/plain": [
       "0    0.898394\n",
       "1    0.101606\n",
       "Name: toxic, dtype: float64"
      ]
     },
     "execution_count": 40,
     "metadata": {},
     "output_type": "execute_result"
    }
   ],
   "source": [
    "target_test.value_counts(normalize = 1)"
   ]
  },
  {
   "cell_type": "code",
   "execution_count": 41,
   "metadata": {},
   "outputs": [
    {
     "name": "stdout",
     "output_type": "stream",
     "text": [
      "Test sample\n"
     ]
    },
    {
     "data": {
      "image/png": "[encoded data removed]",
      "text/plain": [
       "<Figure size 432x288 with 1 Axes>"
      ]
     },
     "metadata": {
      "needs_background": "light"
     },
     "output_type": "display_data"
    }
   ],
   "source": [
    "print('Test sample')\n",
    "target_test.hist(density=True, histtype='bar', rwidth=0.8);"
   ]
  },
  {
   "cell_type": "code",
   "execution_count": 42,
   "metadata": {},
   "outputs": [
    {
     "data": {
      "text/plain": [
       "0    0.898379\n",
       "1    0.101621\n",
       "Name: toxic, dtype: float64"
      ]
     },
     "execution_count": 42,
     "metadata": {},
     "output_type": "execute_result"
    }
   ],
   "source": [
    "target_valid.value_counts(normalize = 1)"
   ]
  },
  {
   "cell_type": "code",
   "execution_count": 43,
   "metadata": {},
   "outputs": [
    {
     "name": "stdout",
     "output_type": "stream",
     "text": [
      "Validation sample\n"
     ]
    },
    {
     "data": {
      "image/png": "[encoded data removed]",
      "text/plain": [
       "<Figure size 432x288 with 1 Axes>"
      ]
     },
     "metadata": {
      "needs_background": "light"
     },
     "output_type": "display_data"
    }
   ],
   "source": [
    "print('Validation sample')\n",
    "target_valid.hist(density=True, histtype='bar', rwidth=0.8);"
   ]
  },
  {
   "cell_type": "markdown",
   "metadata": {},
   "source": [
    "### Summary"
   ]
  },
  {
   "cell_type": "markdown",
   "metadata": {},
   "source": [
    "1. The data has been preprocessed using regular expressions and lemmatization.\n",
    "2. Non-toxic comments are slightly longer than toxic ones, but the size of their word bags is smaller. Moreover, the characteristic words for both types of comments differ.\n",
    "3. Datasets have been prepared for further training.\n",
    "4. Class imbalance is observed, and I will address it by applying class weighting."
   ]
  },
  {
   "cell_type": "markdown",
   "metadata": {},
   "source": [
    "## Machine learning"
   ]
  },
  {
   "cell_type": "markdown",
   "metadata": {},
   "source": [
    "### TFIDF"
   ]
  },
  {
   "cell_type": "code",
   "execution_count": 44,
   "metadata": {},
   "outputs": [],
   "source": [
    "stopwords = stopwords.words('english')\n",
    "count_tfidf = TfidfVectorizer(stop_words=stopwords)\n",
    "tfidf_train = count_tfidf.fit_transform(features_train)\n",
    "tfidf_valid = count_tfidf.transform(features_valid)\n",
    "tfidf_test = count_tfidf.transform(features_test)"
   ]
  },
  {
   "cell_type": "markdown",
   "metadata": {},
   "source": [
    "### Log regression\n"
   ]
  },
  {
   "cell_type": "code",
   "execution_count": 45,
   "metadata": {},
   "outputs": [
    {
     "name": "stdout",
     "output_type": "stream",
     "text": [
      "F1 log regression: 0.7502985074626866\n"
     ]
    }
   ],
   "source": [
    "log_model = LogisticRegression(random_state=42, solver='liblinear',class_weight = 'balanced', C=5) \n",
    "log_model.fit(tfidf_train, target_train) \n",
    "log_predict=log_model.predict(tfidf_valid)\n",
    "f1_score_log=f1_score(target_valid, log_predict)\n",
    "\n",
    "print('F1 log regression:', f1_score_log )\n"
   ]
  },
  {
   "cell_type": "markdown",
   "metadata": {},
   "source": [
    "### Random forest"
   ]
  },
  {
   "cell_type": "code",
   "execution_count": 46,
   "metadata": {},
   "outputs": [
    {
     "name": "stdout",
     "output_type": "stream",
     "text": [
      "F1 best model: 0.5197811781495282 The number of trees in the forest: 30 The maximum depth of the tree: 4 The minimum number of samples required to split an internal node: 2\n"
     ]
    }
   ],
   "source": [
    "best_result = 0\n",
    "best_est = 0\n",
    "best_depth = 0\n",
    "best_split_rf = 0\n",
    "\n",
    "for est in range(10, 50, 10):\n",
    "    for depth in range(1, 10):\n",
    "        for split_rf in range(2, 10):\n",
    "            model = RandomForestClassifier(\n",
    "                max_depth=depth,\n",
    "                random_state=42,\n",
    "                n_estimators=est,\n",
    "                min_samples_split=split_rf,\n",
    "                class_weight=\"balanced\",\n",
    "            )\n",
    "            model.fit(tfidf_train, target_train)\n",
    "            predictions_valid_rf = model.predict(tfidf_valid)\n",
    "            result = f1_score(target_valid, predictions_valid_rf)\n",
    "            if result > best_result:\n",
    "                best_result = result\n",
    "                best_est = est\n",
    "                best_depth = depth\n",
    "                best_split_rf = split_rf\n",
    "\n",
    "\n",
    "f1_score_rf=best_result\n",
    "\n",
    "print(\n",
    "    \"F1 best model:\",\n",
    "    f1_score_rf,\n",
    "    \"The number of trees in the forest:\",\n",
    "    best_est,\n",
    "    \"The maximum depth of the tree:\",\n",
    "    best_depth,\n",
    "    \"The minimum number of samples required to split an internal node:\",\n",
    "    best_split_rf,\n",
    ")\n"
   ]
  },
  {
   "cell_type": "markdown",
   "metadata": {},
   "source": [
    "### LGBM"
   ]
  },
  {
   "cell_type": "code",
   "execution_count": 47,
   "metadata": {},
   "outputs": [
    {
     "name": "stdout",
     "output_type": "stream",
     "text": [
      "F1  LGBM: 0.7212235430559583 The number of leaves: 20\n"
     ]
    }
   ],
   "source": [
    "best_result = 0\n",
    "best_num = 0\n",
    "\n",
    "for leaves in range (10, 30, 10):\n",
    "            model = lgb.LGBMClassifier(\n",
    "                num_leaves=leaves,\n",
    "                random_state=42,\n",
    "                learning_rate=0.3,\n",
    "                is_unbalance = True,\n",
    "            )\n",
    "            model.fit(tfidf_train, target_train)\n",
    "            predictions_valid_lgb = model.predict(tfidf_valid)\n",
    "            result = f1_score(target_valid, predictions_valid_lgb)\n",
    "            if result > best_result:\n",
    "                best_result = result\n",
    "                best_num = leaves\n",
    "            \n",
    "\n",
    "\n",
    "f1_score_lgb=best_result\n",
    "\n",
    "print(\n",
    "    \"F1  LGBM:\",\n",
    "    f1_score_lgb,\n",
    "    \"The number of leaves:\",\n",
    "    best_num,\n",
    ")\n"
   ]
  },
  {
   "cell_type": "markdown",
   "metadata": {},
   "source": [
    "### Comparison"
   ]
  },
  {
   "cell_type": "code",
   "execution_count": 52,
   "metadata": {},
   "outputs": [
    {
     "data": {
      "text/html": [
       "<div>\n",
       "<style scoped>\n",
       "    .dataframe tbody tr th:only-of-type {\n",
       "        vertical-align: middle;\n",
       "    }\n",
       "\n",
       "    .dataframe tbody tr th {\n",
       "        vertical-align: top;\n",
       "    }\n",
       "\n",
       "    .dataframe thead th {\n",
       "        text-align: right;\n",
       "    }\n",
       "</style>\n",
       "<table border=\"1\" class=\"dataframe\">\n",
       "  <thead>\n",
       "    <tr style=\"text-align: right;\">\n",
       "      <th></th>\n",
       "      <th>F1 on validation sample</th>\n",
       "    </tr>\n",
       "  </thead>\n",
       "  <tbody>\n",
       "    <tr>\n",
       "      <th>Log regression</th>\n",
       "      <td>0.750299</td>\n",
       "    </tr>\n",
       "    <tr>\n",
       "      <th>Random forest</th>\n",
       "      <td>0.519781</td>\n",
       "    </tr>\n",
       "    <tr>\n",
       "      <th>LGBM</th>\n",
       "      <td>0.721224</td>\n",
       "    </tr>\n",
       "  </tbody>\n",
       "</table>\n",
       "</div>"
      ],
      "text/plain": [
       "                F1 on validation sample\n",
       "Log regression                 0.750299\n",
       "Random forest                  0.519781\n",
       "LGBM                           0.721224"
      ]
     },
     "execution_count": 52,
     "metadata": {},
     "output_type": "execute_result"
    }
   ],
   "source": [
    "index = ['Log regression',\n",
    "         'Random forest',\n",
    "        'LGBM']\n",
    "table = {'F1 on validation sample':[f1_score_log,f1_score_rf, f1_score_lgb]}\n",
    "\n",
    "result = pd.DataFrame(data=table, index=index)\n",
    "\n",
    "result"
   ]
  },
  {
   "cell_type": "markdown",
   "metadata": {},
   "source": [
    "### The best model of test sample"
   ]
  },
  {
   "cell_type": "code",
   "execution_count": 49,
   "metadata": {},
   "outputs": [
    {
     "name": "stdout",
     "output_type": "stream",
     "text": [
      "F1 on test sample 0.7535906642728905\n"
     ]
    }
   ],
   "source": [
    "model = LogisticRegression(random_state=42, solver='liblinear', class_weight = 'balanced', C=5) \n",
    "model.fit(tfidf_train, target_train)\n",
    "target_predict = model.predict(tfidf_test)\n",
    "print ('F1 on test sample', f1_score(target_test, target_predict))"
   ]
  },
  {
   "cell_type": "code",
   "execution_count": 50,
   "metadata": {},
   "outputs": [
    {
     "name": "stdout",
     "output_type": "stream",
     "text": [
      "F1 dummy 0.09816139703054082\n"
     ]
    }
   ],
   "source": [
    "#Constant model\n",
    "dummy = DummyClassifier(strategy=\"stratified\")\n",
    "dummy.fit(tfidf_train, target_train)\n",
    "predict_dummy = dummy.predict(tfidf_test)\n",
    "f1_dummy = f1_score(target_test, predict_dummy)\n",
    "print('F1 dummy', f1_dummy)"
   ]
  },
  {
   "cell_type": "markdown",
   "metadata": {},
   "source": [
    "## Conclusion"
   ]
  },
  {
   "cell_type": "markdown",
   "metadata": {},
   "source": [
    "1. Text data has been cleaned and lemmatized.\n",
    "2. The most characteristic words in the toxic and non-toxic comment corpora have been identified.\n",
    "3. Three models were considered: logistic regression, random forest, and LGBM. Class weighting was used to address the class imbalance issue.\n",
    "4. The logistic regression model performs the best, achieving an F1 score of 75.4 on the test data. The model passes the adequacy test."
   ]
  },
  {
   "cell_type": "code",
   "execution_count": null,
   "metadata": {},
   "outputs": [],
   "source": []
  }
 ],
 "metadata": {
  "ExecuteTimeLog": [
   {
    "duration": 433,
    "start_time": "2023-03-06T21:07:27.568Z"
   },
   {
    "duration": 3282,
    "start_time": "2023-03-06T21:07:28.003Z"
   },
   {
    "duration": 16,
    "start_time": "2023-03-06T21:07:31.287Z"
   },
   {
    "duration": 2,
    "start_time": "2023-03-06T21:08:23.827Z"
   },
   {
    "duration": 242,
    "start_time": "2023-03-06T21:08:25.148Z"
   },
   {
    "duration": 1949,
    "start_time": "2023-03-06T21:12:43.319Z"
   },
   {
    "duration": 6,
    "start_time": "2023-03-06T21:12:46.274Z"
   },
   {
    "duration": 71,
    "start_time": "2023-03-06T21:12:47.663Z"
   },
   {
    "duration": 6,
    "start_time": "2023-03-06T21:14:28.678Z"
   },
   {
    "duration": 6,
    "start_time": "2023-03-06T21:14:32.618Z"
   },
   {
    "duration": 308,
    "start_time": "2023-03-06T23:06:30.552Z"
   },
   {
    "duration": 162,
    "start_time": "2023-03-06T23:08:48.411Z"
   },
   {
    "duration": 14,
    "start_time": "2023-03-06T23:09:27.546Z"
   },
   {
    "duration": 8,
    "start_time": "2023-03-06T23:09:50.898Z"
   },
   {
    "duration": 889,
    "start_time": "2023-03-06T23:10:03.521Z"
   },
   {
    "duration": 5,
    "start_time": "2023-03-06T23:10:08.017Z"
   },
   {
    "duration": 1284,
    "start_time": "2023-03-07T00:23:22.429Z"
   },
   {
    "duration": 929,
    "start_time": "2023-03-07T00:23:23.715Z"
   },
   {
    "duration": 13,
    "start_time": "2023-03-07T00:23:24.656Z"
   },
   {
    "duration": 11,
    "start_time": "2023-03-07T00:23:24.671Z"
   },
   {
    "duration": 273,
    "start_time": "2023-03-07T00:23:24.684Z"
   },
   {
    "duration": 6,
    "start_time": "2023-03-07T00:23:24.959Z"
   },
   {
    "duration": 149,
    "start_time": "2023-03-07T00:23:24.967Z"
   },
   {
    "duration": 40,
    "start_time": "2023-03-07T00:23:25.118Z"
   },
   {
    "duration": 9,
    "start_time": "2023-03-07T00:23:25.159Z"
   },
   {
    "duration": 88576,
    "start_time": "2023-03-07T00:23:25.169Z"
   },
   {
    "duration": 14,
    "start_time": "2023-03-07T00:24:53.747Z"
   },
   {
    "duration": 11,
    "start_time": "2023-03-07T00:24:53.763Z"
   },
   {
    "duration": 5,
    "start_time": "2023-03-07T00:24:53.775Z"
   },
   {
    "duration": 2145,
    "start_time": "2023-03-07T00:24:53.782Z"
   },
   {
    "duration": 46,
    "start_time": "2023-03-07T00:24:55.929Z"
   },
   {
    "duration": 124,
    "start_time": "2023-03-07T00:24:55.976Z"
   },
   {
    "duration": 1317,
    "start_time": "2023-03-07T00:33:12.745Z"
   },
   {
    "duration": 882,
    "start_time": "2023-03-07T00:33:14.064Z"
   },
   {
    "duration": 13,
    "start_time": "2023-03-07T00:33:14.947Z"
   },
   {
    "duration": 3,
    "start_time": "2023-03-07T00:33:14.962Z"
   },
   {
    "duration": 228,
    "start_time": "2023-03-07T00:33:14.966Z"
   },
   {
    "duration": 5,
    "start_time": "2023-03-07T00:33:15.196Z"
   },
   {
    "duration": 159,
    "start_time": "2023-03-07T00:33:15.202Z"
   },
   {
    "duration": 31,
    "start_time": "2023-03-07T00:33:15.363Z"
   },
   {
    "duration": 9,
    "start_time": "2023-03-07T00:33:15.396Z"
   },
   {
    "duration": 4,
    "start_time": "2023-03-07T00:33:15.407Z"
   },
   {
    "duration": 145,
    "start_time": "2023-03-07T00:33:15.412Z"
   },
   {
    "duration": 0,
    "start_time": "2023-03-07T00:33:15.559Z"
   },
   {
    "duration": 0,
    "start_time": "2023-03-07T00:33:15.560Z"
   },
   {
    "duration": 0,
    "start_time": "2023-03-07T00:33:15.561Z"
   },
   {
    "duration": 0,
    "start_time": "2023-03-07T00:33:15.562Z"
   },
   {
    "duration": 14,
    "start_time": "2023-03-07T00:34:09.297Z"
   },
   {
    "duration": 12,
    "start_time": "2023-03-07T00:37:49.447Z"
   },
   {
    "duration": 17,
    "start_time": "2023-03-07T00:37:56.295Z"
   },
   {
    "duration": 9,
    "start_time": "2023-03-07T00:38:08.409Z"
   },
   {
    "duration": 43,
    "start_time": "2023-03-07T00:38:40.977Z"
   },
   {
    "duration": 3,
    "start_time": "2023-03-07T00:42:42.302Z"
   },
   {
    "duration": 975,
    "start_time": "2023-03-07T00:42:43.979Z"
   },
   {
    "duration": 1169,
    "start_time": "2023-03-07T00:42:55.432Z"
   },
   {
    "duration": 3,
    "start_time": "2023-03-07T00:42:58.936Z"
   },
   {
    "duration": 1272,
    "start_time": "2023-03-07T00:53:32.471Z"
   },
   {
    "duration": 872,
    "start_time": "2023-03-07T00:53:33.745Z"
   },
   {
    "duration": 18,
    "start_time": "2023-03-07T00:53:34.619Z"
   },
   {
    "duration": 3,
    "start_time": "2023-03-07T00:53:34.640Z"
   },
   {
    "duration": 232,
    "start_time": "2023-03-07T00:53:34.644Z"
   },
   {
    "duration": 5,
    "start_time": "2023-03-07T00:53:34.878Z"
   },
   {
    "duration": 140,
    "start_time": "2023-03-07T00:53:34.885Z"
   },
   {
    "duration": 7,
    "start_time": "2023-03-07T00:53:35.027Z"
   },
   {
    "duration": 626883,
    "start_time": "2023-03-07T00:53:35.035Z"
   },
   {
    "duration": 0,
    "start_time": "2023-03-07T01:04:01.920Z"
   },
   {
    "duration": 0,
    "start_time": "2023-03-07T01:04:01.922Z"
   },
   {
    "duration": 0,
    "start_time": "2023-03-07T01:04:01.924Z"
   },
   {
    "duration": 0,
    "start_time": "2023-03-07T01:04:01.925Z"
   },
   {
    "duration": 0,
    "start_time": "2023-03-07T01:04:01.926Z"
   },
   {
    "duration": 0,
    "start_time": "2023-03-07T01:04:01.928Z"
   },
   {
    "duration": 0,
    "start_time": "2023-03-07T01:04:01.929Z"
   },
   {
    "duration": 1181,
    "start_time": "2023-03-07T01:07:18.874Z"
   },
   {
    "duration": 822,
    "start_time": "2023-03-07T01:07:20.057Z"
   },
   {
    "duration": 12,
    "start_time": "2023-03-07T01:07:20.881Z"
   },
   {
    "duration": 7,
    "start_time": "2023-03-07T01:07:20.895Z"
   },
   {
    "duration": 225,
    "start_time": "2023-03-07T01:07:20.904Z"
   },
   {
    "duration": 6,
    "start_time": "2023-03-07T01:07:21.132Z"
   },
   {
    "duration": 140,
    "start_time": "2023-03-07T01:07:21.139Z"
   },
   {
    "duration": 3,
    "start_time": "2023-03-07T01:07:21.281Z"
   },
   {
    "duration": 2256,
    "start_time": "2023-03-07T01:07:21.286Z"
   },
   {
    "duration": 3,
    "start_time": "2023-03-07T01:07:23.544Z"
   },
   {
    "duration": 10,
    "start_time": "2023-03-07T01:07:23.548Z"
   },
   {
    "duration": 4,
    "start_time": "2023-03-07T01:07:23.560Z"
   },
   {
    "duration": 34816,
    "start_time": "2023-03-07T01:07:23.566Z"
   },
   {
    "duration": 0,
    "start_time": "2023-03-07T01:07:58.383Z"
   },
   {
    "duration": 0,
    "start_time": "2023-03-07T01:07:58.385Z"
   },
   {
    "duration": 0,
    "start_time": "2023-03-07T01:07:58.388Z"
   },
   {
    "duration": 0,
    "start_time": "2023-03-07T01:07:58.389Z"
   },
   {
    "duration": 0,
    "start_time": "2023-03-07T01:07:58.390Z"
   },
   {
    "duration": 0,
    "start_time": "2023-03-07T01:07:58.391Z"
   },
   {
    "duration": 0,
    "start_time": "2023-03-07T01:07:58.392Z"
   },
   {
    "duration": 3,
    "start_time": "2023-03-07T01:08:24.123Z"
   },
   {
    "duration": 2295,
    "start_time": "2023-03-07T01:08:27.028Z"
   },
   {
    "duration": 8,
    "start_time": "2023-03-07T01:08:30.576Z"
   },
   {
    "duration": 4465,
    "start_time": "2023-03-07T01:20:41.340Z"
   },
   {
    "duration": 770,
    "start_time": "2023-03-07T01:20:45.807Z"
   },
   {
    "duration": 12,
    "start_time": "2023-03-07T01:20:46.579Z"
   },
   {
    "duration": 2,
    "start_time": "2023-03-07T01:20:46.593Z"
   },
   {
    "duration": 223,
    "start_time": "2023-03-07T01:20:46.597Z"
   },
   {
    "duration": 12,
    "start_time": "2023-03-07T01:20:46.821Z"
   },
   {
    "duration": 3,
    "start_time": "2023-03-07T01:20:46.835Z"
   },
   {
    "duration": 2225,
    "start_time": "2023-03-07T01:20:46.839Z"
   },
   {
    "duration": 591,
    "start_time": "2023-03-07T01:20:49.066Z"
   },
   {
    "duration": 7,
    "start_time": "2023-03-07T01:20:49.658Z"
   },
   {
    "duration": 4,
    "start_time": "2023-03-07T01:20:49.666Z"
   },
   {
    "duration": 620,
    "start_time": "2023-03-07T01:20:49.671Z"
   },
   {
    "duration": 0,
    "start_time": "2023-03-07T01:20:50.293Z"
   },
   {
    "duration": 0,
    "start_time": "2023-03-07T01:20:50.294Z"
   },
   {
    "duration": 0,
    "start_time": "2023-03-07T01:20:50.295Z"
   },
   {
    "duration": 0,
    "start_time": "2023-03-07T01:20:50.296Z"
   },
   {
    "duration": 0,
    "start_time": "2023-03-07T01:20:50.297Z"
   },
   {
    "duration": 0,
    "start_time": "2023-03-07T01:20:50.297Z"
   },
   {
    "duration": 0,
    "start_time": "2023-03-07T01:20:50.298Z"
   },
   {
    "duration": 3570,
    "start_time": "2023-03-07T01:26:19.446Z"
   },
   {
    "duration": 777,
    "start_time": "2023-03-07T01:26:23.018Z"
   },
   {
    "duration": 13,
    "start_time": "2023-03-07T01:26:23.796Z"
   },
   {
    "duration": 2,
    "start_time": "2023-03-07T01:26:23.811Z"
   },
   {
    "duration": 231,
    "start_time": "2023-03-07T01:26:23.815Z"
   },
   {
    "duration": 5,
    "start_time": "2023-03-07T01:26:24.047Z"
   },
   {
    "duration": 4,
    "start_time": "2023-03-07T01:26:24.053Z"
   },
   {
    "duration": 2278,
    "start_time": "2023-03-07T01:26:24.058Z"
   },
   {
    "duration": 440,
    "start_time": "2023-03-07T01:26:26.338Z"
   },
   {
    "duration": 308,
    "start_time": "2023-03-07T01:26:26.779Z"
   },
   {
    "duration": 0,
    "start_time": "2023-03-07T01:26:27.088Z"
   },
   {
    "duration": 3595,
    "start_time": "2023-03-07T01:27:00.643Z"
   },
   {
    "duration": 768,
    "start_time": "2023-03-07T01:27:04.240Z"
   },
   {
    "duration": 14,
    "start_time": "2023-03-07T01:27:05.010Z"
   },
   {
    "duration": 5,
    "start_time": "2023-03-07T01:27:05.033Z"
   },
   {
    "duration": 228,
    "start_time": "2023-03-07T01:27:05.041Z"
   },
   {
    "duration": 7,
    "start_time": "2023-03-07T01:27:05.271Z"
   },
   {
    "duration": 11,
    "start_time": "2023-03-07T01:27:05.279Z"
   },
   {
    "duration": 2253,
    "start_time": "2023-03-07T01:27:05.292Z"
   },
   {
    "duration": 441,
    "start_time": "2023-03-07T01:27:07.547Z"
   },
   {
    "duration": 794398,
    "start_time": "2023-03-07T01:27:07.989Z"
   },
   {
    "duration": 0,
    "start_time": "2023-03-07T01:40:22.388Z"
   },
   {
    "duration": 3645,
    "start_time": "2023-03-07T01:40:54.080Z"
   },
   {
    "duration": 781,
    "start_time": "2023-03-07T01:40:57.727Z"
   },
   {
    "duration": 14,
    "start_time": "2023-03-07T01:40:58.509Z"
   },
   {
    "duration": 4,
    "start_time": "2023-03-07T01:40:58.533Z"
   },
   {
    "duration": 233,
    "start_time": "2023-03-07T01:40:58.539Z"
   },
   {
    "duration": 5,
    "start_time": "2023-03-07T01:40:58.773Z"
   },
   {
    "duration": 7,
    "start_time": "2023-03-07T01:40:58.780Z"
   },
   {
    "duration": 12,
    "start_time": "2023-03-07T01:40:58.788Z"
   },
   {
    "duration": 2244,
    "start_time": "2023-03-07T01:40:58.801Z"
   },
   {
    "duration": 454,
    "start_time": "2023-03-07T01:41:01.047Z"
   },
   {
    "duration": 1990249,
    "start_time": "2023-03-07T01:41:01.502Z"
   },
   {
    "duration": 9,
    "start_time": "2023-03-07T02:14:11.753Z"
   },
   {
    "duration": 4,
    "start_time": "2023-03-07T02:14:11.763Z"
   },
   {
    "duration": 52,
    "start_time": "2023-03-07T02:18:14.105Z"
   },
   {
    "duration": 8,
    "start_time": "2023-03-07T02:18:15.595Z"
   },
   {
    "duration": 13,
    "start_time": "2023-03-07T02:18:19.926Z"
   },
   {
    "duration": 324,
    "start_time": "2023-03-07T02:18:30.013Z"
   },
   {
    "duration": 3,
    "start_time": "2023-03-07T02:18:36.845Z"
   },
   {
    "duration": 6,
    "start_time": "2023-03-07T02:18:41.712Z"
   },
   {
    "duration": 3,
    "start_time": "2023-03-07T02:19:47.524Z"
   },
   {
    "duration": 15,
    "start_time": "2023-03-07T02:19:48.597Z"
   },
   {
    "duration": 4,
    "start_time": "2023-03-07T02:20:37.276Z"
   },
   {
    "duration": 15,
    "start_time": "2023-03-07T02:20:39.074Z"
   },
   {
    "duration": 16,
    "start_time": "2023-03-07T02:21:35.558Z"
   },
   {
    "duration": 4,
    "start_time": "2023-03-07T02:21:40.234Z"
   },
   {
    "duration": 3,
    "start_time": "2023-03-07T02:21:44.713Z"
   },
   {
    "duration": 4021,
    "start_time": "2023-03-07T02:21:46.186Z"
   },
   {
    "duration": 5,
    "start_time": "2023-03-07T02:21:51.149Z"
   },
   {
    "duration": 2,
    "start_time": "2023-03-07T02:22:20.975Z"
   },
   {
    "duration": 7672,
    "start_time": "2023-03-07T02:22:43.900Z"
   },
   {
    "duration": 3741,
    "start_time": "2023-03-07T02:22:56.913Z"
   },
   {
    "duration": 5,
    "start_time": "2023-03-07T02:23:02.520Z"
   },
   {
    "duration": 4,
    "start_time": "2023-03-07T02:23:24.060Z"
   },
   {
    "duration": 4,
    "start_time": "2023-03-07T02:24:04.630Z"
   },
   {
    "duration": 4004,
    "start_time": "2023-03-07T02:35:51.272Z"
   },
   {
    "duration": 3,
    "start_time": "2023-03-07T02:37:33.488Z"
   },
   {
    "duration": 3,
    "start_time": "2023-03-07T02:37:34.372Z"
   },
   {
    "duration": 3871,
    "start_time": "2023-03-07T02:37:35.122Z"
   },
   {
    "duration": 4,
    "start_time": "2023-03-07T02:37:40.171Z"
   },
   {
    "duration": 18,
    "start_time": "2023-03-07T02:38:23.746Z"
   },
   {
    "duration": 7,
    "start_time": "2023-03-07T02:39:24.630Z"
   },
   {
    "duration": 6,
    "start_time": "2023-03-07T02:39:53.275Z"
   },
   {
    "duration": 6,
    "start_time": "2023-03-07T02:40:09.362Z"
   },
   {
    "duration": 30,
    "start_time": "2023-03-07T02:40:29.864Z"
   },
   {
    "duration": 8,
    "start_time": "2023-03-07T02:40:31.929Z"
   },
   {
    "duration": 9,
    "start_time": "2023-03-07T02:40:42.842Z"
   },
   {
    "duration": 7,
    "start_time": "2023-03-07T02:40:45.211Z"
   },
   {
    "duration": 3,
    "start_time": "2023-03-07T02:40:46.028Z"
   },
   {
    "duration": 298,
    "start_time": "2023-03-07T02:40:47.266Z"
   },
   {
    "duration": 4,
    "start_time": "2023-03-07T02:40:50.089Z"
   },
   {
    "duration": 67,
    "start_time": "2023-03-07T02:44:07.049Z"
   },
   {
    "duration": 9,
    "start_time": "2023-03-07T02:44:08.707Z"
   },
   {
    "duration": 35,
    "start_time": "2023-03-07T02:44:21.151Z"
   },
   {
    "duration": 8,
    "start_time": "2023-03-07T02:44:26.121Z"
   },
   {
    "duration": 9,
    "start_time": "2023-03-07T02:46:30.365Z"
   },
   {
    "duration": 27,
    "start_time": "2023-03-07T02:46:33.278Z"
   },
   {
    "duration": 3,
    "start_time": "2023-03-07T02:46:34.311Z"
   },
   {
    "duration": 3627,
    "start_time": "2023-03-07T02:46:35.170Z"
   },
   {
    "duration": 3533,
    "start_time": "2023-03-07T02:46:47.216Z"
   },
   {
    "duration": 5,
    "start_time": "2023-03-07T02:46:58.834Z"
   },
   {
    "duration": 51,
    "start_time": "2023-03-07T21:01:34.673Z"
   },
   {
    "duration": 4170,
    "start_time": "2023-03-07T21:02:03.545Z"
   },
   {
    "duration": 292,
    "start_time": "2023-03-07T21:02:10.375Z"
   },
   {
    "duration": 16,
    "start_time": "2023-03-07T21:02:13.653Z"
   },
   {
    "duration": 4103,
    "start_time": "2023-03-07T21:02:23.565Z"
   },
   {
    "duration": 2315,
    "start_time": "2023-03-07T21:02:27.671Z"
   },
   {
    "duration": 16,
    "start_time": "2023-03-07T21:02:29.988Z"
   },
   {
    "duration": 18,
    "start_time": "2023-03-07T21:02:30.006Z"
   },
   {
    "duration": 245,
    "start_time": "2023-03-07T21:02:30.026Z"
   },
   {
    "duration": 5,
    "start_time": "2023-03-07T21:02:30.273Z"
   },
   {
    "duration": 20,
    "start_time": "2023-03-07T21:02:30.279Z"
   },
   {
    "duration": 2634,
    "start_time": "2023-03-07T21:02:30.301Z"
   },
   {
    "duration": 474,
    "start_time": "2023-03-07T21:02:32.937Z"
   },
   {
    "duration": 2243912,
    "start_time": "2023-03-07T21:02:33.415Z"
   },
   {
    "duration": 8,
    "start_time": "2023-03-07T21:39:57.328Z"
   },
   {
    "duration": 64,
    "start_time": "2023-03-07T21:39:57.338Z"
   },
   {
    "duration": 9,
    "start_time": "2023-03-07T21:39:57.403Z"
   },
   {
    "duration": 14,
    "start_time": "2023-03-07T21:39:57.414Z"
   },
   {
    "duration": 76,
    "start_time": "2023-03-07T21:39:57.430Z"
   },
   {
    "duration": 3,
    "start_time": "2023-03-07T21:39:57.508Z"
   },
   {
    "duration": 8,
    "start_time": "2023-03-07T21:39:57.512Z"
   },
   {
    "duration": 4209,
    "start_time": "2023-03-07T21:39:57.521Z"
   },
   {
    "duration": 4,
    "start_time": "2023-03-07T21:40:01.732Z"
   },
   {
    "duration": 37,
    "start_time": "2023-03-07T21:40:01.738Z"
   },
   {
    "duration": 52,
    "start_time": "2023-03-07T21:40:01.777Z"
   },
   {
    "duration": 23,
    "start_time": "2023-03-07T21:40:01.831Z"
   },
   {
    "duration": 355,
    "start_time": "2023-03-07T21:40:01.855Z"
   },
   {
    "duration": 4,
    "start_time": "2023-03-07T21:40:02.212Z"
   },
   {
    "duration": 13,
    "start_time": "2023-03-07T21:40:02.218Z"
   },
   {
    "duration": 42,
    "start_time": "2023-03-07T21:40:02.233Z"
   },
   {
    "duration": 28,
    "start_time": "2023-03-07T21:40:02.277Z"
   },
   {
    "duration": 3858,
    "start_time": "2023-03-07T21:40:02.309Z"
   },
   {
    "duration": 5,
    "start_time": "2023-03-07T21:40:06.169Z"
   },
   {
    "duration": 14,
    "start_time": "2023-03-07T21:40:06.176Z"
   },
   {
    "duration": 29,
    "start_time": "2023-03-07T21:40:06.192Z"
   },
   {
    "duration": 392,
    "start_time": "2023-03-07T21:40:06.223Z"
   },
   {
    "duration": 0,
    "start_time": "2023-03-07T21:40:06.617Z"
   },
   {
    "duration": 92,
    "start_time": "2023-03-08T00:34:09.969Z"
   },
   {
    "duration": 16,
    "start_time": "2023-03-08T00:34:12.288Z"
   },
   {
    "duration": 17,
    "start_time": "2023-03-08T00:35:22.086Z"
   },
   {
    "duration": 3,
    "start_time": "2023-03-08T00:36:09.894Z"
   },
   {
    "duration": 89,
    "start_time": "2023-03-08T00:36:12.318Z"
   },
   {
    "duration": 6,
    "start_time": "2023-03-08T00:36:15.090Z"
   },
   {
    "duration": 526,
    "start_time": "2023-03-08T00:36:37.302Z"
   },
   {
    "duration": 124,
    "start_time": "2023-03-08T00:36:40.255Z"
   },
   {
    "duration": 124,
    "start_time": "2023-03-08T00:36:42.771Z"
   },
   {
    "duration": 36,
    "start_time": "2023-03-08T00:36:49.698Z"
   },
   {
    "duration": 22,
    "start_time": "2023-03-08T00:37:20.075Z"
   },
   {
    "duration": 4821,
    "start_time": "2023-03-08T00:37:25.520Z"
   },
   {
    "duration": 5,
    "start_time": "2023-03-08T00:37:58.777Z"
   },
   {
    "duration": 20,
    "start_time": "2023-03-08T00:38:12.950Z"
   },
   {
    "duration": 34,
    "start_time": "2023-03-08T00:40:54.507Z"
   },
   {
    "duration": 50036,
    "start_time": "2023-03-08T00:41:02.275Z"
   },
   {
    "duration": 4,
    "start_time": "2023-03-08T00:42:44.020Z"
   },
   {
    "duration": 310,
    "start_time": "2023-03-08T00:46:06.714Z"
   },
   {
    "duration": 130201,
    "start_time": "2023-03-08T00:47:21.342Z"
   },
   {
    "duration": 32805,
    "start_time": "2023-03-08T00:50:41.107Z"
   },
   {
    "duration": 20,
    "start_time": "2023-03-08T00:51:44.634Z"
   },
   {
    "duration": 601289,
    "start_time": "2023-03-08T00:51:59.256Z"
   },
   {
    "duration": 0,
    "start_time": "2023-03-08T01:02:00.547Z"
   },
   {
    "duration": 357208,
    "start_time": "2023-03-08T01:02:02.702Z"
   },
   {
    "duration": 0,
    "start_time": "2023-03-08T01:07:59.911Z"
   },
   {
    "duration": 186086,
    "start_time": "2023-03-08T01:08:03.265Z"
   },
   {
    "duration": 177897,
    "start_time": "2023-03-08T01:17:50.899Z"
   },
   {
    "duration": 42196,
    "start_time": "2023-03-08T01:20:50.294Z"
   },
   {
    "duration": 43165,
    "start_time": "2023-03-08T01:21:42.325Z"
   },
   {
    "duration": 2755,
    "start_time": "2023-03-08T01:23:03.409Z"
   },
   {
    "duration": 12292,
    "start_time": "2023-03-08T01:23:27.414Z"
   },
   {
    "duration": 16044,
    "start_time": "2023-03-08T01:24:28.566Z"
   },
   {
    "duration": 17229,
    "start_time": "2023-03-08T01:25:31.784Z"
   },
   {
    "duration": 249727,
    "start_time": "2023-03-08T01:26:15.414Z"
   },
   {
    "duration": 152598,
    "start_time": "2023-03-08T01:30:57.216Z"
   },
   {
    "duration": 5625,
    "start_time": "2023-03-08T01:37:18.398Z"
   },
   {
    "duration": 47,
    "start_time": "2023-03-08T01:40:27.769Z"
   },
   {
    "duration": 4000,
    "start_time": "2023-03-08T01:40:35.844Z"
   },
   {
    "duration": 2263,
    "start_time": "2023-03-08T01:40:39.846Z"
   },
   {
    "duration": 16,
    "start_time": "2023-03-08T01:40:42.111Z"
   },
   {
    "duration": 5,
    "start_time": "2023-03-08T01:40:42.129Z"
   },
   {
    "duration": 229,
    "start_time": "2023-03-08T01:40:42.136Z"
   },
   {
    "duration": 5,
    "start_time": "2023-03-08T01:40:42.367Z"
   },
   {
    "duration": 5,
    "start_time": "2023-03-08T01:40:42.374Z"
   },
   {
    "duration": 2436,
    "start_time": "2023-03-08T01:40:42.390Z"
   },
   {
    "duration": 491,
    "start_time": "2023-03-08T01:40:44.828Z"
   },
   {
    "duration": 2195518,
    "start_time": "2023-03-08T01:40:45.320Z"
   },
   {
    "duration": 9,
    "start_time": "2023-03-08T02:17:20.840Z"
   },
   {
    "duration": 70,
    "start_time": "2023-03-08T02:17:20.850Z"
   },
   {
    "duration": 9,
    "start_time": "2023-03-08T02:17:20.922Z"
   },
   {
    "duration": 14,
    "start_time": "2023-03-08T02:17:20.933Z"
   },
   {
    "duration": 88,
    "start_time": "2023-03-08T02:17:20.948Z"
   },
   {
    "duration": 2,
    "start_time": "2023-03-08T02:17:21.038Z"
   },
   {
    "duration": 9,
    "start_time": "2023-03-08T02:17:21.042Z"
   },
   {
    "duration": 4158,
    "start_time": "2023-03-08T02:17:21.052Z"
   },
   {
    "duration": 4,
    "start_time": "2023-03-08T02:17:25.212Z"
   },
   {
    "duration": 18,
    "start_time": "2023-03-08T02:17:25.218Z"
   },
   {
    "duration": 15,
    "start_time": "2023-03-08T02:17:25.237Z"
   },
   {
    "duration": 14,
    "start_time": "2023-03-08T02:17:25.253Z"
   },
   {
    "duration": 328,
    "start_time": "2023-03-08T02:17:25.268Z"
   },
   {
    "duration": 4,
    "start_time": "2023-03-08T02:17:25.598Z"
   },
   {
    "duration": 11,
    "start_time": "2023-03-08T02:17:25.604Z"
   },
   {
    "duration": 32,
    "start_time": "2023-03-08T02:17:25.616Z"
   },
   {
    "duration": 6,
    "start_time": "2023-03-08T02:17:25.650Z"
   },
   {
    "duration": 3815,
    "start_time": "2023-03-08T02:17:25.658Z"
   },
   {
    "duration": 4,
    "start_time": "2023-03-08T02:17:29.475Z"
   },
   {
    "duration": 12,
    "start_time": "2023-03-08T02:17:29.481Z"
   },
   {
    "duration": 101,
    "start_time": "2023-03-08T02:17:29.495Z"
   },
   {
    "duration": 307,
    "start_time": "2023-03-08T02:17:29.598Z"
   },
   {
    "duration": 131,
    "start_time": "2023-03-08T02:17:29.906Z"
   },
   {
    "duration": 137,
    "start_time": "2023-03-08T02:17:30.039Z"
   },
   {
    "duration": 4292,
    "start_time": "2023-03-08T02:17:30.178Z"
   },
   {
    "duration": 17,
    "start_time": "2023-03-08T02:17:34.472Z"
   },
   {
    "duration": 18026,
    "start_time": "2023-03-08T02:17:34.491Z"
   },
   {
    "duration": 159705,
    "start_time": "2023-03-08T02:17:52.519Z"
   },
   {
    "duration": 1650486,
    "start_time": "2023-03-08T02:20:32.225Z"
   },
   {
    "duration": 0,
    "start_time": "2023-03-08T02:48:02.713Z"
   },
   {
    "duration": 0,
    "start_time": "2023-03-08T02:48:02.714Z"
   },
   {
    "duration": 0,
    "start_time": "2023-03-08T02:48:02.715Z"
   },
   {
    "duration": 1659042,
    "start_time": "2023-03-08T03:00:19.343Z"
   },
   {
    "duration": 47,
    "start_time": "2023-03-08T12:59:41.736Z"
   },
   {
    "duration": 3759,
    "start_time": "2023-03-08T12:59:51.503Z"
   },
   {
    "duration": 2140,
    "start_time": "2023-03-08T12:59:55.264Z"
   },
   {
    "duration": 14,
    "start_time": "2023-03-08T12:59:57.405Z"
   },
   {
    "duration": 9,
    "start_time": "2023-03-08T12:59:57.421Z"
   },
   {
    "duration": 242,
    "start_time": "2023-03-08T12:59:57.431Z"
   },
   {
    "duration": 6,
    "start_time": "2023-03-08T12:59:57.674Z"
   },
   {
    "duration": 5,
    "start_time": "2023-03-08T12:59:57.681Z"
   },
   {
    "duration": 2317,
    "start_time": "2023-03-08T12:59:57.688Z"
   },
   {
    "duration": 479,
    "start_time": "2023-03-08T13:00:00.007Z"
   },
   {
    "duration": 2086066,
    "start_time": "2023-03-08T13:00:00.488Z"
   },
   {
    "duration": 9,
    "start_time": "2023-03-08T13:34:46.556Z"
   },
   {
    "duration": 50,
    "start_time": "2023-03-08T13:34:46.591Z"
   },
   {
    "duration": 9,
    "start_time": "2023-03-08T13:34:46.643Z"
   },
   {
    "duration": 17,
    "start_time": "2023-03-08T13:34:46.654Z"
   },
   {
    "duration": 63,
    "start_time": "2023-03-08T13:34:46.673Z"
   },
   {
    "duration": 3,
    "start_time": "2023-03-08T13:34:46.738Z"
   },
   {
    "duration": 11,
    "start_time": "2023-03-08T13:34:46.742Z"
   },
   {
    "duration": 4464,
    "start_time": "2023-03-08T13:34:46.755Z"
   },
   {
    "duration": 5,
    "start_time": "2023-03-08T13:34:51.220Z"
   },
   {
    "duration": 22,
    "start_time": "2023-03-08T13:34:51.227Z"
   },
   {
    "duration": 11,
    "start_time": "2023-03-08T13:34:51.251Z"
   },
   {
    "duration": 9,
    "start_time": "2023-03-08T13:34:51.263Z"
   },
   {
    "duration": 418,
    "start_time": "2023-03-08T13:34:51.279Z"
   },
   {
    "duration": 5,
    "start_time": "2023-03-08T13:34:51.704Z"
   },
   {
    "duration": 11,
    "start_time": "2023-03-08T13:34:51.711Z"
   },
   {
    "duration": 38,
    "start_time": "2023-03-08T13:34:51.724Z"
   },
   {
    "duration": 5,
    "start_time": "2023-03-08T13:34:51.764Z"
   },
   {
    "duration": 4299,
    "start_time": "2023-03-08T13:34:51.773Z"
   },
   {
    "duration": 23,
    "start_time": "2023-03-08T13:34:56.074Z"
   },
   {
    "duration": 36,
    "start_time": "2023-03-08T13:34:56.098Z"
   },
   {
    "duration": 159,
    "start_time": "2023-03-08T13:34:56.136Z"
   },
   {
    "duration": 610,
    "start_time": "2023-03-08T13:34:56.312Z"
   },
   {
    "duration": 136,
    "start_time": "2023-03-08T13:34:56.924Z"
   },
   {
    "duration": 160,
    "start_time": "2023-03-08T13:34:57.062Z"
   },
   {
    "duration": 4875,
    "start_time": "2023-03-08T13:34:57.224Z"
   },
   {
    "duration": 6,
    "start_time": "2023-03-08T13:35:02.107Z"
   },
   {
    "duration": 14621,
    "start_time": "2023-03-08T13:35:02.115Z"
   },
   {
    "duration": 41771,
    "start_time": "2023-03-08T13:35:16.737Z"
   },
   {
    "duration": 0,
    "start_time": "2023-03-08T13:35:58.511Z"
   },
   {
    "duration": 0,
    "start_time": "2023-03-08T13:35:58.512Z"
   },
   {
    "duration": 0,
    "start_time": "2023-03-08T13:35:58.514Z"
   },
   {
    "duration": 0,
    "start_time": "2023-03-08T13:35:58.515Z"
   },
   {
    "duration": 8,
    "start_time": "2023-03-08T13:36:37.123Z"
   },
   {
    "duration": 17,
    "start_time": "2023-03-08T13:36:53.772Z"
   },
   {
    "duration": 93,
    "start_time": "2023-03-08T13:43:55.358Z"
   },
   {
    "duration": 41,
    "start_time": "2023-03-08T13:44:01.046Z"
   },
   {
    "duration": 7,
    "start_time": "2023-03-08T13:46:32.823Z"
   },
   {
    "duration": 4,
    "start_time": "2023-03-08T13:46:34.440Z"
   },
   {
    "duration": 7,
    "start_time": "2023-03-08T13:46:35.831Z"
   },
   {
    "duration": 33,
    "start_time": "2023-03-08T13:46:54.672Z"
   },
   {
    "duration": 7,
    "start_time": "2023-03-08T13:47:17.625Z"
   },
   {
    "duration": 95,
    "start_time": "2023-03-08T13:47:38.331Z"
   },
   {
    "duration": 31,
    "start_time": "2023-03-08T13:49:13.339Z"
   },
   {
    "duration": 102,
    "start_time": "2023-03-08T13:49:43.661Z"
   },
   {
    "duration": 3979,
    "start_time": "2023-03-08T13:50:14.018Z"
   },
   {
    "duration": 873,
    "start_time": "2023-03-08T13:50:18.003Z"
   },
   {
    "duration": 38,
    "start_time": "2023-03-08T13:50:18.877Z"
   },
   {
    "duration": 13,
    "start_time": "2023-03-08T13:50:18.917Z"
   },
   {
    "duration": 2,
    "start_time": "2023-03-08T13:50:18.932Z"
   },
   {
    "duration": 284,
    "start_time": "2023-03-08T13:50:18.935Z"
   },
   {
    "duration": 6,
    "start_time": "2023-03-08T13:50:19.220Z"
   },
   {
    "duration": 2,
    "start_time": "2023-03-08T13:50:19.227Z"
   },
   {
    "duration": 2588,
    "start_time": "2023-03-08T13:50:19.231Z"
   },
   {
    "duration": 488,
    "start_time": "2023-03-08T13:50:21.821Z"
   },
   {
    "duration": 3961,
    "start_time": "2023-03-08T13:51:53.924Z"
   },
   {
    "duration": 372,
    "start_time": "2023-03-08T13:51:57.898Z"
   },
   {
    "duration": 0,
    "start_time": "2023-03-08T13:51:58.272Z"
   },
   {
    "duration": 0,
    "start_time": "2023-03-08T13:51:58.273Z"
   },
   {
    "duration": 0,
    "start_time": "2023-03-08T13:51:58.274Z"
   },
   {
    "duration": 0,
    "start_time": "2023-03-08T13:51:58.285Z"
   },
   {
    "duration": 0,
    "start_time": "2023-03-08T13:51:58.286Z"
   },
   {
    "duration": 0,
    "start_time": "2023-03-08T13:51:58.286Z"
   },
   {
    "duration": 0,
    "start_time": "2023-03-08T13:51:58.287Z"
   },
   {
    "duration": 0,
    "start_time": "2023-03-08T13:51:58.287Z"
   },
   {
    "duration": 0,
    "start_time": "2023-03-08T13:51:58.288Z"
   },
   {
    "duration": 0,
    "start_time": "2023-03-08T13:51:58.288Z"
   },
   {
    "duration": 0,
    "start_time": "2023-03-08T13:51:58.289Z"
   },
   {
    "duration": 0,
    "start_time": "2023-03-08T13:51:58.291Z"
   },
   {
    "duration": 0,
    "start_time": "2023-03-08T13:51:58.292Z"
   },
   {
    "duration": 0,
    "start_time": "2023-03-08T13:51:58.297Z"
   },
   {
    "duration": 0,
    "start_time": "2023-03-08T13:51:58.303Z"
   },
   {
    "duration": 0,
    "start_time": "2023-03-08T13:51:58.304Z"
   },
   {
    "duration": 0,
    "start_time": "2023-03-08T13:51:58.305Z"
   },
   {
    "duration": 0,
    "start_time": "2023-03-08T13:51:58.308Z"
   },
   {
    "duration": 0,
    "start_time": "2023-03-08T13:51:58.309Z"
   },
   {
    "duration": 0,
    "start_time": "2023-03-08T13:51:58.310Z"
   },
   {
    "duration": 0,
    "start_time": "2023-03-08T13:51:58.312Z"
   },
   {
    "duration": 0,
    "start_time": "2023-03-08T13:51:58.313Z"
   },
   {
    "duration": 0,
    "start_time": "2023-03-08T13:51:58.316Z"
   },
   {
    "duration": 0,
    "start_time": "2023-03-08T13:51:58.316Z"
   },
   {
    "duration": 0,
    "start_time": "2023-03-08T13:51:58.317Z"
   },
   {
    "duration": 0,
    "start_time": "2023-03-08T13:51:58.318Z"
   },
   {
    "duration": 0,
    "start_time": "2023-03-08T13:51:58.319Z"
   },
   {
    "duration": 0,
    "start_time": "2023-03-08T13:51:58.320Z"
   },
   {
    "duration": 0,
    "start_time": "2023-03-08T13:51:58.321Z"
   },
   {
    "duration": 0,
    "start_time": "2023-03-08T13:51:58.322Z"
   },
   {
    "duration": 0,
    "start_time": "2023-03-08T13:51:58.323Z"
   },
   {
    "duration": 0,
    "start_time": "2023-03-08T13:51:58.324Z"
   },
   {
    "duration": 0,
    "start_time": "2023-03-08T13:51:58.325Z"
   },
   {
    "duration": 0,
    "start_time": "2023-03-08T13:51:58.325Z"
   },
   {
    "duration": 0,
    "start_time": "2023-03-08T13:51:58.326Z"
   },
   {
    "duration": 0,
    "start_time": "2023-03-08T13:51:58.327Z"
   },
   {
    "duration": 0,
    "start_time": "2023-03-08T13:51:58.328Z"
   },
   {
    "duration": 0,
    "start_time": "2023-03-08T13:51:58.329Z"
   },
   {
    "duration": 0,
    "start_time": "2023-03-08T13:51:58.329Z"
   },
   {
    "duration": 0,
    "start_time": "2023-03-08T13:51:58.330Z"
   },
   {
    "duration": 0,
    "start_time": "2023-03-08T13:51:58.331Z"
   },
   {
    "duration": 0,
    "start_time": "2023-03-08T13:51:58.332Z"
   },
   {
    "duration": 0,
    "start_time": "2023-03-08T13:51:58.333Z"
   },
   {
    "duration": 0,
    "start_time": "2023-03-08T13:51:58.334Z"
   },
   {
    "duration": 1018,
    "start_time": "2023-03-08T13:52:54.502Z"
   },
   {
    "duration": 4234,
    "start_time": "2023-03-08T13:53:03.221Z"
   },
   {
    "duration": 887,
    "start_time": "2023-03-08T13:53:07.457Z"
   },
   {
    "duration": 27,
    "start_time": "2023-03-08T13:53:08.345Z"
   },
   {
    "duration": 15,
    "start_time": "2023-03-08T13:53:08.389Z"
   },
   {
    "duration": 13,
    "start_time": "2023-03-08T13:53:08.406Z"
   },
   {
    "duration": 255,
    "start_time": "2023-03-08T13:53:08.421Z"
   },
   {
    "duration": 16,
    "start_time": "2023-03-08T13:53:08.685Z"
   },
   {
    "duration": 13,
    "start_time": "2023-03-08T13:53:08.702Z"
   },
   {
    "duration": 2733,
    "start_time": "2023-03-08T13:53:08.717Z"
   },
   {
    "duration": 518,
    "start_time": "2023-03-08T13:53:11.453Z"
   },
   {
    "duration": 2217215,
    "start_time": "2023-03-08T13:53:11.972Z"
   },
   {
    "duration": 19,
    "start_time": "2023-03-08T14:30:09.191Z"
   },
   {
    "duration": 57,
    "start_time": "2023-03-08T14:30:09.211Z"
   },
   {
    "duration": 8,
    "start_time": "2023-03-08T14:30:09.270Z"
   },
   {
    "duration": 47,
    "start_time": "2023-03-08T14:30:09.279Z"
   },
   {
    "duration": 38,
    "start_time": "2023-03-08T14:30:09.328Z"
   },
   {
    "duration": 8,
    "start_time": "2023-03-08T14:30:09.368Z"
   },
   {
    "duration": 23,
    "start_time": "2023-03-08T14:30:09.377Z"
   },
   {
    "duration": 17,
    "start_time": "2023-03-08T14:30:09.413Z"
   },
   {
    "duration": 2,
    "start_time": "2023-03-08T14:30:09.432Z"
   },
   {
    "duration": 4,
    "start_time": "2023-03-08T14:30:09.436Z"
   },
   {
    "duration": 4488,
    "start_time": "2023-03-08T14:30:09.441Z"
   },
   {
    "duration": 4,
    "start_time": "2023-03-08T14:30:13.930Z"
   },
   {
    "duration": 14,
    "start_time": "2023-03-08T14:30:13.936Z"
   },
   {
    "duration": 10,
    "start_time": "2023-03-08T14:30:13.951Z"
   },
   {
    "duration": 8,
    "start_time": "2023-03-08T14:30:13.962Z"
   },
   {
    "duration": 402,
    "start_time": "2023-03-08T14:30:13.972Z"
   },
   {
    "duration": 28,
    "start_time": "2023-03-08T14:30:14.381Z"
   },
   {
    "duration": 23,
    "start_time": "2023-03-08T14:30:14.410Z"
   },
   {
    "duration": 41,
    "start_time": "2023-03-08T14:30:14.435Z"
   },
   {
    "duration": 50,
    "start_time": "2023-03-08T14:30:14.478Z"
   },
   {
    "duration": 4164,
    "start_time": "2023-03-08T14:30:14.530Z"
   },
   {
    "duration": 4,
    "start_time": "2023-03-08T14:30:18.696Z"
   },
   {
    "duration": 8,
    "start_time": "2023-03-08T14:30:18.701Z"
   },
   {
    "duration": 98,
    "start_time": "2023-03-08T14:30:18.710Z"
   },
   {
    "duration": 324,
    "start_time": "2023-03-08T14:30:18.809Z"
   },
   {
    "duration": 130,
    "start_time": "2023-03-08T14:30:19.134Z"
   },
   {
    "duration": 153,
    "start_time": "2023-03-08T14:30:19.265Z"
   },
   {
    "duration": 8,
    "start_time": "2023-03-08T14:30:19.419Z"
   },
   {
    "duration": 5,
    "start_time": "2023-03-08T14:30:19.428Z"
   },
   {
    "duration": 394,
    "start_time": "2023-03-08T14:30:19.434Z"
   },
   {
    "duration": 0,
    "start_time": "2023-03-08T14:30:19.830Z"
   },
   {
    "duration": 0,
    "start_time": "2023-03-08T14:30:19.831Z"
   },
   {
    "duration": 0,
    "start_time": "2023-03-08T14:30:19.832Z"
   },
   {
    "duration": 0,
    "start_time": "2023-03-08T14:30:19.833Z"
   },
   {
    "duration": 0,
    "start_time": "2023-03-08T14:30:19.833Z"
   },
   {
    "duration": 17,
    "start_time": "2023-03-08T15:42:47.166Z"
   },
   {
    "duration": 3,
    "start_time": "2023-03-08T15:42:58.217Z"
   },
   {
    "duration": 5,
    "start_time": "2023-03-08T15:47:23.324Z"
   },
   {
    "duration": 84,
    "start_time": "2023-03-08T15:47:25.267Z"
   },
   {
    "duration": 111,
    "start_time": "2023-03-08T15:47:27.247Z"
   },
   {
    "duration": 338,
    "start_time": "2023-03-08T15:47:35.499Z"
   },
   {
    "duration": 17,
    "start_time": "2023-03-08T15:47:43.970Z"
   },
   {
    "duration": 17,
    "start_time": "2023-03-08T15:47:58.968Z"
   },
   {
    "duration": 3866,
    "start_time": "2023-03-08T15:48:13.300Z"
   },
   {
    "duration": 820,
    "start_time": "2023-03-08T15:48:17.168Z"
   },
   {
    "duration": 29,
    "start_time": "2023-03-08T15:48:17.990Z"
   },
   {
    "duration": 12,
    "start_time": "2023-03-08T15:48:18.021Z"
   },
   {
    "duration": 11,
    "start_time": "2023-03-08T15:48:18.036Z"
   },
   {
    "duration": 247,
    "start_time": "2023-03-08T15:48:18.048Z"
   },
   {
    "duration": 5,
    "start_time": "2023-03-08T15:48:18.296Z"
   },
   {
    "duration": 4,
    "start_time": "2023-03-08T15:48:18.302Z"
   },
   {
    "duration": 2293,
    "start_time": "2023-03-08T15:48:18.308Z"
   },
   {
    "duration": 494,
    "start_time": "2023-03-08T15:48:20.602Z"
   },
   {
    "duration": 104077,
    "start_time": "2023-03-08T15:48:21.098Z"
   },
   {
    "duration": 0,
    "start_time": "2023-03-08T15:50:05.177Z"
   },
   {
    "duration": 0,
    "start_time": "2023-03-08T15:50:05.178Z"
   },
   {
    "duration": 0,
    "start_time": "2023-03-08T15:50:05.179Z"
   },
   {
    "duration": 0,
    "start_time": "2023-03-08T15:50:05.180Z"
   },
   {
    "duration": 0,
    "start_time": "2023-03-08T15:50:05.181Z"
   },
   {
    "duration": 0,
    "start_time": "2023-03-08T15:50:05.181Z"
   },
   {
    "duration": 0,
    "start_time": "2023-03-08T15:50:05.182Z"
   },
   {
    "duration": 0,
    "start_time": "2023-03-08T15:50:05.183Z"
   },
   {
    "duration": 0,
    "start_time": "2023-03-08T15:50:05.184Z"
   },
   {
    "duration": 0,
    "start_time": "2023-03-08T15:50:05.185Z"
   },
   {
    "duration": 0,
    "start_time": "2023-03-08T15:50:05.186Z"
   },
   {
    "duration": 0,
    "start_time": "2023-03-08T15:50:05.186Z"
   },
   {
    "duration": 0,
    "start_time": "2023-03-08T15:50:05.187Z"
   },
   {
    "duration": 0,
    "start_time": "2023-03-08T15:50:05.188Z"
   },
   {
    "duration": 0,
    "start_time": "2023-03-08T15:50:05.189Z"
   },
   {
    "duration": 0,
    "start_time": "2023-03-08T15:50:05.191Z"
   },
   {
    "duration": 0,
    "start_time": "2023-03-08T15:50:05.191Z"
   },
   {
    "duration": 0,
    "start_time": "2023-03-08T15:50:05.192Z"
   },
   {
    "duration": 0,
    "start_time": "2023-03-08T15:50:05.193Z"
   },
   {
    "duration": 0,
    "start_time": "2023-03-08T15:50:05.194Z"
   },
   {
    "duration": 0,
    "start_time": "2023-03-08T15:50:05.195Z"
   },
   {
    "duration": 0,
    "start_time": "2023-03-08T15:50:05.195Z"
   },
   {
    "duration": 0,
    "start_time": "2023-03-08T15:50:05.196Z"
   },
   {
    "duration": 0,
    "start_time": "2023-03-08T15:50:05.197Z"
   },
   {
    "duration": 0,
    "start_time": "2023-03-08T15:50:05.198Z"
   },
   {
    "duration": 0,
    "start_time": "2023-03-08T15:50:05.199Z"
   },
   {
    "duration": 0,
    "start_time": "2023-03-08T15:50:05.200Z"
   },
   {
    "duration": 0,
    "start_time": "2023-03-08T15:50:05.201Z"
   },
   {
    "duration": 0,
    "start_time": "2023-03-08T15:50:05.202Z"
   },
   {
    "duration": 0,
    "start_time": "2023-03-08T15:50:05.202Z"
   },
   {
    "duration": 0,
    "start_time": "2023-03-08T15:50:05.203Z"
   },
   {
    "duration": 0,
    "start_time": "2023-03-08T15:50:05.204Z"
   },
   {
    "duration": 0,
    "start_time": "2023-03-08T15:50:05.205Z"
   },
   {
    "duration": 0,
    "start_time": "2023-03-08T15:50:05.206Z"
   },
   {
    "duration": 0,
    "start_time": "2023-03-08T15:50:05.207Z"
   },
   {
    "duration": 3830,
    "start_time": "2023-03-08T16:32:33.451Z"
   },
   {
    "duration": 790,
    "start_time": "2023-03-08T16:32:37.283Z"
   },
   {
    "duration": 26,
    "start_time": "2023-03-08T16:32:38.076Z"
   },
   {
    "duration": 13,
    "start_time": "2023-03-08T16:32:38.103Z"
   },
   {
    "duration": 2,
    "start_time": "2023-03-08T16:32:38.118Z"
   },
   {
    "duration": 248,
    "start_time": "2023-03-08T16:32:38.121Z"
   },
   {
    "duration": 9,
    "start_time": "2023-03-08T16:32:38.371Z"
   },
   {
    "duration": 3,
    "start_time": "2023-03-08T16:32:38.381Z"
   },
   {
    "duration": 2283,
    "start_time": "2023-03-08T16:32:38.385Z"
   },
   {
    "duration": 465,
    "start_time": "2023-03-08T16:32:40.669Z"
   },
   {
    "duration": 2007950,
    "start_time": "2023-03-08T16:32:41.135Z"
   },
   {
    "duration": 8,
    "start_time": "2023-03-08T17:06:09.087Z"
   },
   {
    "duration": 49,
    "start_time": "2023-03-08T17:06:09.096Z"
   },
   {
    "duration": 8,
    "start_time": "2023-03-08T17:06:09.148Z"
   },
   {
    "duration": 33,
    "start_time": "2023-03-08T17:06:09.157Z"
   },
   {
    "duration": 39,
    "start_time": "2023-03-08T17:06:09.191Z"
   },
   {
    "duration": 8,
    "start_time": "2023-03-08T17:06:09.231Z"
   },
   {
    "duration": 14,
    "start_time": "2023-03-08T17:06:09.240Z"
   },
   {
    "duration": 4,
    "start_time": "2023-03-08T17:06:09.256Z"
   },
   {
    "duration": 3,
    "start_time": "2023-03-08T17:06:09.279Z"
   },
   {
    "duration": 14,
    "start_time": "2023-03-08T17:06:09.283Z"
   },
   {
    "duration": 3772,
    "start_time": "2023-03-08T17:06:09.299Z"
   },
   {
    "duration": 7,
    "start_time": "2023-03-08T17:06:13.073Z"
   },
   {
    "duration": 18,
    "start_time": "2023-03-08T17:06:13.082Z"
   },
   {
    "duration": 8,
    "start_time": "2023-03-08T17:06:13.102Z"
   },
   {
    "duration": 10,
    "start_time": "2023-03-08T17:06:13.111Z"
   },
   {
    "duration": 297,
    "start_time": "2023-03-08T17:06:13.122Z"
   },
   {
    "duration": 4,
    "start_time": "2023-03-08T17:06:13.420Z"
   },
   {
    "duration": 11,
    "start_time": "2023-03-08T17:06:13.426Z"
   },
   {
    "duration": 40,
    "start_time": "2023-03-08T17:06:13.439Z"
   },
   {
    "duration": 2,
    "start_time": "2023-03-08T17:06:13.481Z"
   },
   {
    "duration": 3663,
    "start_time": "2023-03-08T17:06:13.485Z"
   },
   {
    "duration": 4,
    "start_time": "2023-03-08T17:06:17.150Z"
   },
   {
    "duration": 10,
    "start_time": "2023-03-08T17:06:17.155Z"
   },
   {
    "duration": 82,
    "start_time": "2023-03-08T17:06:17.167Z"
   },
   {
    "duration": 380,
    "start_time": "2023-03-08T17:06:17.250Z"
   },
   {
    "duration": 114,
    "start_time": "2023-03-08T17:06:17.632Z"
   },
   {
    "duration": 122,
    "start_time": "2023-03-08T17:06:17.747Z"
   },
   {
    "duration": 4209,
    "start_time": "2023-03-08T17:06:17.871Z"
   },
   {
    "duration": 368,
    "start_time": "2023-03-08T17:06:22.081Z"
   },
   {
    "duration": 0,
    "start_time": "2023-03-08T17:06:22.451Z"
   },
   {
    "duration": 0,
    "start_time": "2023-03-08T17:06:22.452Z"
   },
   {
    "duration": 0,
    "start_time": "2023-03-08T17:06:22.453Z"
   },
   {
    "duration": 0,
    "start_time": "2023-03-08T17:06:22.454Z"
   },
   {
    "duration": 0,
    "start_time": "2023-03-08T17:06:22.455Z"
   },
   {
    "duration": 0,
    "start_time": "2023-03-08T17:06:22.456Z"
   },
   {
    "duration": 0,
    "start_time": "2023-03-08T17:06:22.457Z"
   },
   {
    "duration": 19,
    "start_time": "2023-03-08T17:28:13.691Z"
   },
   {
    "duration": 25,
    "start_time": "2023-03-08T17:28:39.559Z"
   },
   {
    "duration": 20,
    "start_time": "2023-03-08T17:29:29.075Z"
   },
   {
    "duration": 15,
    "start_time": "2023-03-08T17:29:33.273Z"
   },
   {
    "duration": 3,
    "start_time": "2023-03-08T17:31:37.005Z"
   },
   {
    "duration": 6,
    "start_time": "2023-03-08T17:32:11.210Z"
   },
   {
    "duration": 43,
    "start_time": "2023-03-08T17:32:49.428Z"
   },
   {
    "duration": 18,
    "start_time": "2023-03-08T17:33:11.667Z"
   },
   {
    "duration": 16,
    "start_time": "2023-03-08T17:33:17.864Z"
   },
   {
    "duration": 4,
    "start_time": "2023-03-08T17:33:29.965Z"
   },
   {
    "duration": 4,
    "start_time": "2023-03-08T17:34:21.240Z"
   },
   {
    "duration": 4228,
    "start_time": "2023-03-08T17:35:44.446Z"
   },
   {
    "duration": 4,
    "start_time": "2023-03-08T17:36:22.064Z"
   },
   {
    "duration": 5,
    "start_time": "2023-03-08T17:36:45.698Z"
   },
   {
    "duration": 44,
    "start_time": "2023-03-08T17:37:10.871Z"
   },
   {
    "duration": 45,
    "start_time": "2023-03-08T17:37:36.649Z"
   },
   {
    "duration": 20,
    "start_time": "2023-03-08T17:38:32.124Z"
   },
   {
    "duration": 3355,
    "start_time": "2023-03-08T17:39:08.551Z"
   },
   {
    "duration": 20,
    "start_time": "2023-03-08T17:41:03.338Z"
   },
   {
    "duration": 17,
    "start_time": "2023-03-08T17:41:53.014Z"
   },
   {
    "duration": 204,
    "start_time": "2023-03-08T17:42:26.500Z"
   },
   {
    "duration": 18,
    "start_time": "2023-03-08T17:44:24.203Z"
   },
   {
    "duration": 18,
    "start_time": "2023-03-08T17:45:51.405Z"
   },
   {
    "duration": 127,
    "start_time": "2023-03-08T17:46:01.117Z"
   },
   {
    "duration": 16065,
    "start_time": "2023-03-08T17:46:13.132Z"
   },
   {
    "duration": 51,
    "start_time": "2023-03-08T17:48:43.107Z"
   },
   {
    "duration": 7,
    "start_time": "2023-03-08T17:48:59.109Z"
   },
   {
    "duration": 11193,
    "start_time": "2023-03-08T17:49:12.707Z"
   },
   {
    "duration": 2220,
    "start_time": "2023-03-08T17:49:23.902Z"
   },
   {
    "duration": 28,
    "start_time": "2023-03-08T17:49:26.124Z"
   },
   {
    "duration": 14,
    "start_time": "2023-03-08T17:49:26.154Z"
   },
   {
    "duration": 9,
    "start_time": "2023-03-08T17:49:26.170Z"
   },
   {
    "duration": 250,
    "start_time": "2023-03-08T17:49:26.181Z"
   },
   {
    "duration": 5,
    "start_time": "2023-03-08T17:49:26.433Z"
   },
   {
    "duration": 3,
    "start_time": "2023-03-08T17:49:26.439Z"
   },
   {
    "duration": 2485,
    "start_time": "2023-03-08T17:49:26.444Z"
   },
   {
    "duration": 504,
    "start_time": "2023-03-08T17:49:28.931Z"
   },
   {
    "duration": 2092527,
    "start_time": "2023-03-08T17:49:29.436Z"
   },
   {
    "duration": 17,
    "start_time": "2023-03-08T18:24:21.964Z"
   },
   {
    "duration": 56,
    "start_time": "2023-03-08T18:24:21.983Z"
   },
   {
    "duration": 8,
    "start_time": "2023-03-08T18:24:22.042Z"
   },
   {
    "duration": 33,
    "start_time": "2023-03-08T18:24:22.052Z"
   },
   {
    "duration": 40,
    "start_time": "2023-03-08T18:24:22.089Z"
   },
   {
    "duration": 8,
    "start_time": "2023-03-08T18:24:22.131Z"
   },
   {
    "duration": 11,
    "start_time": "2023-03-08T18:24:22.140Z"
   },
   {
    "duration": 36,
    "start_time": "2023-03-08T18:24:22.153Z"
   },
   {
    "duration": 4,
    "start_time": "2023-03-08T18:24:22.191Z"
   },
   {
    "duration": 5,
    "start_time": "2023-03-08T18:24:22.196Z"
   },
   {
    "duration": 4200,
    "start_time": "2023-03-08T18:24:22.202Z"
   },
   {
    "duration": 4,
    "start_time": "2023-03-08T18:24:26.404Z"
   },
   {
    "duration": 9,
    "start_time": "2023-03-08T18:24:26.410Z"
   },
   {
    "duration": 10,
    "start_time": "2023-03-08T18:24:26.421Z"
   },
   {
    "duration": 4,
    "start_time": "2023-03-08T18:24:26.432Z"
   },
   {
    "duration": 338,
    "start_time": "2023-03-08T18:24:26.437Z"
   },
   {
    "duration": 4,
    "start_time": "2023-03-08T18:24:26.777Z"
   },
   {
    "duration": 10,
    "start_time": "2023-03-08T18:24:26.783Z"
   },
   {
    "duration": 28,
    "start_time": "2023-03-08T18:24:26.795Z"
   },
   {
    "duration": 4,
    "start_time": "2023-03-08T18:24:26.825Z"
   },
   {
    "duration": 3465,
    "start_time": "2023-03-08T18:24:26.831Z"
   },
   {
    "duration": 5,
    "start_time": "2023-03-08T18:24:30.298Z"
   },
   {
    "duration": 24,
    "start_time": "2023-03-08T18:24:30.304Z"
   },
   {
    "duration": 90,
    "start_time": "2023-03-08T18:24:30.330Z"
   },
   {
    "duration": 291,
    "start_time": "2023-03-08T18:24:30.421Z"
   },
   {
    "duration": 123,
    "start_time": "2023-03-08T18:24:30.714Z"
   },
   {
    "duration": 145,
    "start_time": "2023-03-08T18:24:30.839Z"
   },
   {
    "duration": 4129,
    "start_time": "2023-03-08T18:24:30.985Z"
   },
   {
    "duration": 4,
    "start_time": "2023-03-08T18:24:35.115Z"
   },
   {
    "duration": 16373,
    "start_time": "2023-03-08T18:24:35.123Z"
   },
   {
    "duration": 0,
    "start_time": "2023-03-08T18:24:51.498Z"
   },
   {
    "duration": 0,
    "start_time": "2023-03-08T18:24:51.500Z"
   },
   {
    "duration": 0,
    "start_time": "2023-03-08T18:24:51.501Z"
   },
   {
    "duration": 0,
    "start_time": "2023-03-08T18:24:51.502Z"
   },
   {
    "duration": 0,
    "start_time": "2023-03-08T18:24:51.503Z"
   },
   {
    "duration": 1,
    "start_time": "2023-03-08T18:24:51.504Z"
   },
   {
    "duration": 0,
    "start_time": "2023-03-08T18:24:51.506Z"
   },
   {
    "duration": 56,
    "start_time": "2023-03-08T19:00:15.889Z"
   },
   {
    "duration": 10775,
    "start_time": "2023-03-08T19:00:26.581Z"
   },
   {
    "duration": 2134,
    "start_time": "2023-03-08T19:00:37.358Z"
   },
   {
    "duration": 24,
    "start_time": "2023-03-08T19:00:39.494Z"
   },
   {
    "duration": 13,
    "start_time": "2023-03-08T19:00:39.520Z"
   },
   {
    "duration": 2,
    "start_time": "2023-03-08T19:00:39.535Z"
   },
   {
    "duration": 232,
    "start_time": "2023-03-08T19:00:39.538Z"
   },
   {
    "duration": 8,
    "start_time": "2023-03-08T19:00:39.772Z"
   },
   {
    "duration": 3,
    "start_time": "2023-03-08T19:00:39.781Z"
   },
   {
    "duration": 2350,
    "start_time": "2023-03-08T19:00:39.786Z"
   },
   {
    "duration": 462,
    "start_time": "2023-03-08T19:00:42.138Z"
   },
   {
    "duration": 2033161,
    "start_time": "2023-03-08T19:00:42.601Z"
   },
   {
    "duration": 16,
    "start_time": "2023-03-08T19:34:35.764Z"
   },
   {
    "duration": 43,
    "start_time": "2023-03-08T19:34:35.782Z"
   },
   {
    "duration": 17,
    "start_time": "2023-03-08T19:34:35.828Z"
   },
   {
    "duration": 24,
    "start_time": "2023-03-08T19:34:35.847Z"
   },
   {
    "duration": 39,
    "start_time": "2023-03-08T19:34:35.873Z"
   },
   {
    "duration": 7,
    "start_time": "2023-03-08T19:34:35.913Z"
   },
   {
    "duration": 10,
    "start_time": "2023-03-08T19:34:35.922Z"
   },
   {
    "duration": 3,
    "start_time": "2023-03-08T19:34:35.933Z"
   },
   {
    "duration": 5,
    "start_time": "2023-03-08T19:34:35.937Z"
   },
   {
    "duration": 3840,
    "start_time": "2023-03-08T19:34:35.943Z"
   },
   {
    "duration": 4,
    "start_time": "2023-03-08T19:34:39.785Z"
   },
   {
    "duration": 9,
    "start_time": "2023-03-08T19:34:39.791Z"
   },
   {
    "duration": 8,
    "start_time": "2023-03-08T19:34:39.801Z"
   },
   {
    "duration": 4,
    "start_time": "2023-03-08T19:34:39.810Z"
   },
   {
    "duration": 319,
    "start_time": "2023-03-08T19:34:39.816Z"
   },
   {
    "duration": 3,
    "start_time": "2023-03-08T19:34:40.137Z"
   },
   {
    "duration": 13,
    "start_time": "2023-03-08T19:34:40.142Z"
   },
   {
    "duration": 35,
    "start_time": "2023-03-08T19:34:40.156Z"
   },
   {
    "duration": 4,
    "start_time": "2023-03-08T19:34:40.192Z"
   },
   {
    "duration": 3424,
    "start_time": "2023-03-08T19:34:40.197Z"
   },
   {
    "duration": 4,
    "start_time": "2023-03-08T19:34:43.623Z"
   },
   {
    "duration": 5,
    "start_time": "2023-03-08T19:34:43.628Z"
   },
   {
    "duration": 0,
    "start_time": "2023-03-08T19:34:43.634Z"
   },
   {
    "duration": 0,
    "start_time": "2023-03-08T19:34:43.635Z"
   },
   {
    "duration": 0,
    "start_time": "2023-03-08T19:34:43.636Z"
   },
   {
    "duration": 0,
    "start_time": "2023-03-08T19:34:43.637Z"
   },
   {
    "duration": 0,
    "start_time": "2023-03-08T19:34:43.638Z"
   },
   {
    "duration": 0,
    "start_time": "2023-03-08T19:34:43.639Z"
   },
   {
    "duration": 0,
    "start_time": "2023-03-08T19:34:43.640Z"
   },
   {
    "duration": 0,
    "start_time": "2023-03-08T19:34:43.641Z"
   },
   {
    "duration": 0,
    "start_time": "2023-03-08T19:34:43.641Z"
   },
   {
    "duration": 0,
    "start_time": "2023-03-08T19:34:43.642Z"
   },
   {
    "duration": 0,
    "start_time": "2023-03-08T19:34:43.643Z"
   },
   {
    "duration": 0,
    "start_time": "2023-03-08T19:34:43.644Z"
   },
   {
    "duration": 3,
    "start_time": "2023-03-08T19:35:16.346Z"
   },
   {
    "duration": 353,
    "start_time": "2023-03-08T19:35:24.174Z"
   },
   {
    "duration": 326,
    "start_time": "2023-03-08T19:35:41.075Z"
   },
   {
    "duration": 4,
    "start_time": "2023-03-08T19:36:49.241Z"
   },
   {
    "duration": 127,
    "start_time": "2023-03-08T19:37:38.711Z"
   },
   {
    "duration": 131,
    "start_time": "2023-03-08T19:37:41.475Z"
   },
   {
    "duration": 77,
    "start_time": "2023-03-08T19:38:03.139Z"
   },
   {
    "duration": 133,
    "start_time": "2023-03-08T19:38:05.375Z"
   },
   {
    "duration": 113,
    "start_time": "2023-03-08T19:38:08.075Z"
   },
   {
    "duration": 112,
    "start_time": "2023-03-08T19:38:10.499Z"
   },
   {
    "duration": 4650,
    "start_time": "2023-03-08T19:38:17.840Z"
   },
   {
    "duration": 3,
    "start_time": "2023-03-08T19:38:22.492Z"
   },
   {
    "duration": 14268,
    "start_time": "2023-03-08T19:38:29.028Z"
   },
   {
    "duration": 154870,
    "start_time": "2023-03-08T19:43:47.596Z"
   },
   {
    "duration": 22,
    "start_time": "2023-03-08T19:47:36.177Z"
   },
   {
    "duration": 1255,
    "start_time": "2023-03-08T19:48:28.446Z"
   },
   {
    "duration": 110,
    "start_time": "2023-03-08T19:51:07.116Z"
   },
   {
    "duration": 7,
    "start_time": "2023-03-08T19:51:31.130Z"
   },
   {
    "duration": 2311148,
    "start_time": "2023-03-08T19:52:24.332Z"
   },
   {
    "duration": 21,
    "start_time": "2023-03-08T20:31:25.695Z"
   },
   {
    "duration": 832412,
    "start_time": "2023-03-08T20:31:34.349Z"
   },
   {
    "duration": 130,
    "start_time": "2023-03-08T20:58:26.948Z"
   },
   {
    "duration": 51,
    "start_time": "2023-03-08T20:58:33.410Z"
   },
   {
    "duration": 85,
    "start_time": "2023-03-08T20:58:50.818Z"
   },
   {
    "duration": 29,
    "start_time": "2023-03-08T20:59:29.307Z"
   },
   {
    "duration": 31,
    "start_time": "2023-03-08T21:00:19.079Z"
   },
   {
    "duration": 50873,
    "start_time": "2023-03-08T21:00:35.015Z"
   },
   {
    "duration": 181514,
    "start_time": "2023-03-08T21:01:28.912Z"
   },
   {
    "duration": 298779,
    "start_time": "2023-03-08T21:06:50.037Z"
   },
   {
    "duration": 282513,
    "start_time": "2023-03-08T21:12:12.696Z"
   },
   {
    "duration": 11,
    "start_time": "2023-03-08T21:16:58.601Z"
   },
   {
    "duration": 15439,
    "start_time": "2023-03-08T21:17:12.195Z"
   },
   {
    "duration": 19,
    "start_time": "2023-03-08T21:17:40.027Z"
   },
   {
    "duration": 30,
    "start_time": "2023-03-08T21:18:20.115Z"
   },
   {
    "duration": 14,
    "start_time": "2023-03-08T21:18:25.711Z"
   },
   {
    "duration": 26,
    "start_time": "2023-03-08T21:18:30.643Z"
   },
   {
    "duration": 17,
    "start_time": "2023-03-08T21:24:04.039Z"
   },
   {
    "duration": 14,
    "start_time": "2023-03-08T21:24:09.875Z"
   },
   {
    "duration": 24,
    "start_time": "2023-03-08T21:24:15.696Z"
   },
   {
    "duration": 20,
    "start_time": "2023-03-08T21:24:45.802Z"
   },
   {
    "duration": 40,
    "start_time": "2023-03-08T21:26:16.777Z"
   },
   {
    "duration": 27,
    "start_time": "2023-03-08T21:26:45.675Z"
   },
   {
    "duration": 50,
    "start_time": "2023-03-08T21:26:50.276Z"
   },
   {
    "duration": 4396,
    "start_time": "2023-03-08T21:27:32.678Z"
   },
   {
    "duration": 952,
    "start_time": "2023-03-08T21:27:37.076Z"
   },
   {
    "duration": 24,
    "start_time": "2023-03-08T21:27:38.029Z"
   },
   {
    "duration": 11,
    "start_time": "2023-03-08T21:27:38.054Z"
   },
   {
    "duration": 27,
    "start_time": "2023-03-08T21:27:38.066Z"
   },
   {
    "duration": 268,
    "start_time": "2023-03-08T21:27:38.101Z"
   },
   {
    "duration": 10,
    "start_time": "2023-03-08T21:27:38.370Z"
   },
   {
    "duration": 3,
    "start_time": "2023-03-08T21:27:38.382Z"
   },
   {
    "duration": 2908,
    "start_time": "2023-03-08T21:27:38.386Z"
   },
   {
    "duration": 569,
    "start_time": "2023-03-08T21:27:41.297Z"
   },
   {
    "duration": 2062415,
    "start_time": "2023-03-08T21:27:41.868Z"
   },
   {
    "duration": 8,
    "start_time": "2023-03-08T22:02:04.285Z"
   },
   {
    "duration": 101,
    "start_time": "2023-03-08T22:02:04.295Z"
   },
   {
    "duration": 8,
    "start_time": "2023-03-08T22:02:04.398Z"
   },
   {
    "duration": 20,
    "start_time": "2023-03-08T22:02:04.407Z"
   },
   {
    "duration": 38,
    "start_time": "2023-03-08T22:02:04.429Z"
   },
   {
    "duration": 18,
    "start_time": "2023-03-08T22:02:04.468Z"
   },
   {
    "duration": 10,
    "start_time": "2023-03-08T22:02:04.487Z"
   },
   {
    "duration": 154,
    "start_time": "2023-03-08T22:02:04.499Z"
   },
   {
    "duration": 126,
    "start_time": "2023-03-08T22:02:04.655Z"
   },
   {
    "duration": 3,
    "start_time": "2023-03-08T22:02:04.782Z"
   },
   {
    "duration": 4,
    "start_time": "2023-03-08T22:02:04.786Z"
   },
   {
    "duration": 3736,
    "start_time": "2023-03-08T22:02:04.791Z"
   },
   {
    "duration": 4,
    "start_time": "2023-03-08T22:02:08.529Z"
   },
   {
    "duration": 9,
    "start_time": "2023-03-08T22:02:08.534Z"
   },
   {
    "duration": 14,
    "start_time": "2023-03-08T22:02:08.544Z"
   },
   {
    "duration": 3,
    "start_time": "2023-03-08T22:02:08.560Z"
   },
   {
    "duration": 308,
    "start_time": "2023-03-08T22:02:08.567Z"
   },
   {
    "duration": 6,
    "start_time": "2023-03-08T22:02:08.876Z"
   },
   {
    "duration": 10,
    "start_time": "2023-03-08T22:02:08.883Z"
   },
   {
    "duration": 28,
    "start_time": "2023-03-08T22:02:08.894Z"
   },
   {
    "duration": 5,
    "start_time": "2023-03-08T22:02:08.923Z"
   },
   {
    "duration": 3510,
    "start_time": "2023-03-08T22:02:08.929Z"
   },
   {
    "duration": 4,
    "start_time": "2023-03-08T22:02:12.440Z"
   },
   {
    "duration": 6,
    "start_time": "2023-03-08T22:02:12.446Z"
   },
   {
    "duration": 84,
    "start_time": "2023-03-08T22:02:12.453Z"
   },
   {
    "duration": 5,
    "start_time": "2023-03-08T22:02:12.538Z"
   },
   {
    "duration": 121,
    "start_time": "2023-03-08T22:02:12.545Z"
   },
   {
    "duration": 13,
    "start_time": "2023-03-08T22:02:12.667Z"
   },
   {
    "duration": 126,
    "start_time": "2023-03-08T22:02:12.682Z"
   },
   {
    "duration": 5,
    "start_time": "2023-03-08T22:02:12.810Z"
   },
   {
    "duration": 122,
    "start_time": "2023-03-08T22:02:12.817Z"
   },
   {
    "duration": 4060,
    "start_time": "2023-03-08T22:02:12.941Z"
   },
   {
    "duration": 4,
    "start_time": "2023-03-08T22:02:17.003Z"
   },
   {
    "duration": 14479,
    "start_time": "2023-03-08T22:02:17.009Z"
   },
   {
    "duration": 148730,
    "start_time": "2023-03-08T22:02:31.490Z"
   },
   {
    "duration": 134977,
    "start_time": "2023-03-08T22:05:00.222Z"
   },
   {
    "duration": 10,
    "start_time": "2023-03-08T22:07:15.200Z"
   },
   {
    "duration": 14985,
    "start_time": "2023-03-08T22:07:15.212Z"
   },
   {
    "duration": 24,
    "start_time": "2023-03-08T22:07:30.199Z"
   },
   {
    "duration": 388,
    "start_time": "2023-03-08T22:07:30.225Z"
   },
   {
    "duration": 0,
    "start_time": "2023-03-08T22:07:30.614Z"
   },
   {
    "duration": 0,
    "start_time": "2023-03-08T22:07:30.615Z"
   },
   {
    "duration": 0,
    "start_time": "2023-03-08T22:07:30.616Z"
   },
   {
    "duration": 0,
    "start_time": "2023-03-08T22:07:30.617Z"
   },
   {
    "duration": 0,
    "start_time": "2023-03-08T22:07:30.619Z"
   },
   {
    "duration": 0,
    "start_time": "2023-03-08T22:07:30.619Z"
   },
   {
    "duration": 0,
    "start_time": "2023-03-08T22:07:30.620Z"
   },
   {
    "duration": 0,
    "start_time": "2023-03-08T22:07:30.621Z"
   },
   {
    "duration": 17,
    "start_time": "2023-03-08T22:08:56.723Z"
   },
   {
    "duration": 26,
    "start_time": "2023-03-08T22:09:31.475Z"
   },
   {
    "duration": 4052,
    "start_time": "2023-03-08T22:12:11.079Z"
   },
   {
    "duration": 840,
    "start_time": "2023-03-08T22:12:15.133Z"
   },
   {
    "duration": 38,
    "start_time": "2023-03-08T22:12:15.979Z"
   },
   {
    "duration": 17,
    "start_time": "2023-03-08T22:12:16.020Z"
   },
   {
    "duration": 5,
    "start_time": "2023-03-08T22:12:16.039Z"
   },
   {
    "duration": 319,
    "start_time": "2023-03-08T22:12:16.046Z"
   },
   {
    "duration": 15,
    "start_time": "2023-03-08T22:12:16.367Z"
   },
   {
    "duration": 4,
    "start_time": "2023-03-08T22:12:16.384Z"
   },
   {
    "duration": 2547,
    "start_time": "2023-03-08T22:12:16.390Z"
   },
   {
    "duration": 495,
    "start_time": "2023-03-08T22:12:18.940Z"
   },
   {
    "duration": 24972,
    "start_time": "2023-03-08T22:12:19.436Z"
   },
   {
    "duration": 0,
    "start_time": "2023-03-08T22:12:44.411Z"
   },
   {
    "duration": 0,
    "start_time": "2023-03-08T22:12:44.412Z"
   },
   {
    "duration": 0,
    "start_time": "2023-03-08T22:12:44.413Z"
   },
   {
    "duration": 0,
    "start_time": "2023-03-08T22:12:44.414Z"
   },
   {
    "duration": 0,
    "start_time": "2023-03-08T22:12:44.416Z"
   },
   {
    "duration": 0,
    "start_time": "2023-03-08T22:12:44.417Z"
   },
   {
    "duration": 0,
    "start_time": "2023-03-08T22:12:44.418Z"
   },
   {
    "duration": 0,
    "start_time": "2023-03-08T22:12:44.419Z"
   },
   {
    "duration": 0,
    "start_time": "2023-03-08T22:12:44.420Z"
   },
   {
    "duration": 0,
    "start_time": "2023-03-08T22:12:44.421Z"
   },
   {
    "duration": 0,
    "start_time": "2023-03-08T22:12:44.422Z"
   },
   {
    "duration": 0,
    "start_time": "2023-03-08T22:12:44.423Z"
   },
   {
    "duration": 0,
    "start_time": "2023-03-08T22:12:44.423Z"
   },
   {
    "duration": 0,
    "start_time": "2023-03-08T22:12:44.424Z"
   },
   {
    "duration": 0,
    "start_time": "2023-03-08T22:12:44.425Z"
   },
   {
    "duration": 0,
    "start_time": "2023-03-08T22:12:44.426Z"
   },
   {
    "duration": 0,
    "start_time": "2023-03-08T22:12:44.427Z"
   },
   {
    "duration": 0,
    "start_time": "2023-03-08T22:12:44.428Z"
   },
   {
    "duration": 0,
    "start_time": "2023-03-08T22:12:44.428Z"
   },
   {
    "duration": 0,
    "start_time": "2023-03-08T22:12:44.429Z"
   },
   {
    "duration": 0,
    "start_time": "2023-03-08T22:12:44.432Z"
   },
   {
    "duration": 0,
    "start_time": "2023-03-08T22:12:44.433Z"
   },
   {
    "duration": 0,
    "start_time": "2023-03-08T22:12:44.434Z"
   },
   {
    "duration": 0,
    "start_time": "2023-03-08T22:12:44.435Z"
   },
   {
    "duration": 0,
    "start_time": "2023-03-08T22:12:44.436Z"
   },
   {
    "duration": 0,
    "start_time": "2023-03-08T22:12:44.436Z"
   },
   {
    "duration": 0,
    "start_time": "2023-03-08T22:12:44.438Z"
   },
   {
    "duration": 0,
    "start_time": "2023-03-08T22:12:44.439Z"
   },
   {
    "duration": 0,
    "start_time": "2023-03-08T22:12:44.440Z"
   },
   {
    "duration": 0,
    "start_time": "2023-03-08T22:12:44.440Z"
   },
   {
    "duration": 0,
    "start_time": "2023-03-08T22:12:44.441Z"
   },
   {
    "duration": 0,
    "start_time": "2023-03-08T22:12:44.480Z"
   },
   {
    "duration": 0,
    "start_time": "2023-03-08T22:12:44.481Z"
   },
   {
    "duration": 0,
    "start_time": "2023-03-08T22:12:44.482Z"
   },
   {
    "duration": 0,
    "start_time": "2023-03-08T22:12:44.483Z"
   },
   {
    "duration": 0,
    "start_time": "2023-03-08T22:12:44.484Z"
   },
   {
    "duration": 0,
    "start_time": "2023-03-08T22:12:44.484Z"
   },
   {
    "duration": 1,
    "start_time": "2023-03-08T22:12:44.485Z"
   },
   {
    "duration": 0,
    "start_time": "2023-03-08T22:12:44.487Z"
   },
   {
    "duration": 0,
    "start_time": "2023-03-08T22:12:44.488Z"
   },
   {
    "duration": 0,
    "start_time": "2023-03-08T22:12:44.489Z"
   },
   {
    "duration": 0,
    "start_time": "2023-03-08T22:12:44.490Z"
   },
   {
    "duration": 0,
    "start_time": "2023-03-08T22:12:44.491Z"
   },
   {
    "duration": 0,
    "start_time": "2023-03-08T22:12:44.492Z"
   },
   {
    "duration": 0,
    "start_time": "2023-03-08T22:12:44.492Z"
   },
   {
    "duration": 0,
    "start_time": "2023-03-08T22:12:44.493Z"
   },
   {
    "duration": 0,
    "start_time": "2023-03-08T22:12:44.494Z"
   },
   {
    "duration": 0,
    "start_time": "2023-03-08T22:12:44.495Z"
   },
   {
    "duration": 0,
    "start_time": "2023-03-08T22:12:44.496Z"
   },
   {
    "duration": 0,
    "start_time": "2023-03-08T22:12:44.496Z"
   },
   {
    "duration": 3966,
    "start_time": "2023-03-08T22:13:59.978Z"
   },
   {
    "duration": 815,
    "start_time": "2023-03-08T22:14:03.946Z"
   },
   {
    "duration": 27,
    "start_time": "2023-03-08T22:14:04.763Z"
   },
   {
    "duration": 91,
    "start_time": "2023-03-08T22:14:04.791Z"
   },
   {
    "duration": 2,
    "start_time": "2023-03-08T22:14:04.884Z"
   },
   {
    "duration": 261,
    "start_time": "2023-03-08T22:14:04.888Z"
   },
   {
    "duration": 8,
    "start_time": "2023-03-08T22:14:05.151Z"
   },
   {
    "duration": 3,
    "start_time": "2023-03-08T22:14:05.161Z"
   },
   {
    "duration": 2388,
    "start_time": "2023-03-08T22:14:05.166Z"
   },
   {
    "duration": 468,
    "start_time": "2023-03-08T22:14:07.557Z"
   },
   {
    "duration": 2205488,
    "start_time": "2023-03-08T22:14:08.027Z"
   },
   {
    "duration": 9,
    "start_time": "2023-03-08T22:50:53.518Z"
   },
   {
    "duration": 64,
    "start_time": "2023-03-08T22:50:53.529Z"
   },
   {
    "duration": 12,
    "start_time": "2023-03-08T22:50:53.594Z"
   },
   {
    "duration": 10,
    "start_time": "2023-03-08T22:50:53.608Z"
   },
   {
    "duration": 10,
    "start_time": "2023-03-08T22:50:53.620Z"
   },
   {
    "duration": 28,
    "start_time": "2023-03-08T22:50:53.632Z"
   },
   {
    "duration": 66,
    "start_time": "2023-03-08T22:50:53.661Z"
   },
   {
    "duration": 11,
    "start_time": "2023-03-08T22:50:53.729Z"
   },
   {
    "duration": 13,
    "start_time": "2023-03-08T22:50:53.742Z"
   },
   {
    "duration": 240,
    "start_time": "2023-03-08T22:50:53.757Z"
   },
   {
    "duration": 138,
    "start_time": "2023-03-08T22:50:53.998Z"
   },
   {
    "duration": 3,
    "start_time": "2023-03-08T22:50:54.138Z"
   },
   {
    "duration": 9,
    "start_time": "2023-03-08T22:50:54.142Z"
   },
   {
    "duration": 4942,
    "start_time": "2023-03-08T22:50:54.153Z"
   },
   {
    "duration": 5,
    "start_time": "2023-03-08T22:50:59.097Z"
   },
   {
    "duration": 28,
    "start_time": "2023-03-08T22:50:59.103Z"
   },
   {
    "duration": 11,
    "start_time": "2023-03-08T22:50:59.136Z"
   },
   {
    "duration": 7,
    "start_time": "2023-03-08T22:50:59.149Z"
   },
   {
    "duration": 440,
    "start_time": "2023-03-08T22:50:59.157Z"
   },
   {
    "duration": 5,
    "start_time": "2023-03-08T22:50:59.598Z"
   },
   {
    "duration": 11,
    "start_time": "2023-03-08T22:50:59.605Z"
   },
   {
    "duration": 35,
    "start_time": "2023-03-08T22:50:59.618Z"
   },
   {
    "duration": 8,
    "start_time": "2023-03-08T22:50:59.655Z"
   },
   {
    "duration": 4729,
    "start_time": "2023-03-08T22:50:59.664Z"
   },
   {
    "duration": 5,
    "start_time": "2023-03-08T22:51:04.403Z"
   },
   {
    "duration": 38,
    "start_time": "2023-03-08T22:51:04.410Z"
   },
   {
    "duration": 137,
    "start_time": "2023-03-08T22:51:04.450Z"
   },
   {
    "duration": 28,
    "start_time": "2023-03-08T22:51:04.588Z"
   },
   {
    "duration": 159,
    "start_time": "2023-03-08T22:51:04.618Z"
   },
   {
    "duration": 6,
    "start_time": "2023-03-08T22:51:04.780Z"
   },
   {
    "duration": 214,
    "start_time": "2023-03-08T22:51:04.788Z"
   },
   {
    "duration": 6,
    "start_time": "2023-03-08T22:51:05.006Z"
   },
   {
    "duration": 151,
    "start_time": "2023-03-08T22:51:05.014Z"
   },
   {
    "duration": 5050,
    "start_time": "2023-03-08T22:51:05.167Z"
   },
   {
    "duration": 5,
    "start_time": "2023-03-08T22:51:10.218Z"
   },
   {
    "duration": 12164,
    "start_time": "2023-03-08T22:51:10.225Z"
   },
   {
    "duration": 178225,
    "start_time": "2023-03-08T22:51:22.395Z"
   },
   {
    "duration": 111777,
    "start_time": "2023-03-08T22:54:20.622Z"
   },
   {
    "duration": 6,
    "start_time": "2023-03-08T22:56:12.401Z"
   },
   {
    "duration": 13881,
    "start_time": "2023-03-08T22:56:12.409Z"
   },
   {
    "duration": 16,
    "start_time": "2023-03-08T22:56:26.292Z"
   },
   {
    "duration": 7,
    "start_time": "2023-03-08T22:56:26.309Z"
   },
   {
    "duration": 9,
    "start_time": "2023-03-08T22:56:26.317Z"
   },
   {
    "duration": 366,
    "start_time": "2023-03-08T22:56:26.327Z"
   },
   {
    "duration": 0,
    "start_time": "2023-03-08T22:56:26.695Z"
   },
   {
    "duration": 0,
    "start_time": "2023-03-08T22:56:26.696Z"
   },
   {
    "duration": 0,
    "start_time": "2023-03-08T22:56:26.696Z"
   },
   {
    "duration": 0,
    "start_time": "2023-03-08T22:56:26.697Z"
   },
   {
    "duration": 0,
    "start_time": "2023-03-08T22:56:26.699Z"
   },
   {
    "duration": 0,
    "start_time": "2023-03-08T22:56:26.700Z"
   },
   {
    "duration": 0,
    "start_time": "2023-03-08T22:56:26.701Z"
   },
   {
    "duration": 4037,
    "start_time": "2023-03-09T00:10:12.000Z"
   },
   {
    "duration": 914,
    "start_time": "2023-03-09T00:10:16.039Z"
   },
   {
    "duration": 30,
    "start_time": "2023-03-09T00:10:16.955Z"
   },
   {
    "duration": 13,
    "start_time": "2023-03-09T00:10:16.987Z"
   },
   {
    "duration": 11,
    "start_time": "2023-03-09T00:10:17.002Z"
   },
   {
    "duration": 259,
    "start_time": "2023-03-09T00:10:17.015Z"
   },
   {
    "duration": 22,
    "start_time": "2023-03-09T00:10:17.276Z"
   },
   {
    "duration": 3,
    "start_time": "2023-03-09T00:10:21.295Z"
   },
   {
    "duration": 2832,
    "start_time": "2023-03-09T00:10:21.811Z"
   },
   {
    "duration": 544,
    "start_time": "2023-03-09T00:10:24.645Z"
   },
   {
    "duration": 2185860,
    "start_time": "2023-03-09T00:10:25.197Z"
   },
   {
    "duration": 10,
    "start_time": "2023-03-09T00:46:51.058Z"
   },
   {
    "duration": 48,
    "start_time": "2023-03-09T00:46:56.414Z"
   },
   {
    "duration": 8,
    "start_time": "2023-03-09T00:46:58.356Z"
   },
   {
    "duration": 33,
    "start_time": "2023-03-09T00:47:01.904Z"
   },
   {
    "duration": 23,
    "start_time": "2023-03-09T00:47:04.078Z"
   },
   {
    "duration": 376,
    "start_time": "2023-03-09T00:47:48.595Z"
   },
   {
    "duration": 9,
    "start_time": "2023-03-09T00:48:10.036Z"
   },
   {
    "duration": 4,
    "start_time": "2023-03-09T00:48:17.561Z"
   },
   {
    "duration": 21,
    "start_time": "2023-03-09T00:48:20.894Z"
   },
   {
    "duration": 8,
    "start_time": "2023-03-09T00:48:42.075Z"
   },
   {
    "duration": 26,
    "start_time": "2023-03-09T00:48:51.148Z"
   },
   {
    "duration": 67,
    "start_time": "2023-03-09T00:49:16.328Z"
   },
   {
    "duration": 9,
    "start_time": "2023-03-09T00:50:11.211Z"
   },
   {
    "duration": 64,
    "start_time": "2023-03-09T00:50:34.932Z"
   },
   {
    "duration": 18,
    "start_time": "2023-03-09T00:50:38.211Z"
   },
   {
    "duration": 18,
    "start_time": "2023-03-09T00:50:39.752Z"
   },
   {
    "duration": 126,
    "start_time": "2023-03-09T00:50:55.008Z"
   },
   {
    "duration": 20,
    "start_time": "2023-03-09T00:51:25.926Z"
   },
   {
    "duration": 3205,
    "start_time": "2023-03-09T00:52:09.555Z"
   },
   {
    "duration": 3522,
    "start_time": "2023-03-09T00:52:55.144Z"
   },
   {
    "duration": 3918,
    "start_time": "2023-03-09T00:59:56.696Z"
   },
   {
    "duration": 875,
    "start_time": "2023-03-09T01:00:00.616Z"
   },
   {
    "duration": 29,
    "start_time": "2023-03-09T01:00:01.493Z"
   },
   {
    "duration": 39,
    "start_time": "2023-03-09T01:00:01.524Z"
   },
   {
    "duration": 47,
    "start_time": "2023-03-09T01:00:01.566Z"
   },
   {
    "duration": 286,
    "start_time": "2023-03-09T01:00:01.615Z"
   },
   {
    "duration": 7,
    "start_time": "2023-03-09T01:00:01.903Z"
   },
   {
    "duration": 62,
    "start_time": "2023-03-09T01:00:01.911Z"
   },
   {
    "duration": 2459,
    "start_time": "2023-03-09T01:00:01.974Z"
   },
   {
    "duration": 478,
    "start_time": "2023-03-09T01:00:04.434Z"
   },
   {
    "duration": 3887,
    "start_time": "2023-03-09T01:00:34.233Z"
   },
   {
    "duration": 803,
    "start_time": "2023-03-09T01:00:38.121Z"
   },
   {
    "duration": 18,
    "start_time": "2023-03-09T01:00:38.925Z"
   },
   {
    "duration": 11,
    "start_time": "2023-03-09T01:00:38.944Z"
   },
   {
    "duration": 2,
    "start_time": "2023-03-09T01:00:38.957Z"
   },
   {
    "duration": 258,
    "start_time": "2023-03-09T01:00:38.961Z"
   },
   {
    "duration": 6,
    "start_time": "2023-03-09T01:00:39.221Z"
   },
   {
    "duration": 2,
    "start_time": "2023-03-09T01:00:39.229Z"
   },
   {
    "duration": 2344,
    "start_time": "2023-03-09T01:00:39.233Z"
   },
   {
    "duration": 471,
    "start_time": "2023-03-09T01:00:41.578Z"
   },
   {
    "duration": 2095410,
    "start_time": "2023-03-09T01:00:42.050Z"
   },
   {
    "duration": 7,
    "start_time": "2023-03-09T01:35:37.461Z"
   },
   {
    "duration": 78,
    "start_time": "2023-03-09T01:35:37.469Z"
   },
   {
    "duration": 7,
    "start_time": "2023-03-09T01:35:37.550Z"
   },
   {
    "duration": 43,
    "start_time": "2023-03-09T01:35:37.558Z"
   },
   {
    "duration": 9,
    "start_time": "2023-03-09T01:35:37.604Z"
   },
   {
    "duration": 14,
    "start_time": "2023-03-09T01:35:37.614Z"
   },
   {
    "duration": 19,
    "start_time": "2023-03-09T01:35:37.629Z"
   },
   {
    "duration": 7,
    "start_time": "2023-03-09T01:35:37.649Z"
   },
   {
    "duration": 10,
    "start_time": "2023-03-09T01:35:37.658Z"
   },
   {
    "duration": 156,
    "start_time": "2023-03-09T01:35:37.669Z"
   },
   {
    "duration": 136,
    "start_time": "2023-03-09T01:35:37.826Z"
   },
   {
    "duration": 2,
    "start_time": "2023-03-09T01:35:37.964Z"
   },
   {
    "duration": 5,
    "start_time": "2023-03-09T01:35:37.967Z"
   },
   {
    "duration": 4168,
    "start_time": "2023-03-09T01:35:37.986Z"
   },
   {
    "duration": 4,
    "start_time": "2023-03-09T01:35:42.156Z"
   },
   {
    "duration": 24,
    "start_time": "2023-03-09T01:35:42.161Z"
   },
   {
    "duration": 30,
    "start_time": "2023-03-09T01:35:42.187Z"
   },
   {
    "duration": 5,
    "start_time": "2023-03-09T01:35:42.218Z"
   },
   {
    "duration": 333,
    "start_time": "2023-03-09T01:35:42.224Z"
   },
   {
    "duration": 4,
    "start_time": "2023-03-09T01:35:42.558Z"
   },
   {
    "duration": 22,
    "start_time": "2023-03-09T01:35:42.563Z"
   },
   {
    "duration": 30,
    "start_time": "2023-03-09T01:35:42.595Z"
   },
   {
    "duration": 4,
    "start_time": "2023-03-09T01:35:42.626Z"
   },
   {
    "duration": 3772,
    "start_time": "2023-03-09T01:35:42.632Z"
   },
   {
    "duration": 4,
    "start_time": "2023-03-09T01:35:46.406Z"
   },
   {
    "duration": 4,
    "start_time": "2023-03-09T01:35:46.411Z"
   },
   {
    "duration": 102,
    "start_time": "2023-03-09T01:35:46.416Z"
   },
   {
    "duration": 5,
    "start_time": "2023-03-09T01:35:46.519Z"
   },
   {
    "duration": 128,
    "start_time": "2023-03-09T01:35:46.526Z"
   },
   {
    "duration": 5,
    "start_time": "2023-03-09T01:35:46.657Z"
   },
   {
    "duration": 148,
    "start_time": "2023-03-09T01:35:46.664Z"
   },
   {
    "duration": 5,
    "start_time": "2023-03-09T01:35:46.814Z"
   },
   {
    "duration": 125,
    "start_time": "2023-03-09T01:35:46.820Z"
   },
   {
    "duration": 4339,
    "start_time": "2023-03-09T01:35:46.946Z"
   },
   {
    "duration": 8,
    "start_time": "2023-03-09T01:35:51.293Z"
   },
   {
    "duration": 16404,
    "start_time": "2023-03-09T01:35:51.304Z"
   },
   {
    "duration": 158922,
    "start_time": "2023-03-09T01:36:07.710Z"
   },
   {
    "duration": 174689,
    "start_time": "2023-03-09T01:38:46.633Z"
   },
   {
    "duration": 7,
    "start_time": "2023-03-09T01:41:41.323Z"
   },
   {
    "duration": 15365,
    "start_time": "2023-03-09T01:41:41.331Z"
   },
   {
    "duration": 104,
    "start_time": "2023-03-09T01:41:56.701Z"
   },
   {
    "duration": 4233,
    "start_time": "2023-03-09T01:54:45.016Z"
   },
   {
    "duration": 921,
    "start_time": "2023-03-09T01:54:49.251Z"
   },
   {
    "duration": 39,
    "start_time": "2023-03-09T01:54:50.174Z"
   },
   {
    "duration": 13,
    "start_time": "2023-03-09T01:54:50.216Z"
   },
   {
    "duration": 3,
    "start_time": "2023-03-09T01:54:50.230Z"
   },
   {
    "duration": 293,
    "start_time": "2023-03-09T01:54:50.234Z"
   },
   {
    "duration": 6,
    "start_time": "2023-03-09T01:54:50.528Z"
   },
   {
    "duration": 14,
    "start_time": "2023-03-09T01:54:50.535Z"
   },
   {
    "duration": 2905,
    "start_time": "2023-03-09T01:54:50.551Z"
   },
   {
    "duration": 558,
    "start_time": "2023-03-09T01:54:53.459Z"
   },
   {
    "duration": 2116917,
    "start_time": "2023-03-09T01:54:54.019Z"
   },
   {
    "duration": 11,
    "start_time": "2023-03-09T02:30:10.938Z"
   },
   {
    "duration": 96,
    "start_time": "2023-03-09T02:30:10.951Z"
   },
   {
    "duration": 9,
    "start_time": "2023-03-09T02:30:11.048Z"
   },
   {
    "duration": 36,
    "start_time": "2023-03-09T02:30:11.059Z"
   },
   {
    "duration": 39,
    "start_time": "2023-03-09T02:30:11.096Z"
   },
   {
    "duration": 8,
    "start_time": "2023-03-09T02:30:11.137Z"
   },
   {
    "duration": 13,
    "start_time": "2023-03-09T02:30:11.146Z"
   },
   {
    "duration": 165,
    "start_time": "2023-03-09T02:30:11.161Z"
   },
   {
    "duration": 132,
    "start_time": "2023-03-09T02:30:11.328Z"
   },
   {
    "duration": 2,
    "start_time": "2023-03-09T02:30:11.463Z"
   },
   {
    "duration": 5,
    "start_time": "2023-03-09T02:30:11.467Z"
   },
   {
    "duration": 4055,
    "start_time": "2023-03-09T02:30:11.480Z"
   },
   {
    "duration": 4,
    "start_time": "2023-03-09T02:30:15.537Z"
   },
   {
    "duration": 9,
    "start_time": "2023-03-09T02:30:15.543Z"
   },
   {
    "duration": 7,
    "start_time": "2023-03-09T02:30:15.553Z"
   },
   {
    "duration": 23,
    "start_time": "2023-03-09T02:30:15.562Z"
   },
   {
    "duration": 336,
    "start_time": "2023-03-09T02:30:15.588Z"
   },
   {
    "duration": 5,
    "start_time": "2023-03-09T02:30:15.926Z"
   },
   {
    "duration": 11,
    "start_time": "2023-03-09T02:30:15.933Z"
   },
   {
    "duration": 53,
    "start_time": "2023-03-09T02:30:15.946Z"
   },
   {
    "duration": 21,
    "start_time": "2023-03-09T02:30:16.000Z"
   },
   {
    "duration": 3671,
    "start_time": "2023-03-09T02:30:16.022Z"
   },
   {
    "duration": 5,
    "start_time": "2023-03-09T02:30:19.695Z"
   },
   {
    "duration": 5,
    "start_time": "2023-03-09T02:30:19.701Z"
   },
   {
    "duration": 98,
    "start_time": "2023-03-09T02:30:19.707Z"
   },
   {
    "duration": 5,
    "start_time": "2023-03-09T02:30:19.806Z"
   },
   {
    "duration": 111,
    "start_time": "2023-03-09T02:30:19.812Z"
   },
   {
    "duration": 6,
    "start_time": "2023-03-09T02:30:19.925Z"
   },
   {
    "duration": 126,
    "start_time": "2023-03-09T02:30:19.933Z"
   },
   {
    "duration": 20,
    "start_time": "2023-03-09T02:30:20.061Z"
   },
   {
    "duration": 127,
    "start_time": "2023-03-09T02:30:20.082Z"
   },
   {
    "duration": 4552,
    "start_time": "2023-03-09T02:30:20.211Z"
   },
   {
    "duration": 5,
    "start_time": "2023-03-09T02:30:24.765Z"
   },
   {
    "duration": 15425,
    "start_time": "2023-03-09T02:30:24.779Z"
   },
   {
    "duration": 155353,
    "start_time": "2023-03-09T02:30:40.206Z"
   },
   {
    "duration": 133750,
    "start_time": "2023-03-09T02:33:15.560Z"
   },
   {
    "duration": 7,
    "start_time": "2023-03-09T02:35:29.312Z"
   },
   {
    "duration": 14575,
    "start_time": "2023-03-09T02:35:29.320Z"
   },
   {
    "duration": 17,
    "start_time": "2023-03-09T02:35:43.896Z"
   },
   {
    "duration": 55,
    "start_time": "2023-03-09T23:27:34.100Z"
   },
   {
    "duration": 4733,
    "start_time": "2023-03-09T23:27:41.132Z"
   },
   {
    "duration": 2496,
    "start_time": "2023-03-09T23:27:45.868Z"
   },
   {
    "duration": 36,
    "start_time": "2023-03-09T23:27:48.366Z"
   },
   {
    "duration": 13,
    "start_time": "2023-03-09T23:27:48.404Z"
   },
   {
    "duration": 7,
    "start_time": "2023-03-09T23:27:48.420Z"
   },
   {
    "duration": 258,
    "start_time": "2023-03-09T23:27:48.429Z"
   },
   {
    "duration": 7,
    "start_time": "2023-03-09T23:27:48.689Z"
   },
   {
    "duration": 4,
    "start_time": "2023-03-09T23:27:48.697Z"
   },
   {
    "duration": 2676,
    "start_time": "2023-03-09T23:27:48.702Z"
   },
   {
    "duration": 529,
    "start_time": "2023-03-09T23:27:51.380Z"
   },
   {
    "duration": 1089798,
    "start_time": "2023-03-09T23:27:51.911Z"
   },
   {
    "duration": 10,
    "start_time": "2023-03-09T23:46:01.711Z"
   },
   {
    "duration": 85,
    "start_time": "2023-03-09T23:46:01.723Z"
   },
   {
    "duration": 8,
    "start_time": "2023-03-09T23:46:01.812Z"
   },
   {
    "duration": 53,
    "start_time": "2023-03-09T23:46:01.822Z"
   },
   {
    "duration": 256,
    "start_time": "2023-03-09T23:46:01.876Z"
   },
   {
    "duration": 10,
    "start_time": "2023-03-09T23:46:02.133Z"
   },
   {
    "duration": 45,
    "start_time": "2023-03-09T23:46:02.145Z"
   },
   {
    "duration": 230,
    "start_time": "2023-03-09T23:46:02.192Z"
   },
   {
    "duration": 181,
    "start_time": "2023-03-09T23:46:02.423Z"
   },
   {
    "duration": 3,
    "start_time": "2023-03-09T23:46:02.606Z"
   },
   {
    "duration": 12,
    "start_time": "2023-03-09T23:46:02.611Z"
   },
   {
    "duration": 4939,
    "start_time": "2023-03-09T23:46:02.625Z"
   },
   {
    "duration": 8,
    "start_time": "2023-03-09T23:46:07.567Z"
   },
   {
    "duration": 14,
    "start_time": "2023-03-09T23:46:07.576Z"
   },
   {
    "duration": 13,
    "start_time": "2023-03-09T23:46:07.592Z"
   },
   {
    "duration": 10,
    "start_time": "2023-03-09T23:46:07.606Z"
   },
   {
    "duration": 391,
    "start_time": "2023-03-09T23:46:07.617Z"
   },
   {
    "duration": 6,
    "start_time": "2023-03-09T23:46:08.010Z"
   },
   {
    "duration": 22,
    "start_time": "2023-03-09T23:46:08.019Z"
   },
   {
    "duration": 39,
    "start_time": "2023-03-09T23:46:08.043Z"
   },
   {
    "duration": 10,
    "start_time": "2023-03-09T23:46:08.084Z"
   },
   {
    "duration": 4335,
    "start_time": "2023-03-09T23:46:08.096Z"
   },
   {
    "duration": 5,
    "start_time": "2023-03-09T23:46:12.433Z"
   },
   {
    "duration": 8,
    "start_time": "2023-03-09T23:46:12.441Z"
   },
   {
    "duration": 159,
    "start_time": "2023-03-09T23:46:12.451Z"
   },
   {
    "duration": 6,
    "start_time": "2023-03-09T23:46:12.612Z"
   },
   {
    "duration": 380,
    "start_time": "2023-03-09T23:46:12.620Z"
   },
   {
    "duration": 0,
    "start_time": "2023-03-09T23:46:13.001Z"
   },
   {
    "duration": 0,
    "start_time": "2023-03-09T23:46:13.003Z"
   },
   {
    "duration": 0,
    "start_time": "2023-03-09T23:46:13.004Z"
   },
   {
    "duration": 0,
    "start_time": "2023-03-09T23:46:13.005Z"
   },
   {
    "duration": 0,
    "start_time": "2023-03-09T23:46:13.007Z"
   },
   {
    "duration": 0,
    "start_time": "2023-03-09T23:46:13.008Z"
   },
   {
    "duration": 0,
    "start_time": "2023-03-09T23:46:13.009Z"
   },
   {
    "duration": 0,
    "start_time": "2023-03-09T23:46:13.011Z"
   },
   {
    "duration": 0,
    "start_time": "2023-03-09T23:46:13.012Z"
   },
   {
    "duration": 0,
    "start_time": "2023-03-09T23:46:13.013Z"
   },
   {
    "duration": 0,
    "start_time": "2023-03-09T23:46:13.014Z"
   },
   {
    "duration": 0,
    "start_time": "2023-03-09T23:46:13.015Z"
   },
   {
    "duration": 0,
    "start_time": "2023-03-09T23:46:13.016Z"
   },
   {
    "duration": 169,
    "start_time": "2023-03-09T23:47:56.653Z"
   },
   {
    "duration": 26,
    "start_time": "2023-03-09T23:49:57.766Z"
   },
   {
    "duration": 29,
    "start_time": "2023-03-09T23:51:19.975Z"
   },
   {
    "duration": 30,
    "start_time": "2023-03-09T23:51:30.760Z"
   },
   {
    "duration": 21,
    "start_time": "2023-03-09T23:55:14.249Z"
   },
   {
    "duration": 42336,
    "start_time": "2023-03-09T23:55:20.415Z"
   },
   {
    "duration": 52930,
    "start_time": "2023-03-09T23:57:00.924Z"
   },
   {
    "duration": 58711,
    "start_time": "2023-03-09T23:58:14.219Z"
   },
   {
    "duration": 50462,
    "start_time": "2023-03-09T23:59:26.263Z"
   },
   {
    "duration": 57261,
    "start_time": "2023-03-10T00:00:18.172Z"
   },
   {
    "duration": 8004,
    "start_time": "2023-03-10T00:04:09.506Z"
   },
   {
    "duration": 85695,
    "start_time": "2023-03-10T00:04:28.243Z"
   },
   {
    "duration": 4487,
    "start_time": "2023-03-10T00:10:52.220Z"
   },
   {
    "duration": 933,
    "start_time": "2023-03-10T00:10:56.709Z"
   },
   {
    "duration": 37,
    "start_time": "2023-03-10T00:10:57.644Z"
   },
   {
    "duration": 16,
    "start_time": "2023-03-10T00:10:57.683Z"
   },
   {
    "duration": 3,
    "start_time": "2023-03-10T00:10:57.701Z"
   },
   {
    "duration": 254,
    "start_time": "2023-03-10T00:10:57.706Z"
   },
   {
    "duration": 12,
    "start_time": "2023-03-10T00:10:57.962Z"
   },
   {
    "duration": 4,
    "start_time": "2023-03-10T00:10:57.975Z"
   },
   {
    "duration": 2986,
    "start_time": "2023-03-10T00:10:57.981Z"
   },
   {
    "duration": 546,
    "start_time": "2023-03-10T00:11:00.971Z"
   },
   {
    "duration": 1124362,
    "start_time": "2023-03-10T00:11:01.519Z"
   },
   {
    "duration": 9,
    "start_time": "2023-03-10T00:29:45.883Z"
   },
   {
    "duration": 79,
    "start_time": "2023-03-10T00:29:45.894Z"
   },
   {
    "duration": 9,
    "start_time": "2023-03-10T00:29:45.975Z"
   },
   {
    "duration": 18,
    "start_time": "2023-03-10T00:29:45.986Z"
   },
   {
    "duration": 78,
    "start_time": "2023-03-10T00:29:46.005Z"
   },
   {
    "duration": 9,
    "start_time": "2023-03-10T00:29:46.085Z"
   },
   {
    "duration": 20,
    "start_time": "2023-03-10T00:29:46.096Z"
   },
   {
    "duration": 199,
    "start_time": "2023-03-10T00:29:46.118Z"
   },
   {
    "duration": 174,
    "start_time": "2023-03-10T00:29:46.319Z"
   },
   {
    "duration": 4,
    "start_time": "2023-03-10T00:29:46.494Z"
   },
   {
    "duration": 9,
    "start_time": "2023-03-10T00:29:46.499Z"
   },
   {
    "duration": 4916,
    "start_time": "2023-03-10T00:29:46.510Z"
   },
   {
    "duration": 5,
    "start_time": "2023-03-10T00:29:51.428Z"
   },
   {
    "duration": 14,
    "start_time": "2023-03-10T00:29:51.434Z"
   },
   {
    "duration": 26,
    "start_time": "2023-03-10T00:29:51.450Z"
   },
   {
    "duration": 7,
    "start_time": "2023-03-10T00:29:51.478Z"
   },
   {
    "duration": 407,
    "start_time": "2023-03-10T00:29:51.489Z"
   },
   {
    "duration": 4,
    "start_time": "2023-03-10T00:29:51.898Z"
   },
   {
    "duration": 12,
    "start_time": "2023-03-10T00:29:51.904Z"
   },
   {
    "duration": 43,
    "start_time": "2023-03-10T00:29:51.918Z"
   },
   {
    "duration": 4,
    "start_time": "2023-03-10T00:29:51.972Z"
   },
   {
    "duration": 4370,
    "start_time": "2023-03-10T00:29:51.979Z"
   },
   {
    "duration": 7,
    "start_time": "2023-03-10T00:29:56.352Z"
   },
   {
    "duration": 10,
    "start_time": "2023-03-10T00:29:56.372Z"
   },
   {
    "duration": 153,
    "start_time": "2023-03-10T00:29:56.384Z"
   },
   {
    "duration": 5,
    "start_time": "2023-03-10T00:29:56.540Z"
   },
   {
    "duration": 457294,
    "start_time": "2023-03-10T00:29:56.547Z"
   },
   {
    "duration": 5,
    "start_time": "2023-03-10T00:37:33.843Z"
   },
   {
    "duration": 357053,
    "start_time": "2023-03-10T00:37:33.851Z"
   },
   {
    "duration": 7,
    "start_time": "2023-03-10T00:43:30.906Z"
   },
   {
    "duration": 102580,
    "start_time": "2023-03-10T00:43:30.914Z"
   },
   {
    "duration": 0,
    "start_time": "2023-03-10T00:45:13.497Z"
   },
   {
    "duration": 0,
    "start_time": "2023-03-10T00:45:13.498Z"
   },
   {
    "duration": 0,
    "start_time": "2023-03-10T00:45:13.500Z"
   },
   {
    "duration": 0,
    "start_time": "2023-03-10T00:45:13.501Z"
   },
   {
    "duration": 0,
    "start_time": "2023-03-10T00:45:13.502Z"
   },
   {
    "duration": 0,
    "start_time": "2023-03-10T00:45:13.503Z"
   },
   {
    "duration": 0,
    "start_time": "2023-03-10T00:45:13.504Z"
   },
   {
    "duration": 0,
    "start_time": "2023-03-10T00:45:13.505Z"
   },
   {
    "duration": 0,
    "start_time": "2023-03-10T00:45:13.513Z"
   },
   {
    "duration": 138,
    "start_time": "2023-03-10T00:51:00.188Z"
   },
   {
    "duration": 4452,
    "start_time": "2023-03-10T00:52:26.711Z"
   },
   {
    "duration": 931,
    "start_time": "2023-03-10T00:52:31.165Z"
   },
   {
    "duration": 35,
    "start_time": "2023-03-10T00:52:32.098Z"
   },
   {
    "duration": 12,
    "start_time": "2023-03-10T00:52:32.136Z"
   },
   {
    "duration": 25,
    "start_time": "2023-03-10T00:52:32.150Z"
   },
   {
    "duration": 251,
    "start_time": "2023-03-10T00:52:32.177Z"
   },
   {
    "duration": 6,
    "start_time": "2023-03-10T00:52:32.430Z"
   },
   {
    "duration": 7,
    "start_time": "2023-03-10T00:52:32.438Z"
   },
   {
    "duration": 2743,
    "start_time": "2023-03-10T00:52:32.447Z"
   },
   {
    "duration": 505,
    "start_time": "2023-03-10T00:52:35.193Z"
   },
   {
    "duration": 1079742,
    "start_time": "2023-03-10T00:52:35.700Z"
   },
   {
    "duration": 8,
    "start_time": "2023-03-10T01:10:35.443Z"
   },
   {
    "duration": 75,
    "start_time": "2023-03-10T01:10:35.453Z"
   },
   {
    "duration": 9,
    "start_time": "2023-03-10T01:10:35.530Z"
   },
   {
    "duration": 34,
    "start_time": "2023-03-10T01:10:35.541Z"
   },
   {
    "duration": 58,
    "start_time": "2023-03-10T01:10:35.577Z"
   },
   {
    "duration": 9,
    "start_time": "2023-03-10T01:10:35.637Z"
   },
   {
    "duration": 33,
    "start_time": "2023-03-10T01:10:35.647Z"
   },
   {
    "duration": 179,
    "start_time": "2023-03-10T01:10:35.682Z"
   },
   {
    "duration": 189,
    "start_time": "2023-03-10T01:10:35.863Z"
   },
   {
    "duration": 4,
    "start_time": "2023-03-10T01:10:36.053Z"
   },
   {
    "duration": 17,
    "start_time": "2023-03-10T01:10:36.059Z"
   },
   {
    "duration": 4501,
    "start_time": "2023-03-10T01:10:36.077Z"
   },
   {
    "duration": 7,
    "start_time": "2023-03-10T01:10:40.580Z"
   },
   {
    "duration": 15,
    "start_time": "2023-03-10T01:10:40.589Z"
   },
   {
    "duration": 12,
    "start_time": "2023-03-10T01:10:40.606Z"
   },
   {
    "duration": 8,
    "start_time": "2023-03-10T01:10:40.620Z"
   },
   {
    "duration": 358,
    "start_time": "2023-03-10T01:10:40.631Z"
   },
   {
    "duration": 5,
    "start_time": "2023-03-10T01:10:40.991Z"
   },
   {
    "duration": 12,
    "start_time": "2023-03-10T01:10:40.997Z"
   },
   {
    "duration": 34,
    "start_time": "2023-03-10T01:10:41.011Z"
   },
   {
    "duration": 5,
    "start_time": "2023-03-10T01:10:41.047Z"
   },
   {
    "duration": 4042,
    "start_time": "2023-03-10T01:10:41.054Z"
   },
   {
    "duration": 6,
    "start_time": "2023-03-10T01:10:45.098Z"
   },
   {
    "duration": 6,
    "start_time": "2023-03-10T01:10:45.106Z"
   },
   {
    "duration": 148,
    "start_time": "2023-03-10T01:10:45.114Z"
   },
   {
    "duration": 13,
    "start_time": "2023-03-10T01:10:45.264Z"
   },
   {
    "duration": 139,
    "start_time": "2023-03-10T01:10:45.278Z"
   },
   {
    "duration": 6,
    "start_time": "2023-03-10T01:10:45.418Z"
   },
   {
    "duration": 134,
    "start_time": "2023-03-10T01:10:45.426Z"
   },
   {
    "duration": 6,
    "start_time": "2023-03-10T01:10:45.573Z"
   },
   {
    "duration": 145,
    "start_time": "2023-03-10T01:10:45.581Z"
   },
   {
    "duration": 4410,
    "start_time": "2023-03-10T01:10:45.728Z"
   },
   {
    "duration": 4,
    "start_time": "2023-03-10T01:10:50.140Z"
   },
   {
    "duration": 8047,
    "start_time": "2023-03-10T01:10:50.146Z"
   },
   {
    "duration": 111195,
    "start_time": "2023-03-10T01:10:58.195Z"
   },
   {
    "duration": 28187,
    "start_time": "2023-03-10T01:12:49.391Z"
   },
   {
    "duration": 9,
    "start_time": "2023-03-10T01:13:17.580Z"
   },
   {
    "duration": 8100,
    "start_time": "2023-03-10T01:13:17.590Z"
   },
   {
    "duration": 23,
    "start_time": "2023-03-10T01:13:25.692Z"
   },
   {
    "duration": 5828,
    "start_time": "2023-03-10T02:14:45.158Z"
   },
   {
    "duration": 13114,
    "start_time": "2023-03-10T02:15:07.386Z"
   },
   {
    "duration": 4449,
    "start_time": "2023-03-10T02:15:33.131Z"
   },
   {
    "duration": 6123,
    "start_time": "2023-03-10T02:15:47.357Z"
   },
   {
    "duration": 7121,
    "start_time": "2023-03-10T02:16:00.873Z"
   },
   {
    "duration": 4608,
    "start_time": "2023-03-10T02:16:38.802Z"
   },
   {
    "duration": 938,
    "start_time": "2023-03-10T02:16:43.412Z"
   },
   {
    "duration": 43,
    "start_time": "2023-03-10T02:16:44.352Z"
   },
   {
    "duration": 15,
    "start_time": "2023-03-10T02:16:44.398Z"
   },
   {
    "duration": 3,
    "start_time": "2023-03-10T02:16:44.415Z"
   },
   {
    "duration": 267,
    "start_time": "2023-03-10T02:16:44.420Z"
   },
   {
    "duration": 7,
    "start_time": "2023-03-10T02:16:44.689Z"
   },
   {
    "duration": 5,
    "start_time": "2023-03-10T02:16:44.698Z"
   },
   {
    "duration": 2781,
    "start_time": "2023-03-10T02:16:44.704Z"
   },
   {
    "duration": 550,
    "start_time": "2023-03-10T02:16:47.488Z"
   },
   {
    "duration": 1112804,
    "start_time": "2023-03-10T02:16:48.040Z"
   },
   {
    "duration": 10,
    "start_time": "2023-03-10T02:35:20.846Z"
   },
   {
    "duration": 83,
    "start_time": "2023-03-10T02:35:20.857Z"
   },
   {
    "duration": 10,
    "start_time": "2023-03-10T02:35:20.941Z"
   },
   {
    "duration": 14,
    "start_time": "2023-03-10T02:35:20.974Z"
   },
   {
    "duration": 83,
    "start_time": "2023-03-10T02:35:20.990Z"
   },
   {
    "duration": 9,
    "start_time": "2023-03-10T02:35:21.074Z"
   },
   {
    "duration": 16,
    "start_time": "2023-03-10T02:35:21.085Z"
   },
   {
    "duration": 187,
    "start_time": "2023-03-10T02:35:21.103Z"
   },
   {
    "duration": 194,
    "start_time": "2023-03-10T02:35:21.292Z"
   },
   {
    "duration": 4,
    "start_time": "2023-03-10T02:35:21.488Z"
   },
   {
    "duration": 9,
    "start_time": "2023-03-10T02:35:21.494Z"
   },
   {
    "duration": 4593,
    "start_time": "2023-03-10T02:35:21.505Z"
   },
   {
    "duration": 4,
    "start_time": "2023-03-10T02:35:26.100Z"
   },
   {
    "duration": 18,
    "start_time": "2023-03-10T02:35:26.106Z"
   },
   {
    "duration": 12,
    "start_time": "2023-03-10T02:35:26.126Z"
   },
   {
    "duration": 5,
    "start_time": "2023-03-10T02:35:26.140Z"
   },
   {
    "duration": 373,
    "start_time": "2023-03-10T02:35:26.148Z"
   },
   {
    "duration": 4,
    "start_time": "2023-03-10T02:35:26.523Z"
   },
   {
    "duration": 11,
    "start_time": "2023-03-10T02:35:26.529Z"
   },
   {
    "duration": 52,
    "start_time": "2023-03-10T02:35:26.542Z"
   },
   {
    "duration": 5,
    "start_time": "2023-03-10T02:35:26.596Z"
   },
   {
    "duration": 4129,
    "start_time": "2023-03-10T02:35:26.603Z"
   },
   {
    "duration": 4,
    "start_time": "2023-03-10T02:35:30.734Z"
   },
   {
    "duration": 20,
    "start_time": "2023-03-10T02:35:30.740Z"
   },
   {
    "duration": 170,
    "start_time": "2023-03-10T02:35:30.762Z"
   },
   {
    "duration": 6,
    "start_time": "2023-03-10T02:35:30.933Z"
   },
   {
    "duration": 155,
    "start_time": "2023-03-10T02:35:30.941Z"
   },
   {
    "duration": 7,
    "start_time": "2023-03-10T02:35:31.098Z"
   },
   {
    "duration": 158,
    "start_time": "2023-03-10T02:35:31.106Z"
   },
   {
    "duration": 10,
    "start_time": "2023-03-10T02:35:31.266Z"
   },
   {
    "duration": 146,
    "start_time": "2023-03-10T02:35:31.278Z"
   },
   {
    "duration": 4535,
    "start_time": "2023-03-10T02:35:31.426Z"
   },
   {
    "duration": 10,
    "start_time": "2023-03-10T02:35:35.963Z"
   },
   {
    "duration": 4903,
    "start_time": "2023-03-10T02:35:35.976Z"
   },
   {
    "duration": 111634,
    "start_time": "2023-03-10T02:35:40.882Z"
   },
   {
    "duration": 32691,
    "start_time": "2023-03-10T02:37:32.518Z"
   },
   {
    "duration": 9,
    "start_time": "2023-03-10T02:38:05.211Z"
   },
   {
    "duration": 9469,
    "start_time": "2023-03-10T02:38:05.222Z"
   },
   {
    "duration": 25,
    "start_time": "2023-03-10T02:38:14.693Z"
   },
   {
    "duration": 4516,
    "start_time": "2023-10-04T00:15:16.832Z"
   },
   {
    "duration": 2404,
    "start_time": "2023-10-04T00:15:21.350Z"
   },
   {
    "duration": 35,
    "start_time": "2023-10-04T00:15:23.756Z"
   },
   {
    "duration": 17,
    "start_time": "2023-10-04T00:15:23.793Z"
   },
   {
    "duration": 15,
    "start_time": "2023-10-04T00:15:23.811Z"
   },
   {
    "duration": 276,
    "start_time": "2023-10-04T00:15:23.827Z"
   },
   {
    "duration": 6,
    "start_time": "2023-10-04T00:15:24.105Z"
   },
   {
    "duration": 8,
    "start_time": "2023-10-04T00:15:24.113Z"
   },
   {
    "duration": 1719,
    "start_time": "2023-10-04T00:15:24.122Z"
   },
   {
    "duration": 506,
    "start_time": "2023-10-04T00:15:25.844Z"
   },
   {
    "duration": 498483,
    "start_time": "2023-10-04T00:15:26.351Z"
   },
   {
    "duration": 9,
    "start_time": "2023-10-04T00:23:44.835Z"
   },
   {
    "duration": 79,
    "start_time": "2023-10-04T00:23:44.846Z"
   },
   {
    "duration": 10,
    "start_time": "2023-10-04T00:23:44.926Z"
   },
   {
    "duration": 16,
    "start_time": "2023-10-04T00:23:44.938Z"
   },
   {
    "duration": 70,
    "start_time": "2023-10-04T00:23:44.956Z"
   },
   {
    "duration": 11,
    "start_time": "2023-10-04T00:23:45.028Z"
   },
   {
    "duration": 43,
    "start_time": "2023-10-04T00:23:45.041Z"
   },
   {
    "duration": 201,
    "start_time": "2023-10-04T00:23:45.086Z"
   },
   {
    "duration": 160,
    "start_time": "2023-10-04T00:23:45.289Z"
   },
   {
    "duration": 3,
    "start_time": "2023-10-04T00:23:45.451Z"
   },
   {
    "duration": 10,
    "start_time": "2023-10-04T00:23:45.456Z"
   },
   {
    "duration": 868,
    "start_time": "2023-10-04T00:23:45.467Z"
   },
   {
    "duration": 4,
    "start_time": "2023-10-04T00:23:46.338Z"
   },
   {
    "duration": 26,
    "start_time": "2023-10-04T00:23:46.344Z"
   },
   {
    "duration": 34,
    "start_time": "2023-10-04T00:23:46.372Z"
   },
   {
    "duration": 11,
    "start_time": "2023-10-04T00:23:46.408Z"
   },
   {
    "duration": 70,
    "start_time": "2023-10-04T00:23:46.423Z"
   },
   {
    "duration": 5,
    "start_time": "2023-10-04T00:23:46.494Z"
   },
   {
    "duration": 29,
    "start_time": "2023-10-04T00:23:46.501Z"
   },
   {
    "duration": 41,
    "start_time": "2023-10-04T00:23:46.532Z"
   },
   {
    "duration": 13,
    "start_time": "2023-10-04T00:23:46.574Z"
   },
   {
    "duration": 546,
    "start_time": "2023-10-04T00:23:46.588Z"
   },
   {
    "duration": 4,
    "start_time": "2023-10-04T00:23:47.136Z"
   },
   {
    "duration": 27,
    "start_time": "2023-10-04T00:23:47.141Z"
   },
   {
    "duration": 141,
    "start_time": "2023-10-04T00:23:47.169Z"
   },
   {
    "duration": 6,
    "start_time": "2023-10-04T00:23:47.312Z"
   },
   {
    "duration": 165,
    "start_time": "2023-10-04T00:23:47.320Z"
   },
   {
    "duration": 15,
    "start_time": "2023-10-04T00:23:47.486Z"
   },
   {
    "duration": 178,
    "start_time": "2023-10-04T00:23:47.503Z"
   },
   {
    "duration": 7,
    "start_time": "2023-10-04T00:23:47.683Z"
   },
   {
    "duration": 196,
    "start_time": "2023-10-04T00:23:47.691Z"
   },
   {
    "duration": 731,
    "start_time": "2023-10-04T00:23:47.889Z"
   },
   {
    "duration": 4,
    "start_time": "2023-10-04T00:23:48.622Z"
   },
   {
    "duration": 153,
    "start_time": "2023-10-04T00:23:48.628Z"
   },
   {
    "duration": 58179,
    "start_time": "2023-10-04T00:23:48.782Z"
   },
   {
    "duration": 2165,
    "start_time": "2023-10-04T00:24:46.963Z"
   },
   {
    "duration": 8,
    "start_time": "2023-10-04T00:24:49.130Z"
   },
   {
    "duration": 133,
    "start_time": "2023-10-04T00:24:49.140Z"
   },
   {
    "duration": 34,
    "start_time": "2023-10-04T00:24:49.275Z"
   },
   {
    "duration": 4308,
    "start_time": "2023-10-04T00:25:32.396Z"
   },
   {
    "duration": 939,
    "start_time": "2023-10-04T00:25:36.706Z"
   },
   {
    "duration": 34,
    "start_time": "2023-10-04T00:25:37.647Z"
   },
   {
    "duration": 55,
    "start_time": "2023-10-04T00:25:37.682Z"
   },
   {
    "duration": 29,
    "start_time": "2023-10-04T00:25:37.739Z"
   },
   {
    "duration": 270,
    "start_time": "2023-10-04T00:25:37.770Z"
   },
   {
    "duration": 6,
    "start_time": "2023-10-04T00:25:38.041Z"
   },
   {
    "duration": 8,
    "start_time": "2023-10-04T00:25:38.048Z"
   },
   {
    "duration": 1681,
    "start_time": "2023-10-04T00:25:38.058Z"
   },
   {
    "duration": 512,
    "start_time": "2023-10-04T00:25:39.742Z"
   },
   {
    "duration": 21114,
    "start_time": "2023-10-04T00:25:40.256Z"
   },
   {
    "duration": 0,
    "start_time": "2023-10-04T00:26:01.373Z"
   },
   {
    "duration": 0,
    "start_time": "2023-10-04T00:26:01.374Z"
   },
   {
    "duration": 0,
    "start_time": "2023-10-04T00:26:01.375Z"
   },
   {
    "duration": 0,
    "start_time": "2023-10-04T00:26:01.376Z"
   },
   {
    "duration": 0,
    "start_time": "2023-10-04T00:26:01.377Z"
   },
   {
    "duration": 0,
    "start_time": "2023-10-04T00:26:01.378Z"
   },
   {
    "duration": 0,
    "start_time": "2023-10-04T00:26:01.379Z"
   },
   {
    "duration": 0,
    "start_time": "2023-10-04T00:26:01.381Z"
   },
   {
    "duration": 0,
    "start_time": "2023-10-04T00:26:01.382Z"
   },
   {
    "duration": 0,
    "start_time": "2023-10-04T00:26:01.383Z"
   },
   {
    "duration": 0,
    "start_time": "2023-10-04T00:26:01.384Z"
   },
   {
    "duration": 0,
    "start_time": "2023-10-04T00:26:01.385Z"
   },
   {
    "duration": 0,
    "start_time": "2023-10-04T00:26:01.387Z"
   },
   {
    "duration": 0,
    "start_time": "2023-10-04T00:26:01.388Z"
   },
   {
    "duration": 0,
    "start_time": "2023-10-04T00:26:01.389Z"
   },
   {
    "duration": 0,
    "start_time": "2023-10-04T00:26:01.390Z"
   },
   {
    "duration": 0,
    "start_time": "2023-10-04T00:26:01.391Z"
   },
   {
    "duration": 1,
    "start_time": "2023-10-04T00:26:01.391Z"
   },
   {
    "duration": 0,
    "start_time": "2023-10-04T00:26:01.393Z"
   },
   {
    "duration": 0,
    "start_time": "2023-10-04T00:26:01.393Z"
   },
   {
    "duration": 0,
    "start_time": "2023-10-04T00:26:01.394Z"
   },
   {
    "duration": 0,
    "start_time": "2023-10-04T00:26:01.395Z"
   },
   {
    "duration": 0,
    "start_time": "2023-10-04T00:26:01.396Z"
   },
   {
    "duration": 0,
    "start_time": "2023-10-04T00:26:01.397Z"
   },
   {
    "duration": 0,
    "start_time": "2023-10-04T00:26:01.398Z"
   },
   {
    "duration": 0,
    "start_time": "2023-10-04T00:26:01.399Z"
   },
   {
    "duration": 0,
    "start_time": "2023-10-04T00:26:01.401Z"
   },
   {
    "duration": 0,
    "start_time": "2023-10-04T00:26:01.402Z"
   },
   {
    "duration": 0,
    "start_time": "2023-10-04T00:26:01.403Z"
   },
   {
    "duration": 0,
    "start_time": "2023-10-04T00:26:01.404Z"
   },
   {
    "duration": 0,
    "start_time": "2023-10-04T00:26:01.405Z"
   },
   {
    "duration": 0,
    "start_time": "2023-10-04T00:26:01.406Z"
   },
   {
    "duration": 0,
    "start_time": "2023-10-04T00:26:01.407Z"
   },
   {
    "duration": 0,
    "start_time": "2023-10-04T00:26:01.408Z"
   },
   {
    "duration": 0,
    "start_time": "2023-10-04T00:26:01.409Z"
   },
   {
    "duration": 0,
    "start_time": "2023-10-04T00:26:01.410Z"
   },
   {
    "duration": 0,
    "start_time": "2023-10-04T00:26:01.411Z"
   },
   {
    "duration": 0,
    "start_time": "2023-10-04T00:26:01.412Z"
   },
   {
    "duration": 0,
    "start_time": "2023-10-04T00:26:01.413Z"
   },
   {
    "duration": 4321,
    "start_time": "2023-10-04T00:26:16.103Z"
   },
   {
    "duration": 916,
    "start_time": "2023-10-04T00:26:20.426Z"
   },
   {
    "duration": 32,
    "start_time": "2023-10-04T00:26:21.344Z"
   },
   {
    "duration": 25,
    "start_time": "2023-10-04T00:26:21.378Z"
   },
   {
    "duration": 2,
    "start_time": "2023-10-04T00:26:21.405Z"
   },
   {
    "duration": 234,
    "start_time": "2023-10-04T00:26:21.409Z"
   },
   {
    "duration": 5,
    "start_time": "2023-10-04T00:26:21.645Z"
   },
   {
    "duration": 18,
    "start_time": "2023-10-04T00:26:21.651Z"
   },
   {
    "duration": 1672,
    "start_time": "2023-10-04T00:26:21.670Z"
   },
   {
    "duration": 513,
    "start_time": "2023-10-04T00:26:23.344Z"
   },
   {
    "duration": 519093,
    "start_time": "2023-10-04T00:26:23.859Z"
   },
   {
    "duration": 9,
    "start_time": "2023-10-04T00:35:02.954Z"
   },
   {
    "duration": 117,
    "start_time": "2023-10-04T00:35:02.964Z"
   },
   {
    "duration": 163,
    "start_time": "2023-10-04T00:35:03.083Z"
   },
   {
    "duration": 58,
    "start_time": "2023-10-04T00:35:03.248Z"
   },
   {
    "duration": 95,
    "start_time": "2023-10-04T00:35:03.307Z"
   },
   {
    "duration": 8,
    "start_time": "2023-10-04T00:35:03.404Z"
   },
   {
    "duration": 64,
    "start_time": "2023-10-04T00:35:03.414Z"
   },
   {
    "duration": 203,
    "start_time": "2023-10-04T00:35:03.479Z"
   },
   {
    "duration": 168,
    "start_time": "2023-10-04T00:35:03.684Z"
   },
   {
    "duration": 3,
    "start_time": "2023-10-04T00:35:03.854Z"
   },
   {
    "duration": 58,
    "start_time": "2023-10-04T00:35:03.859Z"
   },
   {
    "duration": 936,
    "start_time": "2023-10-04T00:35:03.919Z"
   },
   {
    "duration": 5,
    "start_time": "2023-10-04T00:35:04.857Z"
   },
   {
    "duration": 48,
    "start_time": "2023-10-04T00:35:04.863Z"
   },
   {
    "duration": 24,
    "start_time": "2023-10-04T00:35:04.913Z"
   },
   {
    "duration": 24,
    "start_time": "2023-10-04T00:35:04.938Z"
   },
   {
    "duration": 88,
    "start_time": "2023-10-04T00:35:04.966Z"
   },
   {
    "duration": 5,
    "start_time": "2023-10-04T00:35:05.055Z"
   },
   {
    "duration": 29,
    "start_time": "2023-10-04T00:35:05.061Z"
   },
   {
    "duration": 34,
    "start_time": "2023-10-04T00:35:05.092Z"
   },
   {
    "duration": 21,
    "start_time": "2023-10-04T00:35:05.128Z"
   },
   {
    "duration": 590,
    "start_time": "2023-10-04T00:35:05.151Z"
   },
   {
    "duration": 4,
    "start_time": "2023-10-04T00:35:05.743Z"
   },
   {
    "duration": 23,
    "start_time": "2023-10-04T00:35:05.748Z"
   },
   {
    "duration": 173,
    "start_time": "2023-10-04T00:35:05.773Z"
   },
   {
    "duration": 7,
    "start_time": "2023-10-04T00:35:05.948Z"
   },
   {
    "duration": 136,
    "start_time": "2023-10-04T00:35:05.957Z"
   },
   {
    "duration": 11,
    "start_time": "2023-10-04T00:35:06.094Z"
   },
   {
    "duration": 139,
    "start_time": "2023-10-04T00:35:06.107Z"
   },
   {
    "duration": 7,
    "start_time": "2023-10-04T00:35:06.247Z"
   },
   {
    "duration": 139,
    "start_time": "2023-10-04T00:35:06.255Z"
   },
   {
    "duration": 662,
    "start_time": "2023-10-04T00:35:06.401Z"
   },
   {
    "duration": 4,
    "start_time": "2023-10-04T00:35:07.065Z"
   },
   {
    "duration": 148,
    "start_time": "2023-10-04T00:35:07.071Z"
   },
   {
    "duration": 60712,
    "start_time": "2023-10-04T00:35:07.221Z"
   },
   {
    "duration": 2598,
    "start_time": "2023-10-04T00:36:07.935Z"
   },
   {
    "duration": 9,
    "start_time": "2023-10-04T00:36:10.535Z"
   },
   {
    "duration": 155,
    "start_time": "2023-10-04T00:36:10.546Z"
   },
   {
    "duration": 29,
    "start_time": "2023-10-04T00:36:10.703Z"
   },
   {
    "duration": 4482,
    "start_time": "2023-10-04T00:56:50.599Z"
   },
   {
    "duration": 2186,
    "start_time": "2023-10-04T00:56:55.083Z"
   },
   {
    "duration": 40,
    "start_time": "2023-10-04T00:56:57.270Z"
   },
   {
    "duration": 33,
    "start_time": "2023-10-04T00:56:57.312Z"
   },
   {
    "duration": 26,
    "start_time": "2023-10-04T00:56:57.346Z"
   },
   {
    "duration": 247,
    "start_time": "2023-10-04T00:56:57.374Z"
   },
   {
    "duration": 6,
    "start_time": "2023-10-04T00:56:57.622Z"
   },
   {
    "duration": 25,
    "start_time": "2023-10-04T00:56:57.630Z"
   },
   {
    "duration": 1762,
    "start_time": "2023-10-04T00:56:57.657Z"
   },
   {
    "duration": 518,
    "start_time": "2023-10-04T00:56:59.421Z"
   },
   {
    "duration": 503714,
    "start_time": "2023-10-04T00:56:59.940Z"
   },
   {
    "duration": 9,
    "start_time": "2023-10-04T01:05:23.655Z"
   },
   {
    "duration": 88,
    "start_time": "2023-10-04T01:05:23.665Z"
   },
   {
    "duration": 10,
    "start_time": "2023-10-04T01:05:23.755Z"
   },
   {
    "duration": 56,
    "start_time": "2023-10-04T01:05:23.767Z"
   },
   {
    "duration": 64,
    "start_time": "2023-10-04T01:05:23.825Z"
   },
   {
    "duration": 9,
    "start_time": "2023-10-04T01:05:23.891Z"
   },
   {
    "duration": 13,
    "start_time": "2023-10-04T01:05:23.914Z"
   },
   {
    "duration": 183,
    "start_time": "2023-10-04T01:05:23.929Z"
   },
   {
    "duration": 166,
    "start_time": "2023-10-04T01:05:24.115Z"
   },
   {
    "duration": 4,
    "start_time": "2023-10-04T01:05:24.284Z"
   },
   {
    "duration": 28,
    "start_time": "2023-10-04T01:05:24.290Z"
   },
   {
    "duration": 954,
    "start_time": "2023-10-04T01:05:24.320Z"
   },
   {
    "duration": 5,
    "start_time": "2023-10-04T01:05:25.276Z"
   },
   {
    "duration": 111,
    "start_time": "2023-10-04T01:05:25.283Z"
   },
   {
    "duration": 56,
    "start_time": "2023-10-04T01:05:25.397Z"
   },
   {
    "duration": 160,
    "start_time": "2023-10-04T01:05:25.455Z"
   },
   {
    "duration": 94,
    "start_time": "2023-10-04T01:05:25.619Z"
   },
   {
    "duration": 4,
    "start_time": "2023-10-04T01:05:25.716Z"
   },
   {
    "duration": 33,
    "start_time": "2023-10-04T01:05:25.723Z"
   },
   {
    "duration": 79,
    "start_time": "2023-10-04T01:05:25.758Z"
   },
   {
    "duration": 33,
    "start_time": "2023-10-04T01:05:25.839Z"
   },
   {
    "duration": 642,
    "start_time": "2023-10-04T01:05:25.874Z"
   },
   {
    "duration": 4,
    "start_time": "2023-10-04T01:05:26.518Z"
   },
   {
    "duration": 29,
    "start_time": "2023-10-04T01:05:26.523Z"
   },
   {
    "duration": 199,
    "start_time": "2023-10-04T01:05:26.555Z"
   },
   {
    "duration": 11,
    "start_time": "2023-10-04T01:05:26.807Z"
   },
   {
    "duration": 136,
    "start_time": "2023-10-04T01:05:26.820Z"
   },
   {
    "duration": 6,
    "start_time": "2023-10-04T01:05:26.958Z"
   },
   {
    "duration": 162,
    "start_time": "2023-10-04T01:05:26.966Z"
   },
   {
    "duration": 6,
    "start_time": "2023-10-04T01:05:27.130Z"
   },
   {
    "duration": 142,
    "start_time": "2023-10-04T01:05:27.137Z"
   },
   {
    "duration": 755,
    "start_time": "2023-10-04T01:05:27.280Z"
   },
   {
    "duration": 123,
    "start_time": "2023-10-04T01:05:28.037Z"
   },
   {
    "duration": 62118,
    "start_time": "2023-10-04T01:05:28.162Z"
   },
   {
    "duration": 2935,
    "start_time": "2023-10-04T01:06:30.282Z"
   },
   {
    "duration": 8,
    "start_time": "2023-10-04T01:06:33.219Z"
   },
   {
    "duration": 133,
    "start_time": "2023-10-04T01:06:33.229Z"
   },
   {
    "duration": 25,
    "start_time": "2023-10-04T01:06:33.363Z"
   },
   {
    "duration": 5,
    "start_time": "2023-10-04T01:10:47.881Z"
   },
   {
    "duration": 2950,
    "start_time": "2023-10-04T01:10:51.381Z"
   },
   {
    "duration": 33,
    "start_time": "2023-10-04T01:10:56.928Z"
   },
   {
    "duration": 10,
    "start_time": "2023-10-04T01:10:59.598Z"
   },
   {
    "duration": 3,
    "start_time": "2023-10-04T01:11:03.335Z"
   },
   {
    "duration": 283,
    "start_time": "2023-10-04T01:11:04.598Z"
   },
   {
    "duration": 7,
    "start_time": "2023-10-04T01:11:08.995Z"
   },
   {
    "duration": 4,
    "start_time": "2023-10-04T01:11:13.028Z"
   },
   {
    "duration": 1926,
    "start_time": "2023-10-04T01:11:14.244Z"
   },
   {
    "duration": 21,
    "start_time": "2023-10-04T01:11:33.095Z"
   },
   {
    "duration": 3,
    "start_time": "2023-10-04T01:12:17.554Z"
   },
   {
    "duration": 1827,
    "start_time": "2023-10-04T01:12:18.798Z"
   },
   {
    "duration": 12,
    "start_time": "2023-10-04T01:12:21.481Z"
   },
   {
    "duration": 3,
    "start_time": "2023-10-04T01:14:18.510Z"
   },
   {
    "duration": 2191,
    "start_time": "2023-10-04T01:14:19.440Z"
   },
   {
    "duration": 12,
    "start_time": "2023-10-04T01:14:22.350Z"
   },
   {
    "duration": 4531,
    "start_time": "2023-10-04T01:14:33.767Z"
   },
   {
    "duration": 1838,
    "start_time": "2023-10-04T01:14:38.299Z"
   },
   {
    "duration": 35,
    "start_time": "2023-10-04T01:14:40.139Z"
   },
   {
    "duration": 21,
    "start_time": "2023-10-04T01:14:40.175Z"
   },
   {
    "duration": 15,
    "start_time": "2023-10-04T01:14:40.198Z"
   },
   {
    "duration": 250,
    "start_time": "2023-10-04T01:14:40.215Z"
   },
   {
    "duration": 7,
    "start_time": "2023-10-04T01:14:40.466Z"
   },
   {
    "duration": 19,
    "start_time": "2023-10-04T01:14:40.475Z"
   },
   {
    "duration": 2221,
    "start_time": "2023-10-04T01:14:40.495Z"
   },
   {
    "duration": 13,
    "start_time": "2023-10-04T01:14:42.717Z"
   },
   {
    "duration": 580,
    "start_time": "2023-10-04T01:14:42.732Z"
   },
   {
    "duration": 1125276,
    "start_time": "2023-10-04T01:14:43.315Z"
   },
   {
    "duration": 15,
    "start_time": "2023-10-04T01:33:28.601Z"
   },
   {
    "duration": 115,
    "start_time": "2023-10-04T01:33:28.619Z"
   },
   {
    "duration": 9,
    "start_time": "2023-10-04T01:33:28.737Z"
   },
   {
    "duration": 42,
    "start_time": "2023-10-04T01:33:28.747Z"
   },
   {
    "duration": 59,
    "start_time": "2023-10-04T01:33:28.790Z"
   },
   {
    "duration": 8,
    "start_time": "2023-10-04T01:33:28.851Z"
   },
   {
    "duration": 54,
    "start_time": "2023-10-04T01:33:28.860Z"
   },
   {
    "duration": 158,
    "start_time": "2023-10-04T01:33:28.917Z"
   },
   {
    "duration": 160,
    "start_time": "2023-10-04T01:33:29.076Z"
   },
   {
    "duration": 2,
    "start_time": "2023-10-04T01:33:29.238Z"
   },
   {
    "duration": 31,
    "start_time": "2023-10-04T01:33:29.242Z"
   },
   {
    "duration": 4876,
    "start_time": "2023-10-04T01:33:29.275Z"
   },
   {
    "duration": 5,
    "start_time": "2023-10-04T01:33:34.153Z"
   },
   {
    "duration": 245,
    "start_time": "2023-10-04T01:33:34.160Z"
   },
   {
    "duration": 120,
    "start_time": "2023-10-04T01:33:34.407Z"
   },
   {
    "duration": 34,
    "start_time": "2023-10-04T01:33:34.530Z"
   },
   {
    "duration": 406,
    "start_time": "2023-10-04T01:33:34.566Z"
   },
   {
    "duration": 4,
    "start_time": "2023-10-04T01:33:34.974Z"
   },
   {
    "duration": 18,
    "start_time": "2023-10-04T01:33:34.979Z"
   },
   {
    "duration": 39,
    "start_time": "2023-10-04T01:33:35.001Z"
   },
   {
    "duration": 51,
    "start_time": "2023-10-04T01:33:35.042Z"
   },
   {
    "duration": 4360,
    "start_time": "2023-10-04T01:33:35.095Z"
   },
   {
    "duration": 5,
    "start_time": "2023-10-04T01:33:39.456Z"
   },
   {
    "duration": 25,
    "start_time": "2023-10-04T01:33:39.463Z"
   },
   {
    "duration": 151,
    "start_time": "2023-10-04T01:33:39.490Z"
   },
   {
    "duration": 6,
    "start_time": "2023-10-04T01:33:39.643Z"
   },
   {
    "duration": 134,
    "start_time": "2023-10-04T01:33:39.651Z"
   },
   {
    "duration": 28,
    "start_time": "2023-10-04T01:33:39.787Z"
   },
   {
    "duration": 127,
    "start_time": "2023-10-04T01:33:39.820Z"
   },
   {
    "duration": 7,
    "start_time": "2023-10-04T01:33:39.949Z"
   },
   {
    "duration": 132,
    "start_time": "2023-10-04T01:33:39.958Z"
   },
   {
    "duration": 4516,
    "start_time": "2023-10-04T01:33:40.101Z"
   },
   {
    "duration": 8710,
    "start_time": "2023-10-04T01:33:44.619Z"
   },
   {
    "duration": 108167,
    "start_time": "2023-10-04T01:33:53.331Z"
   },
   {
    "duration": 34622,
    "start_time": "2023-10-04T01:35:41.501Z"
   },
   {
    "duration": 8,
    "start_time": "2023-10-04T01:36:16.125Z"
   },
   {
    "duration": 7892,
    "start_time": "2023-10-04T01:36:16.135Z"
   },
   {
    "duration": 26,
    "start_time": "2023-10-04T01:36:24.028Z"
   },
   {
    "duration": 8,
    "start_time": "2023-10-04T18:05:43.347Z"
   },
   {
    "duration": 11,
    "start_time": "2023-10-04T18:06:06.367Z"
   }
  ],
  "kernelspec": {
   "display_name": "Python 3 (ipykernel)",
   "language": "python",
   "name": "python3"
  },
  "language_info": {
   "codemirror_mode": {
    "name": "ipython",
    "version": 3
   },
   "file_extension": ".py",
   "mimetype": "text/x-python",
   "name": "python",
   "nbconvert_exporter": "python",
   "pygments_lexer": "ipython3",
   "version": "3.10.9"
  },
  "toc": {
   "base_numbering": 1,
   "nav_menu": {},
   "number_sections": true,
   "sideBar": true,
   "skip_h1_title": true,
   "title_cell": "Содержание",
   "title_sidebar": "Contents",
   "toc_cell": true,
   "toc_position": {
    "height": "calc(100% - 180px)",
    "left": "10px",
    "top": "150px",
    "width": "302.391px"
   },
   "toc_section_display": true,
   "toc_window_display": false
  }
 },
 "nbformat": 4,
 "nbformat_minor": 2
}
